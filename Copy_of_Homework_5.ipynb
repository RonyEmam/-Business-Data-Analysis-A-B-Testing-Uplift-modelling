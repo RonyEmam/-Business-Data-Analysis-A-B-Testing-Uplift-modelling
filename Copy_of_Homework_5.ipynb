{
  "nbformat": 4,
  "nbformat_minor": 0,
  "metadata": {
    "kernelspec": {
      "display_name": "Python 3",
      "language": "python",
      "name": "python3"
    },
    "language_info": {
      "codemirror_mode": {
        "name": "ipython",
        "version": 3
      },
      "file_extension": ".py",
      "mimetype": "text/x-python",
      "name": "python",
      "nbconvert_exporter": "python",
      "pygments_lexer": "ipython3",
      "version": "3.6.9"
    },
    "colab": {
      "name": "Copy of Homework_5.ipynb",
      "provenance": [],
      "collapsed_sections": []
    }
  },
  "cells": [
    {
      "cell_type": "markdown",
      "metadata": {
        "id": "hQvPUfggAGWw"
      },
      "source": [
        "<div class=\"alert alert-block alert-info\"><b></b>\n",
        "<h1><center> <font color='black'> Homework 05  </font></center></h1>\n",
        "<h2><center> <font color='black'> A/B Testing &  Uplift modelling </font></center></h2>   \n",
        "<h2><center> <font color='black'> MTAT.03.319 - Business Data Analytics</font></center></h2>\n",
        "</div>"
      ]
    },
    {
      "cell_type": "markdown",
      "metadata": {
        "id": "lJUv3F1KAGW7"
      },
      "source": [
        "# Homework instructions\n",
        "\n",
        "- Please provide the names and student IDs of the team-members (Maximum 2 person) in the field \"Team mates\" below. If you are not working in a team please insert only your name and student ID. \n",
        "\n",
        "- The accepted submission formats are Colab links or .ipynb files. If you are submitting Colab links please make sure that the privacy settings for the file is public so we can access your code. \n",
        "\n",
        "- The submission will automatically close on <font color='red'>**02 May at 23:59**</font>, so please make sure to submit before the deadline. \n",
        "\n",
        "- ONLY one of the teammates should submit the homework. We will grade the homework and the marks and feedback is applied for both the team members. So please communicate with your team member about marks and feedback if you are submit the homework.\n",
        "\n",
        "- If a question is not clear, please ask us in Moodle ONLY. \n",
        "\n",
        "- After you have finished solving the Homework, please restart the Kernel and run all the cells to check if there is any persisting issues. \n",
        "\n",
        "- Plagiarism is <font color='red'>**PROHIBITED**</font>. Any form of plagiarism will be dealt according to the university policy (https://www.ut.ee/en/current-students/academic-fraud).\n",
        "\n",
        "- Please <font color='red'>do not change</font> the template of this notebook file. You can download the .ipynb file and work on that.\n"
      ]
    },
    {
      "cell_type": "markdown",
      "metadata": {
        "id": "pyvLCyxpAGW9"
      },
      "source": [
        "**<h2><font color='red'>Team mates:</font></h2>**\n",
        "\n",
        "\n",
        "<font color='red'>Name: Mohga Soliman Emam </font>&emsp;   <font color='red'>Student ID: C09505 </font>\n",
        "\n",
        "\n",
        "<font color='red'>Name: Rawan Soliman Emam </font>&emsp;   <font color='red'>Student ID: C07851 </font>"
      ]
    },
    {
      "cell_type": "markdown",
      "metadata": {
        "id": "Q5egu0aiAGW9"
      },
      "source": [
        "### The homework is divided into four sections and the points are distributed as below:\n",
        "<pre>\n",
        "- A/B Testing               -> 5.0 points\n",
        "- Uplift modeling           -> 5.0 points\n",
        "________________________________________________\n",
        "Total                       -> 10.0 points\n",
        "</pre>"
      ]
    },
    {
      "cell_type": "markdown",
      "metadata": {
        "id": "brw7EC-FAGW-"
      },
      "source": [
        "# 1. A/B Testing (5 points)\n",
        "\n",
        "\n",
        "**1.1 Use `AB_clicks.csv` data and find whether Learn, Help, and Services versions of the page compared to the Interact have significantly more (or less) clicks. Justify the choice of the performed tests and interpret the result of the test. (1.5 points)** "
      ]
    },
    {
      "cell_type": "code",
      "metadata": {
        "id": "FsrJ_BtaAGW-"
      },
      "source": [
        "import numpy as np # linear algebra\n",
        "import pandas as pd # data processing, CSV file I/O (e.g. pd.read_csv)\n",
        "import seaborn as sns # For creating plots\n",
        "import matplotlib.ticker as mtick # For specifying the axes tick format \n",
        "import matplotlib.pyplot as plt # For creating plots\n",
        "%matplotlib inline "
      ],
      "execution_count": null,
      "outputs": []
    },
    {
      "cell_type": "code",
      "metadata": {
        "colab": {
          "base_uri": "https://localhost:8080/",
          "height": 416
        },
        "id": "_dyd46u5mY_G",
        "outputId": "3fc44ecc-cc4b-484b-969f-434f9652bbf6"
      },
      "source": [
        "df = pd.read_csv(\"https://raw.githubusercontent.com/RonyEmam/data/main/AB_clicks.csv\", sep=\"\\t\")\n",
        "df"
      ],
      "execution_count": null,
      "outputs": [
        {
          "output_type": "execute_result",
          "data": {
            "text/html": [
              "<div>\n",
              "<style scoped>\n",
              "    .dataframe tbody tr th:only-of-type {\n",
              "        vertical-align: middle;\n",
              "    }\n",
              "\n",
              "    .dataframe tbody tr th {\n",
              "        vertical-align: top;\n",
              "    }\n",
              "\n",
              "    .dataframe thead th {\n",
              "        text-align: right;\n",
              "    }\n",
              "</style>\n",
              "<table border=\"1\" class=\"dataframe\">\n",
              "  <thead>\n",
              "    <tr style=\"text-align: right;\">\n",
              "      <th></th>\n",
              "      <th>Element_ID</th>\n",
              "      <th>Tag_name</th>\n",
              "      <th>Name</th>\n",
              "      <th>No_clicks</th>\n",
              "      <th>Visible</th>\n",
              "      <th>Version</th>\n",
              "    </tr>\n",
              "  </thead>\n",
              "  <tbody>\n",
              "    <tr>\n",
              "      <th>0</th>\n",
              "      <td>128</td>\n",
              "      <td>area</td>\n",
              "      <td>Montana State University - Home</td>\n",
              "      <td>1291</td>\n",
              "      <td>False</td>\n",
              "      <td>Interact</td>\n",
              "    </tr>\n",
              "    <tr>\n",
              "      <th>1</th>\n",
              "      <td>69</td>\n",
              "      <td>a</td>\n",
              "      <td>FIND</td>\n",
              "      <td>842</td>\n",
              "      <td>True</td>\n",
              "      <td>Interact</td>\n",
              "    </tr>\n",
              "    <tr>\n",
              "      <th>2</th>\n",
              "      <td>61</td>\n",
              "      <td>input</td>\n",
              "      <td>s.q</td>\n",
              "      <td>508</td>\n",
              "      <td>True</td>\n",
              "      <td>Interact</td>\n",
              "    </tr>\n",
              "    <tr>\n",
              "      <th>3</th>\n",
              "      <td>67</td>\n",
              "      <td>a</td>\n",
              "      <td>lib.montana.edu/find/</td>\n",
              "      <td>166</td>\n",
              "      <td>True</td>\n",
              "      <td>Interact</td>\n",
              "    </tr>\n",
              "    <tr>\n",
              "      <th>4</th>\n",
              "      <td>78</td>\n",
              "      <td>a</td>\n",
              "      <td>REQUEST</td>\n",
              "      <td>151</td>\n",
              "      <td>True</td>\n",
              "      <td>Interact</td>\n",
              "    </tr>\n",
              "    <tr>\n",
              "      <th>...</th>\n",
              "      <td>...</td>\n",
              "      <td>...</td>\n",
              "      <td>...</td>\n",
              "      <td>...</td>\n",
              "      <td>...</td>\n",
              "      <td>...</td>\n",
              "    </tr>\n",
              "    <tr>\n",
              "      <th>294</th>\n",
              "      <td>116</td>\n",
              "      <td>div</td>\n",
              "      <td>Â© MSU About MSU Library Accessibility Contact...</td>\n",
              "      <td>1</td>\n",
              "      <td>True</td>\n",
              "      <td>Services</td>\n",
              "    </tr>\n",
              "    <tr>\n",
              "      <th>295</th>\n",
              "      <td>130</td>\n",
              "      <td>div</td>\n",
              "      <td>lib.montana.edu/interact/</td>\n",
              "      <td>1</td>\n",
              "      <td>False</td>\n",
              "      <td>Services</td>\n",
              "    </tr>\n",
              "    <tr>\n",
              "      <th>296</th>\n",
              "      <td>131</td>\n",
              "      <td>center</td>\n",
              "      <td>lib.montana.edu/hours/</td>\n",
              "      <td>1</td>\n",
              "      <td>False</td>\n",
              "      <td>Services</td>\n",
              "    </tr>\n",
              "    <tr>\n",
              "      <th>297</th>\n",
              "      <td>132</td>\n",
              "      <td>font</td>\n",
              "      <td>ì§€ì €ê·€ë‹¤</td>\n",
              "      <td>1</td>\n",
              "      <td>False</td>\n",
              "      <td>Services</td>\n",
              "    </tr>\n",
              "    <tr>\n",
              "      <th>298</th>\n",
              "      <td>133</td>\n",
              "      <td>a</td>\n",
              "      <td>6/18 Excel 2010: Formulas and Functions [webinar]</td>\n",
              "      <td>1</td>\n",
              "      <td>False</td>\n",
              "      <td>Services</td>\n",
              "    </tr>\n",
              "  </tbody>\n",
              "</table>\n",
              "<p>299 rows × 6 columns</p>\n",
              "</div>"
            ],
            "text/plain": [
              "     Element_ID Tag_name  ... Visible   Version\n",
              "0           128     area  ...   False  Interact\n",
              "1            69        a  ...    True  Interact\n",
              "2            61    input  ...    True  Interact\n",
              "3            67        a  ...    True  Interact\n",
              "4            78        a  ...    True  Interact\n",
              "..          ...      ...  ...     ...       ...\n",
              "294         116      div  ...    True  Services\n",
              "295         130      div  ...   False  Services\n",
              "296         131   center  ...   False  Services\n",
              "297         132     font  ...   False  Services\n",
              "298         133        a  ...   False  Services\n",
              "\n",
              "[299 rows x 6 columns]"
            ]
          },
          "metadata": {
            "tags": []
          },
          "execution_count": 2
        }
      ]
    },
    {
      "cell_type": "code",
      "metadata": {
        "colab": {
          "base_uri": "https://localhost:8080/",
          "height": 449
        },
        "id": "O67whK5XTo5H",
        "outputId": "dbb61bf1-f5b7-4b0b-cba8-c83960ebd8d5"
      },
      "source": [
        "# group data by Version\n",
        "groups = df.groupby('Version')\n",
        "\n",
        "# Plot \n",
        "fig, ax = plt.subplots(figsize=(8, 6))\n",
        "\n",
        "clicks =[] # clicks for each version\n",
        "# plot line for each customer \n",
        "for Version, group in groups:\n",
        "    ax.bar(group.Version, sum(group.No_clicks), label=Version)\n",
        "    clicks.append(sum(group.No_clicks))\n",
        "    \n",
        "\n",
        "\n",
        "# Make our graph cool, and understandable\n",
        "\n",
        "# put the legend outside the graph\n",
        "ax.legend(bbox_to_anchor=(1.3, 0.7), title=\"Version\",)\n",
        "\n",
        "\n",
        "    \n",
        "# set titles for figure, x, y\n",
        "plt.title('Number of clicks per version',fontsize=20)\n",
        "plt.xlabel('\\nVersion', fontsize=20)\n",
        "plt.ylabel('Amount of clicks',fontsize=20)\n",
        "\n",
        "\n",
        "plt.xticks(fontsize = 20) \n",
        "plt.yticks(fontsize = 20) \n",
        "plt.grid(True)\n",
        "plt.show()"
      ],
      "execution_count": null,
      "outputs": [
        {
          "output_type": "display_data",
          "data": {
            "image/png": "[encoded data removed]",
            "text/plain": [
              "<Figure size 576x432 with 1 Axes>"
            ]
          },
          "metadata": {
            "tags": [],
            "needs_background": "light"
          }
        }
      ]
    },
    {
      "cell_type": "code",
      "metadata": {
        "colab": {
          "base_uri": "https://localhost:8080/",
          "height": 558
        },
        "id": "GDG_rnUWTrDH",
        "outputId": "a24b39a7-565e-42be-cfa6-07ec1103e186"
      },
      "source": [
        "# filter our data based on buttons name\n",
        "btn_names = [\"INTERACT\", \"LEARN\", \"CONNECT\", \"HELP\", \"SERVICES\"] # btn Interact with different names \n",
        "\n",
        "newdf = df[df['Name'].isin(btn_names)] # filter data based on btn names \n",
        "\n",
        "\n",
        "# Plot\n",
        "fig, ax = plt.subplots(figsize=(10, 8))\n",
        "\n",
        "ax.bar(newdf.Version, newdf.No_clicks, color='b', alpha = 0.4)\n",
        "    \n",
        "    \n",
        "# set titles for figure, x, y\n",
        "plt.title('Number of clicks on each button',fontsize=20)\n",
        "plt.xlabel('\\nVersion', fontsize=20)\n",
        "plt.ylabel('Amount of clicks',fontsize=20)\n",
        "\n",
        "\n",
        "plt.xticks(fontsize = 20) \n",
        "plt.yticks(fontsize = 20) \n",
        "plt.grid(True)\n",
        "plt.show()"
      ],
      "execution_count": null,
      "outputs": [
        {
          "output_type": "display_data",
          "data": {
            "image/png": "[encoded data removed]",
            "text/plain": [
              "<Figure size 720x576 with 1 Axes>"
            ]
          },
          "metadata": {
            "tags": [],
            "needs_background": "light"
          }
        }
      ]
    },
    {
      "cell_type": "code",
      "metadata": {
        "colab": {
          "base_uri": "https://localhost:8080/",
          "height": 421
        },
        "id": "Tc4j7KOITtgV",
        "outputId": "427a7f9a-d674-49d9-88d2-57915592c311"
      },
      "source": [
        "fig, ax = plt.subplots(figsize=(8, 6))\n",
        "\n",
        "ax = sns.kdeplot(df.No_clicks[(df[\"Version\"] == 'Interact') ],\n",
        "                 shade = True)\n",
        "ax = sns.kdeplot(df.No_clicks[(df[\"Version\"] == 'Connect') ],\n",
        "                ax =ax,  shade= True)\n",
        "ax = sns.kdeplot(df.No_clicks[(df[\"Version\"] == 'Services') ],\n",
        "                 shade = True)\n",
        "ax = sns.kdeplot(df.No_clicks[(df[\"Version\"] == 'Help') ],\n",
        "                ax =ax,  shade= True)\n",
        "ax = sns.kdeplot(df.No_clicks[(df[\"Version\"] == 'Learn') ],\n",
        "                ax =ax,  shade= True)\n",
        "\n",
        "ax.legend([\"Interact\",\"Connect\", \"Services\", \"Help\", \"Learn\"],loc='upper right')\n",
        "ax.set_ylabel('Density')\n",
        "ax.set_xlabel('No of Clicks')\n",
        "#ax.set_xscale('log')\n",
        "ax.set_title('Distribution of No_clicks')"
      ],
      "execution_count": null,
      "outputs": [
        {
          "output_type": "execute_result",
          "data": {
            "text/plain": [
              "Text(0.5, 1.0, 'Distribution of No_clicks')"
            ]
          },
          "metadata": {
            "tags": []
          },
          "execution_count": 5
        },
        {
          "output_type": "display_data",
          "data": {
            "image/png": "[encoded data removed]",
            "text/plain": [
              "<Figure size 576x432 with 1 Axes>"
            ]
          },
          "metadata": {
            "tags": [],
            "needs_background": "light"
          }
        }
      ]
    },
    {
      "cell_type": "code",
      "metadata": {
        "colab": {
          "base_uri": "https://localhost:8080/",
          "height": 425
        },
        "id": "xwWfNZUlTveD",
        "outputId": "2e564de5-38b5-4b81-fec5-eab86f4105c8"
      },
      "source": [
        "fig, ax = plt.subplots(figsize=(8, 6))\n",
        "\n",
        "ax = sns.kdeplot(df.No_clicks[(df[\"Version\"] == 'Interact') ],\n",
        "                 shade = True)\n",
        "ax = sns.kdeplot(df.No_clicks[(df[\"Version\"] == 'Connect') ],\n",
        "                ax =ax,  shade= True)\n",
        "ax = sns.kdeplot(df.No_clicks[(df[\"Version\"] == 'Services') ],\n",
        "                 shade = True)\n",
        "ax = sns.kdeplot(df.No_clicks[(df[\"Version\"] == 'Help') ],\n",
        "                ax =ax,  shade= True)\n",
        "ax = sns.kdeplot(df.No_clicks[(df[\"Version\"] == 'Learn') ],\n",
        "                ax =ax,  shade= True)\n",
        "   \n",
        "\n",
        "\n",
        "ax.legend([\"Interact\",\"Connect\", \"Services\", \"Help\", \"Learn\"],loc='upper right')\n",
        "ax.set_ylabel('Density')\n",
        "ax.set_xlabel('No of Clicks')\n",
        "ax.set_xscale('log')\n",
        "ax.set_title('Distribution of No_clicks')"
      ],
      "execution_count": null,
      "outputs": [
        {
          "output_type": "execute_result",
          "data": {
            "text/plain": [
              "Text(0.5, 1.0, 'Distribution of No_clicks')"
            ]
          },
          "metadata": {
            "tags": []
          },
          "execution_count": 6
        },
        {
          "output_type": "display_data",
          "data": {
            "image/png": "[encoded data removed]",
            "text/plain": [
              "<Figure size 576x432 with 1 Axes>"
            ]
          },
          "metadata": {
            "tags": [],
            "needs_background": "light"
          }
        }
      ]
    },
    {
      "cell_type": "markdown",
      "metadata": {
        "id": "Kc2vTVMeTyWQ"
      },
      "source": [
        "we can see that the data isn't normally distributed so I need to choose tests like wilcoxon test (no normality assumption), and chi-squared"
      ]
    },
    {
      "cell_type": "code",
      "metadata": {
        "colab": {
          "base_uri": "https://localhost:8080/",
          "height": 144
        },
        "id": "4rgmKXdrT0W5",
        "outputId": "d30ac3e9-cfec-4676-efd5-2f879c320519"
      },
      "source": [
        "from numpy.random import seed\n",
        "from numpy.random import randn\n",
        "from scipy.stats import wilcoxon\n",
        "from plotly.figure_factory import create_table as ct\n",
        "\n",
        "\n",
        "seed(1)\n",
        "\n",
        "\n",
        "# compare samples\n",
        "stat, p = wilcoxon(df['No_clicks'])\n",
        "print(f'Statistics= {stat}, p-value= {p}')\n",
        "\n",
        "matrix_twosample = [\n",
        "    ['', 'wilcoxon_test', 'p-value'],\n",
        "    ['Sample Data', stat, p]\n",
        "]\n",
        "\n",
        "twosample_table = ct(matrix_twosample, index=True)\n",
        "twosample_table\n"
      ],
      "execution_count": null,
      "outputs": [
        {
          "output_type": "stream",
          "text": [
            "Statistics= 0.0, p-value= 3.933090496782572e-51\n"
          ],
          "name": "stdout"
        },
        {
          "output_type": "display_data",
          "data": {
            "text/html": [
              "<html>\n",
              "<head><meta charset=\"utf-8\" /></head>\n",
              "<body>\n",
              "    <div>\n",
              "            <script src=\"https://cdnjs.cloudflare.com/ajax/libs/mathjax/2.7.5/MathJax.js?config=TeX-AMS-MML_SVG\"></script><script type=\"text/javascript\">if (window.MathJax) {MathJax.Hub.Config({SVG: {font: \"STIX-Web\"}});}</script>\n",
              "                <script type=\"text/javascript\">window.PlotlyConfig = {MathJaxConfig: 'local'};</script>\n",
              "        <script src=\"https://cdn.plot.ly/plotly-latest.min.js\"></script>    \n",
              "            <div id=\"bb55949e-2fb5-4283-8e3d-765fe35b7397\" class=\"plotly-graph-div\" style=\"height:110px; width:100%;\"></div>\n",
              "            <script type=\"text/javascript\">\n",
              "                \n",
              "                    window.PLOTLYENV=window.PLOTLYENV || {};\n",
              "                    \n",
              "                if (document.getElementById(\"bb55949e-2fb5-4283-8e3d-765fe35b7397\")) {\n",
              "                    Plotly.newPlot(\n",
              "                        'bb55949e-2fb5-4283-8e3d-765fe35b7397',\n",
              "                        [{\"colorscale\": [[0, \"#00083e\"], [0.5, \"#ededee\"], [1, \"#ffffff\"]], \"hoverinfo\": \"none\", \"opacity\": 0.75, \"showscale\": false, \"type\": \"heatmap\", \"z\": [[0, 0, 0], [0, 0.5, 0.5]]}],\n",
              "                        {\"annotations\": [{\"align\": \"left\", \"font\": {\"color\": \"#ffffff\"}, \"showarrow\": false, \"text\": \"<b></b>\", \"x\": -0.45, \"xanchor\": \"left\", \"xref\": \"x\", \"y\": 0, \"yref\": \"y\"}, {\"align\": \"left\", \"font\": {\"color\": \"#ffffff\"}, \"showarrow\": false, \"text\": \"<b>wilcoxon_test</b>\", \"x\": 0.55, \"xanchor\": \"left\", \"xref\": \"x\", \"y\": 0, \"yref\": \"y\"}, {\"align\": \"left\", \"font\": {\"color\": \"#ffffff\"}, \"showarrow\": false, \"text\": \"<b>p-value</b>\", \"x\": 1.55, \"xanchor\": \"left\", \"xref\": \"x\", \"y\": 0, \"yref\": \"y\"}, {\"align\": \"left\", \"font\": {\"color\": \"#ffffff\"}, \"showarrow\": false, \"text\": \"<b>Sample Data</b>\", \"x\": -0.45, \"xanchor\": \"left\", \"xref\": \"x\", \"y\": 1, \"yref\": \"y\"}, {\"align\": \"left\", \"font\": {\"color\": \"#000000\"}, \"showarrow\": false, \"text\": \"0.0\", \"x\": 0.55, \"xanchor\": \"left\", \"xref\": \"x\", \"y\": 1, \"yref\": \"y\"}, {\"align\": \"left\", \"font\": {\"color\": \"#000000\"}, \"showarrow\": false, \"text\": \"3.933090496782572e-51\", \"x\": 1.55, \"xanchor\": \"left\", \"xref\": \"x\", \"y\": 1, \"yref\": \"y\"}], \"height\": 110, \"margin\": {\"b\": 0, \"l\": 0, \"r\": 0, \"t\": 0}, \"template\": {\"data\": {\"bar\": [{\"error_x\": {\"color\": \"#2a3f5f\"}, \"error_y\": {\"color\": \"#2a3f5f\"}, \"marker\": {\"line\": {\"color\": \"#E5ECF6\", \"width\": 0.5}}, \"type\": \"bar\"}], \"barpolar\": [{\"marker\": {\"line\": {\"color\": \"#E5ECF6\", \"width\": 0.5}}, \"type\": \"barpolar\"}], \"carpet\": [{\"aaxis\": {\"endlinecolor\": \"#2a3f5f\", \"gridcolor\": \"white\", \"linecolor\": \"white\", \"minorgridcolor\": \"white\", \"startlinecolor\": \"#2a3f5f\"}, \"baxis\": {\"endlinecolor\": \"#2a3f5f\", \"gridcolor\": \"white\", \"linecolor\": \"white\", \"minorgridcolor\": \"white\", \"startlinecolor\": \"#2a3f5f\"}, \"type\": \"carpet\"}], \"choropleth\": [{\"colorbar\": {\"outlinewidth\": 0, \"ticks\": \"\"}, \"type\": \"choropleth\"}], \"contour\": [{\"colorbar\": {\"outlinewidth\": 0, \"ticks\": \"\"}, \"colorscale\": [[0.0, \"#0d0887\"], [0.1111111111111111, \"#46039f\"], [0.2222222222222222, \"#7201a8\"], [0.3333333333333333, \"#9c179e\"], [0.4444444444444444, \"#bd3786\"], [0.5555555555555556, \"#d8576b\"], [0.6666666666666666, \"#ed7953\"], [0.7777777777777778, \"#fb9f3a\"], [0.8888888888888888, \"#fdca26\"], [1.0, \"#f0f921\"]], \"type\": \"contour\"}], \"contourcarpet\": [{\"colorbar\": {\"outlinewidth\": 0, \"ticks\": \"\"}, \"type\": \"contourcarpet\"}], \"heatmap\": [{\"colorbar\": {\"outlinewidth\": 0, \"ticks\": \"\"}, \"colorscale\": [[0.0, \"#0d0887\"], [0.1111111111111111, \"#46039f\"], [0.2222222222222222, \"#7201a8\"], [0.3333333333333333, \"#9c179e\"], [0.4444444444444444, \"#bd3786\"], [0.5555555555555556, \"#d8576b\"], [0.6666666666666666, \"#ed7953\"], [0.7777777777777778, \"#fb9f3a\"], [0.8888888888888888, \"#fdca26\"], [1.0, \"#f0f921\"]], \"type\": \"heatmap\"}], \"heatmapgl\": [{\"colorbar\": {\"outlinewidth\": 0, \"ticks\": \"\"}, \"colorscale\": [[0.0, \"#0d0887\"], [0.1111111111111111, \"#46039f\"], [0.2222222222222222, \"#7201a8\"], [0.3333333333333333, \"#9c179e\"], [0.4444444444444444, \"#bd3786\"], [0.5555555555555556, \"#d8576b\"], [0.6666666666666666, \"#ed7953\"], [0.7777777777777778, \"#fb9f3a\"], [0.8888888888888888, \"#fdca26\"], [1.0, \"#f0f921\"]], \"type\": \"heatmapgl\"}], \"histogram\": [{\"marker\": {\"colorbar\": {\"outlinewidth\": 0, \"ticks\": \"\"}}, \"type\": \"histogram\"}], \"histogram2d\": [{\"colorbar\": {\"outlinewidth\": 0, \"ticks\": \"\"}, \"colorscale\": [[0.0, \"#0d0887\"], [0.1111111111111111, \"#46039f\"], [0.2222222222222222, \"#7201a8\"], [0.3333333333333333, \"#9c179e\"], [0.4444444444444444, \"#bd3786\"], [0.5555555555555556, \"#d8576b\"], [0.6666666666666666, \"#ed7953\"], [0.7777777777777778, \"#fb9f3a\"], [0.8888888888888888, \"#fdca26\"], [1.0, \"#f0f921\"]], \"type\": \"histogram2d\"}], \"histogram2dcontour\": [{\"colorbar\": {\"outlinewidth\": 0, \"ticks\": \"\"}, \"colorscale\": [[0.0, \"#0d0887\"], [0.1111111111111111, \"#46039f\"], [0.2222222222222222, \"#7201a8\"], [0.3333333333333333, \"#9c179e\"], [0.4444444444444444, \"#bd3786\"], [0.5555555555555556, \"#d8576b\"], [0.6666666666666666, \"#ed7953\"], [0.7777777777777778, \"#fb9f3a\"], [0.8888888888888888, \"#fdca26\"], [1.0, \"#f0f921\"]], \"type\": \"histogram2dcontour\"}], \"mesh3d\": [{\"colorbar\": {\"outlinewidth\": 0, \"ticks\": \"\"}, \"type\": \"mesh3d\"}], \"parcoords\": [{\"line\": {\"colorbar\": {\"outlinewidth\": 0, \"ticks\": \"\"}}, \"type\": \"parcoords\"}], \"pie\": [{\"automargin\": true, \"type\": \"pie\"}], \"scatter\": [{\"marker\": {\"colorbar\": {\"outlinewidth\": 0, \"ticks\": \"\"}}, \"type\": \"scatter\"}], \"scatter3d\": [{\"line\": {\"colorbar\": {\"outlinewidth\": 0, \"ticks\": \"\"}}, \"marker\": {\"colorbar\": {\"outlinewidth\": 0, \"ticks\": \"\"}}, \"type\": \"scatter3d\"}], \"scattercarpet\": [{\"marker\": {\"colorbar\": {\"outlinewidth\": 0, \"ticks\": \"\"}}, \"type\": \"scattercarpet\"}], \"scattergeo\": [{\"marker\": {\"colorbar\": {\"outlinewidth\": 0, \"ticks\": \"\"}}, \"type\": \"scattergeo\"}], \"scattergl\": [{\"marker\": {\"colorbar\": {\"outlinewidth\": 0, \"ticks\": \"\"}}, \"type\": \"scattergl\"}], \"scattermapbox\": [{\"marker\": {\"colorbar\": {\"outlinewidth\": 0, \"ticks\": \"\"}}, \"type\": \"scattermapbox\"}], \"scatterpolar\": [{\"marker\": {\"colorbar\": {\"outlinewidth\": 0, \"ticks\": \"\"}}, \"type\": \"scatterpolar\"}], \"scatterpolargl\": [{\"marker\": {\"colorbar\": {\"outlinewidth\": 0, \"ticks\": \"\"}}, \"type\": \"scatterpolargl\"}], \"scatterternary\": [{\"marker\": {\"colorbar\": {\"outlinewidth\": 0, \"ticks\": \"\"}}, \"type\": \"scatterternary\"}], \"surface\": [{\"colorbar\": {\"outlinewidth\": 0, \"ticks\": \"\"}, \"colorscale\": [[0.0, \"#0d0887\"], [0.1111111111111111, \"#46039f\"], [0.2222222222222222, \"#7201a8\"], [0.3333333333333333, \"#9c179e\"], [0.4444444444444444, \"#bd3786\"], [0.5555555555555556, \"#d8576b\"], [0.6666666666666666, \"#ed7953\"], [0.7777777777777778, \"#fb9f3a\"], [0.8888888888888888, \"#fdca26\"], [1.0, \"#f0f921\"]], \"type\": \"surface\"}], \"table\": [{\"cells\": {\"fill\": {\"color\": \"#EBF0F8\"}, \"line\": {\"color\": \"white\"}}, \"header\": {\"fill\": {\"color\": \"#C8D4E3\"}, \"line\": {\"color\": \"white\"}}, \"type\": \"table\"}]}, \"layout\": {\"annotationdefaults\": {\"arrowcolor\": \"#2a3f5f\", \"arrowhead\": 0, \"arrowwidth\": 1}, \"coloraxis\": {\"colorbar\": {\"outlinewidth\": 0, \"ticks\": \"\"}}, \"colorscale\": {\"diverging\": [[0, \"#8e0152\"], [0.1, \"#c51b7d\"], [0.2, \"#de77ae\"], [0.3, \"#f1b6da\"], [0.4, \"#fde0ef\"], [0.5, \"#f7f7f7\"], [0.6, \"#e6f5d0\"], [0.7, \"#b8e186\"], [0.8, \"#7fbc41\"], [0.9, \"#4d9221\"], [1, \"#276419\"]], \"sequential\": [[0.0, \"#0d0887\"], [0.1111111111111111, \"#46039f\"], [0.2222222222222222, \"#7201a8\"], [0.3333333333333333, \"#9c179e\"], [0.4444444444444444, \"#bd3786\"], [0.5555555555555556, \"#d8576b\"], [0.6666666666666666, \"#ed7953\"], [0.7777777777777778, \"#fb9f3a\"], [0.8888888888888888, \"#fdca26\"], [1.0, \"#f0f921\"]], \"sequentialminus\": [[0.0, \"#0d0887\"], [0.1111111111111111, \"#46039f\"], [0.2222222222222222, \"#7201a8\"], [0.3333333333333333, \"#9c179e\"], [0.4444444444444444, \"#bd3786\"], [0.5555555555555556, \"#d8576b\"], [0.6666666666666666, \"#ed7953\"], [0.7777777777777778, \"#fb9f3a\"], [0.8888888888888888, \"#fdca26\"], [1.0, \"#f0f921\"]]}, \"colorway\": [\"#636efa\", \"#EF553B\", \"#00cc96\", \"#ab63fa\", \"#FFA15A\", \"#19d3f3\", \"#FF6692\", \"#B6E880\", \"#FF97FF\", \"#FECB52\"], \"font\": {\"color\": \"#2a3f5f\"}, \"geo\": {\"bgcolor\": \"white\", \"lakecolor\": \"white\", \"landcolor\": \"#E5ECF6\", \"showlakes\": true, \"showland\": true, \"subunitcolor\": \"white\"}, \"hoverlabel\": {\"align\": \"left\"}, \"hovermode\": \"closest\", \"mapbox\": {\"style\": \"light\"}, \"paper_bgcolor\": \"white\", \"plot_bgcolor\": \"#E5ECF6\", \"polar\": {\"angularaxis\": {\"gridcolor\": \"white\", \"linecolor\": \"white\", \"ticks\": \"\"}, \"bgcolor\": \"#E5ECF6\", \"radialaxis\": {\"gridcolor\": \"white\", \"linecolor\": \"white\", \"ticks\": \"\"}}, \"scene\": {\"xaxis\": {\"backgroundcolor\": \"#E5ECF6\", \"gridcolor\": \"white\", \"gridwidth\": 2, \"linecolor\": \"white\", \"showbackground\": true, \"ticks\": \"\", \"zerolinecolor\": \"white\"}, \"yaxis\": {\"backgroundcolor\": \"#E5ECF6\", \"gridcolor\": \"white\", \"gridwidth\": 2, \"linecolor\": \"white\", \"showbackground\": true, \"ticks\": \"\", \"zerolinecolor\": \"white\"}, \"zaxis\": {\"backgroundcolor\": \"#E5ECF6\", \"gridcolor\": \"white\", \"gridwidth\": 2, \"linecolor\": \"white\", \"showbackground\": true, \"ticks\": \"\", \"zerolinecolor\": \"white\"}}, \"shapedefaults\": {\"line\": {\"color\": \"#2a3f5f\"}}, \"ternary\": {\"aaxis\": {\"gridcolor\": \"white\", \"linecolor\": \"white\", \"ticks\": \"\"}, \"baxis\": {\"gridcolor\": \"white\", \"linecolor\": \"white\", \"ticks\": \"\"}, \"bgcolor\": \"#E5ECF6\", \"caxis\": {\"gridcolor\": \"white\", \"linecolor\": \"white\", \"ticks\": \"\"}}, \"title\": {\"x\": 0.05}, \"xaxis\": {\"automargin\": true, \"gridcolor\": \"white\", \"linecolor\": \"white\", \"ticks\": \"\", \"title\": {\"standoff\": 15}, \"zerolinecolor\": \"white\", \"zerolinewidth\": 2}, \"yaxis\": {\"automargin\": true, \"gridcolor\": \"white\", \"linecolor\": \"white\", \"ticks\": \"\", \"title\": {\"standoff\": 15}, \"zerolinecolor\": \"white\", \"zerolinewidth\": 2}}}, \"xaxis\": {\"dtick\": 1, \"gridwidth\": 2, \"showticklabels\": false, \"tick0\": -0.5, \"ticks\": \"\", \"zeroline\": false}, \"yaxis\": {\"autorange\": \"reversed\", \"dtick\": 1, \"gridwidth\": 2, \"showticklabels\": false, \"tick0\": 0.5, \"ticks\": \"\", \"zeroline\": false}},\n",
              "                        {\"responsive\": true}\n",
              "                    ).then(function(){\n",
              "                            \n",
              "var gd = document.getElementById('bb55949e-2fb5-4283-8e3d-765fe35b7397');\n",
              "var x = new MutationObserver(function (mutations, observer) {{\n",
              "        var display = window.getComputedStyle(gd).display;\n",
              "        if (!display || display === 'none') {{\n",
              "            console.log([gd, 'removed!']);\n",
              "            Plotly.purge(gd);\n",
              "            observer.disconnect();\n",
              "        }}\n",
              "}});\n",
              "\n",
              "// Listen for the removal of the full notebook cells\n",
              "var notebookContainer = gd.closest('#notebook-container');\n",
              "if (notebookContainer) {{\n",
              "    x.observe(notebookContainer, {childList: true});\n",
              "}}\n",
              "\n",
              "// Listen for the clearing of the current output cell\n",
              "var outputEl = gd.closest('.output');\n",
              "if (outputEl) {{\n",
              "    x.observe(outputEl, {childList: true});\n",
              "}}\n",
              "\n",
              "                        })\n",
              "                };\n",
              "                \n",
              "            </script>\n",
              "        </div>\n",
              "</body>\n",
              "</html>"
            ]
          },
          "metadata": {
            "tags": []
          }
        }
      ]
    },
    {
      "cell_type": "code",
      "metadata": {
        "colab": {
          "base_uri": "https://localhost:8080/"
        },
        "id": "1VvU1zQDT2e7",
        "outputId": "c1f8bdc5-fab6-40f1-9afa-dfff2ea9211d"
      },
      "source": [
        "# interpret\n",
        "alpha = 0.05\n",
        "if p > alpha:\n",
        "    print('Same distribution (fail to reject H0)')\n",
        "else:\n",
        "    print('Different distribution (reject H0)')"
      ],
      "execution_count": null,
      "outputs": [
        {
          "output_type": "stream",
          "text": [
            "Different distribution (reject H0)\n"
          ],
          "name": "stdout"
        }
      ]
    },
    {
      "cell_type": "markdown",
      "metadata": {
        "id": "iCF5MHquT4yf"
      },
      "source": [
        "Based on the wilcoxon we see that we reject the H0 hybosis which indecates that The Learn, Help, and Service versions have the same conversion as the interact version."
      ]
    },
    {
      "cell_type": "code",
      "metadata": {
        "id": "RT6x8sfhT6y3"
      },
      "source": [
        "groups = df.groupby('Version')\n",
        "clicks = []\n",
        "for Version,group in groups:\n",
        "    clicks.append(sum(group.No_clicks))    "
      ],
      "execution_count": null,
      "outputs": []
    },
    {
      "cell_type": "code",
      "metadata": {
        "colab": {
          "base_uri": "https://localhost:8080/",
          "height": 237
        },
        "id": "pGk4pO6XT8oe",
        "outputId": "89fcca97-6bee-46e7-c604-077c8627913d"
      },
      "source": [
        "total_clicks = sum(clicks)\n",
        "print(total_clicks)\n",
        "\n",
        "prop = []\n",
        "for c in clicks:\n",
        "    prop.append(c/total_clicks)\n",
        "\n",
        "print(prop)\n",
        "\n",
        "mydict = {\n",
        "    \"Version\": [\"Connect\",\"Help\",\"Interact\",\"Learn\",\"Services\"],\n",
        "    \"total_clicks_visited\": clicks\n",
        "}\n",
        "\n",
        "df1 = pd.DataFrame(mydict)\n",
        "df1"
      ],
      "execution_count": null,
      "outputs": [
        {
          "output_type": "stream",
          "text": [
            "10018\n",
            "[0.15841485326412458, 0.1713914953084448, 0.370732681173887, 0.16490317428628468, 0.13455779596725895]\n"
          ],
          "name": "stdout"
        },
        {
          "output_type": "execute_result",
          "data": {
            "text/html": [
              "<div>\n",
              "<style scoped>\n",
              "    .dataframe tbody tr th:only-of-type {\n",
              "        vertical-align: middle;\n",
              "    }\n",
              "\n",
              "    .dataframe tbody tr th {\n",
              "        vertical-align: top;\n",
              "    }\n",
              "\n",
              "    .dataframe thead th {\n",
              "        text-align: right;\n",
              "    }\n",
              "</style>\n",
              "<table border=\"1\" class=\"dataframe\">\n",
              "  <thead>\n",
              "    <tr style=\"text-align: right;\">\n",
              "      <th></th>\n",
              "      <th>Version</th>\n",
              "      <th>total_clicks_visited</th>\n",
              "    </tr>\n",
              "  </thead>\n",
              "  <tbody>\n",
              "    <tr>\n",
              "      <th>0</th>\n",
              "      <td>Connect</td>\n",
              "      <td>1587</td>\n",
              "    </tr>\n",
              "    <tr>\n",
              "      <th>1</th>\n",
              "      <td>Help</td>\n",
              "      <td>1717</td>\n",
              "    </tr>\n",
              "    <tr>\n",
              "      <th>2</th>\n",
              "      <td>Interact</td>\n",
              "      <td>3714</td>\n",
              "    </tr>\n",
              "    <tr>\n",
              "      <th>3</th>\n",
              "      <td>Learn</td>\n",
              "      <td>1652</td>\n",
              "    </tr>\n",
              "    <tr>\n",
              "      <th>4</th>\n",
              "      <td>Services</td>\n",
              "      <td>1348</td>\n",
              "    </tr>\n",
              "  </tbody>\n",
              "</table>\n",
              "</div>"
            ],
            "text/plain": [
              "    Version  total_clicks_visited\n",
              "0   Connect                  1587\n",
              "1      Help                  1717\n",
              "2  Interact                  3714\n",
              "3     Learn                  1652\n",
              "4  Services                  1348"
            ]
          },
          "metadata": {
            "tags": []
          },
          "execution_count": 10
        }
      ]
    },
    {
      "cell_type": "code",
      "metadata": {
        "colab": {
          "base_uri": "https://localhost:8080/",
          "height": 202
        },
        "id": "j2F2SH4PT-vW",
        "outputId": "8942cf8f-2f41-4a4f-be66-01a810e25e7f"
      },
      "source": [
        "left_join_df = newdf.merge(df1, on='Version', how='left')\n",
        "\n",
        "left_join_df['proportions'] = left_join_df[\"No_clicks\"]/left_join_df['total_clicks_visited']\n",
        "\n",
        "left_join_df"
      ],
      "execution_count": null,
      "outputs": [
        {
          "output_type": "execute_result",
          "data": {
            "text/html": [
              "<div>\n",
              "<style scoped>\n",
              "    .dataframe tbody tr th:only-of-type {\n",
              "        vertical-align: middle;\n",
              "    }\n",
              "\n",
              "    .dataframe tbody tr th {\n",
              "        vertical-align: top;\n",
              "    }\n",
              "\n",
              "    .dataframe thead th {\n",
              "        text-align: right;\n",
              "    }\n",
              "</style>\n",
              "<table border=\"1\" class=\"dataframe\">\n",
              "  <thead>\n",
              "    <tr style=\"text-align: right;\">\n",
              "      <th></th>\n",
              "      <th>Element_ID</th>\n",
              "      <th>Tag_name</th>\n",
              "      <th>Name</th>\n",
              "      <th>No_clicks</th>\n",
              "      <th>Visible</th>\n",
              "      <th>Version</th>\n",
              "      <th>total_clicks_visited</th>\n",
              "      <th>proportions</th>\n",
              "    </tr>\n",
              "  </thead>\n",
              "  <tbody>\n",
              "    <tr>\n",
              "      <th>0</th>\n",
              "      <td>87</td>\n",
              "      <td>a</td>\n",
              "      <td>INTERACT</td>\n",
              "      <td>42</td>\n",
              "      <td>True</td>\n",
              "      <td>Interact</td>\n",
              "      <td>3714</td>\n",
              "      <td>0.011309</td>\n",
              "    </tr>\n",
              "    <tr>\n",
              "      <th>1</th>\n",
              "      <td>92</td>\n",
              "      <td>a</td>\n",
              "      <td>CONNECT</td>\n",
              "      <td>53</td>\n",
              "      <td>True</td>\n",
              "      <td>Connect</td>\n",
              "      <td>1587</td>\n",
              "      <td>0.033396</td>\n",
              "    </tr>\n",
              "    <tr>\n",
              "      <th>2</th>\n",
              "      <td>87</td>\n",
              "      <td>a</td>\n",
              "      <td>LEARN</td>\n",
              "      <td>21</td>\n",
              "      <td>True</td>\n",
              "      <td>Learn</td>\n",
              "      <td>1652</td>\n",
              "      <td>0.012712</td>\n",
              "    </tr>\n",
              "    <tr>\n",
              "      <th>3</th>\n",
              "      <td>92</td>\n",
              "      <td>a</td>\n",
              "      <td>HELP</td>\n",
              "      <td>38</td>\n",
              "      <td>True</td>\n",
              "      <td>Help</td>\n",
              "      <td>1717</td>\n",
              "      <td>0.022132</td>\n",
              "    </tr>\n",
              "    <tr>\n",
              "      <th>4</th>\n",
              "      <td>87</td>\n",
              "      <td>a</td>\n",
              "      <td>SERVICES</td>\n",
              "      <td>45</td>\n",
              "      <td>True</td>\n",
              "      <td>Services</td>\n",
              "      <td>1348</td>\n",
              "      <td>0.033383</td>\n",
              "    </tr>\n",
              "  </tbody>\n",
              "</table>\n",
              "</div>"
            ],
            "text/plain": [
              "   Element_ID Tag_name      Name  ...   Version  total_clicks_visited proportions\n",
              "0          87        a  INTERACT  ...  Interact                  3714    0.011309\n",
              "1          92        a   CONNECT  ...   Connect                  1587    0.033396\n",
              "2          87        a     LEARN  ...     Learn                  1652    0.012712\n",
              "3          92        a      HELP  ...      Help                  1717    0.022132\n",
              "4          87        a  SERVICES  ...  Services                  1348    0.033383\n",
              "\n",
              "[5 rows x 8 columns]"
            ]
          },
          "metadata": {
            "tags": []
          },
          "execution_count": 11
        }
      ]
    },
    {
      "cell_type": "code",
      "metadata": {
        "colab": {
          "base_uri": "https://localhost:8080/"
        },
        "id": "zZLIXNXNUAhj",
        "outputId": "f0519532-155e-4191-a57b-0bcd6eecd110"
      },
      "source": [
        "from scipy import stats\n",
        "\n",
        "import numpy as np\n",
        "\n",
        "interact_connect = np.array([left_join_df.iloc[0:5]['No_clicks']\\\n",
        "                      , left_join_df.iloc[0:5]['total_clicks_visited']])\n",
        "\n",
        "# print(stats.chi2_contingency(survivors))\n",
        "\n",
        "chi2_stat, p_val, dof, ex = stats.chi2_contingency(interact_connect)\n",
        "\n",
        "print(\"===Chi2 Stat===\")\n",
        "print(chi2_stat)\n",
        "print(\"\\n\")\n",
        "print(\"===Degrees of Freedom===\")\n",
        "print(dof)\n",
        "print(\"\\n\")\n",
        "print(\"===P-Value===\")\n",
        "print(p_val)\n",
        "print(\"\\n\")\n",
        "print(\"===Contingency Table===\")\n",
        "print(ex)\n",
        " "
      ],
      "execution_count": null,
      "outputs": [
        {
          "output_type": "stream",
          "text": [
            "===Chi2 Stat===\n",
            "44.3266816312451\n",
            "\n",
            "\n",
            "===Degrees of Freedom===\n",
            "4\n",
            "\n",
            "\n",
            "===P-Value===\n",
            "5.4876269526059484e-09\n",
            "\n",
            "\n",
            "===Contingency Table===\n",
            "[[  73.15689537   31.94284036   32.58559264   34.18273466   27.13193697]\n",
            " [3682.84310463 1608.05715964 1640.41440736 1720.81726534 1365.86806303]]\n"
          ],
          "name": "stdout"
        }
      ]
    },
    {
      "cell_type": "markdown",
      "metadata": {
        "id": "8mrP7tZqAGW_"
      },
      "source": [
        "\n",
        "**1.2 Use two different methods to test the normality of two different versions of your choice (Connect, Help, Services,..) (2.0 points)**\n",
        "\n",
        "\n",
        "\n"
      ]
    },
    {
      "cell_type": "markdown",
      "metadata": {
        "id": "7rg-El3pUKJl"
      },
      "source": [
        "I will use the AD-Test and Shapiro test to check whether the data is normally distributed or not."
      ]
    },
    {
      "cell_type": "code",
      "metadata": {
        "id": "eRsTOYpcAGW_",
        "colab": {
          "base_uri": "https://localhost:8080/",
          "height": 126
        },
        "outputId": "b1db5927-fc75-43f8-fdb7-78c554d33a98"
      },
      "source": [
        "import scipy\n",
        "ad_test = scipy.stats.anderson(df[(df['Version'] == 'Interact' ) | (df['Version'] == 'Connect')]['No_clicks'])\n",
        "matrix_twosample = [\n",
        "    ['', 'AD-test Statistic', 'critical_values'],\n",
        "    ['Sample Data', ad_test[0], ad_test[1]]\n",
        "]\n",
        "\n",
        "ad_table = ct(matrix_twosample, index=True)\n",
        "ad_table"
      ],
      "execution_count": null,
      "outputs": [
        {
          "output_type": "display_data",
          "data": {
            "text/html": [
              "<html>\n",
              "<head><meta charset=\"utf-8\" /></head>\n",
              "<body>\n",
              "    <div>\n",
              "            <script src=\"https://cdnjs.cloudflare.com/ajax/libs/mathjax/2.7.5/MathJax.js?config=TeX-AMS-MML_SVG\"></script><script type=\"text/javascript\">if (window.MathJax) {MathJax.Hub.Config({SVG: {font: \"STIX-Web\"}});}</script>\n",
              "                <script type=\"text/javascript\">window.PlotlyConfig = {MathJaxConfig: 'local'};</script>\n",
              "        <script src=\"https://cdn.plot.ly/plotly-latest.min.js\"></script>    \n",
              "            <div id=\"e03131e0-a9f9-425f-8a06-732a1da620d0\" class=\"plotly-graph-div\" style=\"height:110px; width:100%;\"></div>\n",
              "            <script type=\"text/javascript\">\n",
              "                \n",
              "                    window.PLOTLYENV=window.PLOTLYENV || {};\n",
              "                    \n",
              "                if (document.getElementById(\"e03131e0-a9f9-425f-8a06-732a1da620d0\")) {\n",
              "                    Plotly.newPlot(\n",
              "                        'e03131e0-a9f9-425f-8a06-732a1da620d0',\n",
              "                        [{\"colorscale\": [[0, \"#00083e\"], [0.5, \"#ededee\"], [1, \"#ffffff\"]], \"hoverinfo\": \"none\", \"opacity\": 0.75, \"showscale\": false, \"type\": \"heatmap\", \"z\": [[0, 0, 0], [0, 0.5, 0.5]]}],\n",
              "                        {\"annotations\": [{\"align\": \"left\", \"font\": {\"color\": \"#ffffff\"}, \"showarrow\": false, \"text\": \"<b></b>\", \"x\": -0.45, \"xanchor\": \"left\", \"xref\": \"x\", \"y\": 0, \"yref\": \"y\"}, {\"align\": \"left\", \"font\": {\"color\": \"#ffffff\"}, \"showarrow\": false, \"text\": \"<b>AD-test Statistic</b>\", \"x\": 0.55, \"xanchor\": \"left\", \"xref\": \"x\", \"y\": 0, \"yref\": \"y\"}, {\"align\": \"left\", \"font\": {\"color\": \"#ffffff\"}, \"showarrow\": false, \"text\": \"<b>critical_values</b>\", \"x\": 1.55, \"xanchor\": \"left\", \"xref\": \"x\", \"y\": 0, \"yref\": \"y\"}, {\"align\": \"left\", \"font\": {\"color\": \"#ffffff\"}, \"showarrow\": false, \"text\": \"<b>Sample Data</b>\", \"x\": -0.45, \"xanchor\": \"left\", \"xref\": \"x\", \"y\": 1, \"yref\": \"y\"}, {\"align\": \"left\", \"font\": {\"color\": \"#000000\"}, \"showarrow\": false, \"text\": \"34.448525078277925\", \"x\": 0.55, \"xanchor\": \"left\", \"xref\": \"x\", \"y\": 1, \"yref\": \"y\"}, {\"align\": \"left\", \"font\": {\"color\": \"#000000\"}, \"showarrow\": false, \"text\": \"[0.559 0.637 0.764 0.891 1.06 ]\", \"x\": 1.55, \"xanchor\": \"left\", \"xref\": \"x\", \"y\": 1, \"yref\": \"y\"}], \"height\": 110, \"margin\": {\"b\": 0, \"l\": 0, \"r\": 0, \"t\": 0}, \"template\": {\"data\": {\"bar\": [{\"error_x\": {\"color\": \"#2a3f5f\"}, \"error_y\": {\"color\": \"#2a3f5f\"}, \"marker\": {\"line\": {\"color\": \"#E5ECF6\", \"width\": 0.5}}, \"type\": \"bar\"}], \"barpolar\": [{\"marker\": {\"line\": {\"color\": \"#E5ECF6\", \"width\": 0.5}}, \"type\": \"barpolar\"}], \"carpet\": [{\"aaxis\": {\"endlinecolor\": \"#2a3f5f\", \"gridcolor\": \"white\", \"linecolor\": \"white\", \"minorgridcolor\": \"white\", \"startlinecolor\": \"#2a3f5f\"}, \"baxis\": {\"endlinecolor\": \"#2a3f5f\", \"gridcolor\": \"white\", \"linecolor\": \"white\", \"minorgridcolor\": \"white\", \"startlinecolor\": \"#2a3f5f\"}, \"type\": \"carpet\"}], \"choropleth\": [{\"colorbar\": {\"outlinewidth\": 0, \"ticks\": \"\"}, \"type\": \"choropleth\"}], \"contour\": [{\"colorbar\": {\"outlinewidth\": 0, \"ticks\": \"\"}, \"colorscale\": [[0.0, \"#0d0887\"], [0.1111111111111111, \"#46039f\"], [0.2222222222222222, \"#7201a8\"], [0.3333333333333333, \"#9c179e\"], [0.4444444444444444, \"#bd3786\"], [0.5555555555555556, \"#d8576b\"], [0.6666666666666666, \"#ed7953\"], [0.7777777777777778, \"#fb9f3a\"], [0.8888888888888888, \"#fdca26\"], [1.0, \"#f0f921\"]], \"type\": \"contour\"}], \"contourcarpet\": [{\"colorbar\": {\"outlinewidth\": 0, \"ticks\": \"\"}, \"type\": \"contourcarpet\"}], \"heatmap\": [{\"colorbar\": {\"outlinewidth\": 0, \"ticks\": \"\"}, \"colorscale\": [[0.0, \"#0d0887\"], [0.1111111111111111, \"#46039f\"], [0.2222222222222222, \"#7201a8\"], [0.3333333333333333, \"#9c179e\"], [0.4444444444444444, \"#bd3786\"], [0.5555555555555556, \"#d8576b\"], [0.6666666666666666, \"#ed7953\"], [0.7777777777777778, \"#fb9f3a\"], [0.8888888888888888, \"#fdca26\"], [1.0, \"#f0f921\"]], \"type\": \"heatmap\"}], \"heatmapgl\": [{\"colorbar\": {\"outlinewidth\": 0, \"ticks\": \"\"}, \"colorscale\": [[0.0, \"#0d0887\"], [0.1111111111111111, \"#46039f\"], [0.2222222222222222, \"#7201a8\"], [0.3333333333333333, \"#9c179e\"], [0.4444444444444444, \"#bd3786\"], [0.5555555555555556, \"#d8576b\"], [0.6666666666666666, \"#ed7953\"], [0.7777777777777778, \"#fb9f3a\"], [0.8888888888888888, \"#fdca26\"], [1.0, \"#f0f921\"]], \"type\": \"heatmapgl\"}], \"histogram\": [{\"marker\": {\"colorbar\": {\"outlinewidth\": 0, \"ticks\": \"\"}}, \"type\": \"histogram\"}], \"histogram2d\": [{\"colorbar\": {\"outlinewidth\": 0, \"ticks\": \"\"}, \"colorscale\": [[0.0, \"#0d0887\"], [0.1111111111111111, \"#46039f\"], [0.2222222222222222, \"#7201a8\"], [0.3333333333333333, \"#9c179e\"], [0.4444444444444444, \"#bd3786\"], [0.5555555555555556, \"#d8576b\"], [0.6666666666666666, \"#ed7953\"], [0.7777777777777778, \"#fb9f3a\"], [0.8888888888888888, \"#fdca26\"], [1.0, \"#f0f921\"]], \"type\": \"histogram2d\"}], \"histogram2dcontour\": [{\"colorbar\": {\"outlinewidth\": 0, \"ticks\": \"\"}, \"colorscale\": [[0.0, \"#0d0887\"], [0.1111111111111111, \"#46039f\"], [0.2222222222222222, \"#7201a8\"], [0.3333333333333333, \"#9c179e\"], [0.4444444444444444, \"#bd3786\"], [0.5555555555555556, \"#d8576b\"], [0.6666666666666666, \"#ed7953\"], [0.7777777777777778, \"#fb9f3a\"], [0.8888888888888888, \"#fdca26\"], [1.0, \"#f0f921\"]], \"type\": \"histogram2dcontour\"}], \"mesh3d\": [{\"colorbar\": {\"outlinewidth\": 0, \"ticks\": \"\"}, \"type\": \"mesh3d\"}], \"parcoords\": [{\"line\": {\"colorbar\": {\"outlinewidth\": 0, \"ticks\": \"\"}}, \"type\": \"parcoords\"}], \"pie\": [{\"automargin\": true, \"type\": \"pie\"}], \"scatter\": [{\"marker\": {\"colorbar\": {\"outlinewidth\": 0, \"ticks\": \"\"}}, \"type\": \"scatter\"}], \"scatter3d\": [{\"line\": {\"colorbar\": {\"outlinewidth\": 0, \"ticks\": \"\"}}, \"marker\": {\"colorbar\": {\"outlinewidth\": 0, \"ticks\": \"\"}}, \"type\": \"scatter3d\"}], \"scattercarpet\": [{\"marker\": {\"colorbar\": {\"outlinewidth\": 0, \"ticks\": \"\"}}, \"type\": \"scattercarpet\"}], \"scattergeo\": [{\"marker\": {\"colorbar\": {\"outlinewidth\": 0, \"ticks\": \"\"}}, \"type\": \"scattergeo\"}], \"scattergl\": [{\"marker\": {\"colorbar\": {\"outlinewidth\": 0, \"ticks\": \"\"}}, \"type\": \"scattergl\"}], \"scattermapbox\": [{\"marker\": {\"colorbar\": {\"outlinewidth\": 0, \"ticks\": \"\"}}, \"type\": \"scattermapbox\"}], \"scatterpolar\": [{\"marker\": {\"colorbar\": {\"outlinewidth\": 0, \"ticks\": \"\"}}, \"type\": \"scatterpolar\"}], \"scatterpolargl\": [{\"marker\": {\"colorbar\": {\"outlinewidth\": 0, \"ticks\": \"\"}}, \"type\": \"scatterpolargl\"}], \"scatterternary\": [{\"marker\": {\"colorbar\": {\"outlinewidth\": 0, \"ticks\": \"\"}}, \"type\": \"scatterternary\"}], \"surface\": [{\"colorbar\": {\"outlinewidth\": 0, \"ticks\": \"\"}, \"colorscale\": [[0.0, \"#0d0887\"], [0.1111111111111111, \"#46039f\"], [0.2222222222222222, \"#7201a8\"], [0.3333333333333333, \"#9c179e\"], [0.4444444444444444, \"#bd3786\"], [0.5555555555555556, \"#d8576b\"], [0.6666666666666666, \"#ed7953\"], [0.7777777777777778, \"#fb9f3a\"], [0.8888888888888888, \"#fdca26\"], [1.0, \"#f0f921\"]], \"type\": \"surface\"}], \"table\": [{\"cells\": {\"fill\": {\"color\": \"#EBF0F8\"}, \"line\": {\"color\": \"white\"}}, \"header\": {\"fill\": {\"color\": \"#C8D4E3\"}, \"line\": {\"color\": \"white\"}}, \"type\": \"table\"}]}, \"layout\": {\"annotationdefaults\": {\"arrowcolor\": \"#2a3f5f\", \"arrowhead\": 0, \"arrowwidth\": 1}, \"coloraxis\": {\"colorbar\": {\"outlinewidth\": 0, \"ticks\": \"\"}}, \"colorscale\": {\"diverging\": [[0, \"#8e0152\"], [0.1, \"#c51b7d\"], [0.2, \"#de77ae\"], [0.3, \"#f1b6da\"], [0.4, \"#fde0ef\"], [0.5, \"#f7f7f7\"], [0.6, \"#e6f5d0\"], [0.7, \"#b8e186\"], [0.8, \"#7fbc41\"], [0.9, \"#4d9221\"], [1, \"#276419\"]], \"sequential\": [[0.0, \"#0d0887\"], [0.1111111111111111, \"#46039f\"], [0.2222222222222222, \"#7201a8\"], [0.3333333333333333, \"#9c179e\"], [0.4444444444444444, \"#bd3786\"], [0.5555555555555556, \"#d8576b\"], [0.6666666666666666, \"#ed7953\"], [0.7777777777777778, \"#fb9f3a\"], [0.8888888888888888, \"#fdca26\"], [1.0, \"#f0f921\"]], \"sequentialminus\": [[0.0, \"#0d0887\"], [0.1111111111111111, \"#46039f\"], [0.2222222222222222, \"#7201a8\"], [0.3333333333333333, \"#9c179e\"], [0.4444444444444444, \"#bd3786\"], [0.5555555555555556, \"#d8576b\"], [0.6666666666666666, \"#ed7953\"], [0.7777777777777778, \"#fb9f3a\"], [0.8888888888888888, \"#fdca26\"], [1.0, \"#f0f921\"]]}, \"colorway\": [\"#636efa\", \"#EF553B\", \"#00cc96\", \"#ab63fa\", \"#FFA15A\", \"#19d3f3\", \"#FF6692\", \"#B6E880\", \"#FF97FF\", \"#FECB52\"], \"font\": {\"color\": \"#2a3f5f\"}, \"geo\": {\"bgcolor\": \"white\", \"lakecolor\": \"white\", \"landcolor\": \"#E5ECF6\", \"showlakes\": true, \"showland\": true, \"subunitcolor\": \"white\"}, \"hoverlabel\": {\"align\": \"left\"}, \"hovermode\": \"closest\", \"mapbox\": {\"style\": \"light\"}, \"paper_bgcolor\": \"white\", \"plot_bgcolor\": \"#E5ECF6\", \"polar\": {\"angularaxis\": {\"gridcolor\": \"white\", \"linecolor\": \"white\", \"ticks\": \"\"}, \"bgcolor\": \"#E5ECF6\", \"radialaxis\": {\"gridcolor\": \"white\", \"linecolor\": \"white\", \"ticks\": \"\"}}, \"scene\": {\"xaxis\": {\"backgroundcolor\": \"#E5ECF6\", \"gridcolor\": \"white\", \"gridwidth\": 2, \"linecolor\": \"white\", \"showbackground\": true, \"ticks\": \"\", \"zerolinecolor\": \"white\"}, \"yaxis\": {\"backgroundcolor\": \"#E5ECF6\", \"gridcolor\": \"white\", \"gridwidth\": 2, \"linecolor\": \"white\", \"showbackground\": true, \"ticks\": \"\", \"zerolinecolor\": \"white\"}, \"zaxis\": {\"backgroundcolor\": \"#E5ECF6\", \"gridcolor\": \"white\", \"gridwidth\": 2, \"linecolor\": \"white\", \"showbackground\": true, \"ticks\": \"\", \"zerolinecolor\": \"white\"}}, \"shapedefaults\": {\"line\": {\"color\": \"#2a3f5f\"}}, \"ternary\": {\"aaxis\": {\"gridcolor\": \"white\", \"linecolor\": \"white\", \"ticks\": \"\"}, \"baxis\": {\"gridcolor\": \"white\", \"linecolor\": \"white\", \"ticks\": \"\"}, \"bgcolor\": \"#E5ECF6\", \"caxis\": {\"gridcolor\": \"white\", \"linecolor\": \"white\", \"ticks\": \"\"}}, \"title\": {\"x\": 0.05}, \"xaxis\": {\"automargin\": true, \"gridcolor\": \"white\", \"linecolor\": \"white\", \"ticks\": \"\", \"title\": {\"standoff\": 15}, \"zerolinecolor\": \"white\", \"zerolinewidth\": 2}, \"yaxis\": {\"automargin\": true, \"gridcolor\": \"white\", \"linecolor\": \"white\", \"ticks\": \"\", \"title\": {\"standoff\": 15}, \"zerolinecolor\": \"white\", \"zerolinewidth\": 2}}}, \"xaxis\": {\"dtick\": 1, \"gridwidth\": 2, \"showticklabels\": false, \"tick0\": -0.5, \"ticks\": \"\", \"zeroline\": false}, \"yaxis\": {\"autorange\": \"reversed\", \"dtick\": 1, \"gridwidth\": 2, \"showticklabels\": false, \"tick0\": 0.5, \"ticks\": \"\", \"zeroline\": false}},\n",
              "                        {\"responsive\": true}\n",
              "                    ).then(function(){\n",
              "                            \n",
              "var gd = document.getElementById('e03131e0-a9f9-425f-8a06-732a1da620d0');\n",
              "var x = new MutationObserver(function (mutations, observer) {{\n",
              "        var display = window.getComputedStyle(gd).display;\n",
              "        if (!display || display === 'none') {{\n",
              "            console.log([gd, 'removed!']);\n",
              "            Plotly.purge(gd);\n",
              "            observer.disconnect();\n",
              "        }}\n",
              "}});\n",
              "\n",
              "// Listen for the removal of the full notebook cells\n",
              "var notebookContainer = gd.closest('#notebook-container');\n",
              "if (notebookContainer) {{\n",
              "    x.observe(notebookContainer, {childList: true});\n",
              "}}\n",
              "\n",
              "// Listen for the clearing of the current output cell\n",
              "var outputEl = gd.closest('.output');\n",
              "if (outputEl) {{\n",
              "    x.observe(outputEl, {childList: true});\n",
              "}}\n",
              "\n",
              "                        })\n",
              "                };\n",
              "                \n",
              "            </script>\n",
              "        </div>\n",
              "</body>\n",
              "</html>"
            ]
          },
          "metadata": {
            "tags": []
          }
        }
      ]
    },
    {
      "cell_type": "code",
      "metadata": {
        "colab": {
          "base_uri": "https://localhost:8080/"
        },
        "id": "mt62Kn8oUM3h",
        "outputId": "9691e21e-16cd-42af-eed4-b4e82b740fa0"
      },
      "source": [
        "for i in range(len(ad_test.critical_values)):\n",
        "    sl, cv = ad_test.significance_level[i], ad_test.critical_values[i]\n",
        "    if ad_test.statistic < ad_test.critical_values[i]:\n",
        "        print(f'ad_test.significance_level: {sl}\\ncritical_value {cv}: \\n, data looks normal (fail to reject H0)\\n')\n",
        "    else:\n",
        "        print(f'ad_test.significance_level: {sl}\\ncritical_value {cv}: \\n, data does not look normal (reject H0)\\n')"
      ],
      "execution_count": null,
      "outputs": [
        {
          "output_type": "stream",
          "text": [
            "ad_test.significance_level: 15.0\n",
            "critical_value 0.559: \n",
            ", data does not look normal (reject H0)\n",
            "\n",
            "ad_test.significance_level: 10.0\n",
            "critical_value 0.637: \n",
            ", data does not look normal (reject H0)\n",
            "\n",
            "ad_test.significance_level: 5.0\n",
            "critical_value 0.764: \n",
            ", data does not look normal (reject H0)\n",
            "\n",
            "ad_test.significance_level: 2.5\n",
            "critical_value 0.891: \n",
            ", data does not look normal (reject H0)\n",
            "\n",
            "ad_test.significance_level: 1.0\n",
            "critical_value 1.06: \n",
            ", data does not look normal (reject H0)\n",
            "\n"
          ],
          "name": "stdout"
        }
      ]
    },
    {
      "cell_type": "code",
      "metadata": {
        "colab": {
          "base_uri": "https://localhost:8080/",
          "height": 126
        },
        "id": "DsxfUkGcUQwI",
        "outputId": "d0b2ea24-b7f9-4947-ba6d-c4eb9b4d69c4"
      },
      "source": [
        "shapiro_test = scipy.stats.shapiro(df[(df['Version'] == 'Interact' ) | (df['Version'] == 'Connect')]['No_clicks'])\n",
        "\n",
        "\n",
        "matrix_twosample = [\n",
        "    ['', 'shapiro_test', 'p-value'],\n",
        "    ['Sample Data', shapiro_test[0], shapiro_test[1]]\n",
        "]\n",
        "\n",
        "twosample_table = ct(matrix_twosample, index=True)\n",
        "twosample_table"
      ],
      "execution_count": null,
      "outputs": [
        {
          "output_type": "display_data",
          "data": {
            "text/html": [
              "<html>\n",
              "<head><meta charset=\"utf-8\" /></head>\n",
              "<body>\n",
              "    <div>\n",
              "            <script src=\"https://cdnjs.cloudflare.com/ajax/libs/mathjax/2.7.5/MathJax.js?config=TeX-AMS-MML_SVG\"></script><script type=\"text/javascript\">if (window.MathJax) {MathJax.Hub.Config({SVG: {font: \"STIX-Web\"}});}</script>\n",
              "                <script type=\"text/javascript\">window.PlotlyConfig = {MathJaxConfig: 'local'};</script>\n",
              "        <script src=\"https://cdn.plot.ly/plotly-latest.min.js\"></script>    \n",
              "            <div id=\"0e89afb4-1011-4145-8ee1-dc3c924a733c\" class=\"plotly-graph-div\" style=\"height:110px; width:100%;\"></div>\n",
              "            <script type=\"text/javascript\">\n",
              "                \n",
              "                    window.PLOTLYENV=window.PLOTLYENV || {};\n",
              "                    \n",
              "                if (document.getElementById(\"0e89afb4-1011-4145-8ee1-dc3c924a733c\")) {\n",
              "                    Plotly.newPlot(\n",
              "                        '0e89afb4-1011-4145-8ee1-dc3c924a733c',\n",
              "                        [{\"colorscale\": [[0, \"#00083e\"], [0.5, \"#ededee\"], [1, \"#ffffff\"]], \"hoverinfo\": \"none\", \"opacity\": 0.75, \"showscale\": false, \"type\": \"heatmap\", \"z\": [[0, 0, 0], [0, 0.5, 0.5]]}],\n",
              "                        {\"annotations\": [{\"align\": \"left\", \"font\": {\"color\": \"#ffffff\"}, \"showarrow\": false, \"text\": \"<b></b>\", \"x\": -0.45, \"xanchor\": \"left\", \"xref\": \"x\", \"y\": 0, \"yref\": \"y\"}, {\"align\": \"left\", \"font\": {\"color\": \"#ffffff\"}, \"showarrow\": false, \"text\": \"<b>shapiro_test</b>\", \"x\": 0.55, \"xanchor\": \"left\", \"xref\": \"x\", \"y\": 0, \"yref\": \"y\"}, {\"align\": \"left\", \"font\": {\"color\": \"#ffffff\"}, \"showarrow\": false, \"text\": \"<b>p-value</b>\", \"x\": 1.55, \"xanchor\": \"left\", \"xref\": \"x\", \"y\": 0, \"yref\": \"y\"}, {\"align\": \"left\", \"font\": {\"color\": \"#ffffff\"}, \"showarrow\": false, \"text\": \"<b>Sample Data</b>\", \"x\": -0.45, \"xanchor\": \"left\", \"xref\": \"x\", \"y\": 1, \"yref\": \"y\"}, {\"align\": \"left\", \"font\": {\"color\": \"#000000\"}, \"showarrow\": false, \"text\": \"0.27709800004959106\", \"x\": 0.55, \"xanchor\": \"left\", \"xref\": \"x\", \"y\": 1, \"yref\": \"y\"}, {\"align\": \"left\", \"font\": {\"color\": \"#000000\"}, \"showarrow\": false, \"text\": \"2.6810188859517857e-22\", \"x\": 1.55, \"xanchor\": \"left\", \"xref\": \"x\", \"y\": 1, \"yref\": \"y\"}], \"height\": 110, \"margin\": {\"b\": 0, \"l\": 0, \"r\": 0, \"t\": 0}, \"template\": {\"data\": {\"bar\": [{\"error_x\": {\"color\": \"#2a3f5f\"}, \"error_y\": {\"color\": \"#2a3f5f\"}, \"marker\": {\"line\": {\"color\": \"#E5ECF6\", \"width\": 0.5}}, \"type\": \"bar\"}], \"barpolar\": [{\"marker\": {\"line\": {\"color\": \"#E5ECF6\", \"width\": 0.5}}, \"type\": \"barpolar\"}], \"carpet\": [{\"aaxis\": {\"endlinecolor\": \"#2a3f5f\", \"gridcolor\": \"white\", \"linecolor\": \"white\", \"minorgridcolor\": \"white\", \"startlinecolor\": \"#2a3f5f\"}, \"baxis\": {\"endlinecolor\": \"#2a3f5f\", \"gridcolor\": \"white\", \"linecolor\": \"white\", \"minorgridcolor\": \"white\", \"startlinecolor\": \"#2a3f5f\"}, \"type\": \"carpet\"}], \"choropleth\": [{\"colorbar\": {\"outlinewidth\": 0, \"ticks\": \"\"}, \"type\": \"choropleth\"}], \"contour\": [{\"colorbar\": {\"outlinewidth\": 0, \"ticks\": \"\"}, \"colorscale\": [[0.0, \"#0d0887\"], [0.1111111111111111, \"#46039f\"], [0.2222222222222222, \"#7201a8\"], [0.3333333333333333, \"#9c179e\"], [0.4444444444444444, \"#bd3786\"], [0.5555555555555556, \"#d8576b\"], [0.6666666666666666, \"#ed7953\"], [0.7777777777777778, \"#fb9f3a\"], [0.8888888888888888, \"#fdca26\"], [1.0, \"#f0f921\"]], \"type\": \"contour\"}], \"contourcarpet\": [{\"colorbar\": {\"outlinewidth\": 0, \"ticks\": \"\"}, \"type\": \"contourcarpet\"}], \"heatmap\": [{\"colorbar\": {\"outlinewidth\": 0, \"ticks\": \"\"}, \"colorscale\": [[0.0, \"#0d0887\"], [0.1111111111111111, \"#46039f\"], [0.2222222222222222, \"#7201a8\"], [0.3333333333333333, \"#9c179e\"], [0.4444444444444444, \"#bd3786\"], [0.5555555555555556, \"#d8576b\"], [0.6666666666666666, \"#ed7953\"], [0.7777777777777778, \"#fb9f3a\"], [0.8888888888888888, \"#fdca26\"], [1.0, \"#f0f921\"]], \"type\": \"heatmap\"}], \"heatmapgl\": [{\"colorbar\": {\"outlinewidth\": 0, \"ticks\": \"\"}, \"colorscale\": [[0.0, \"#0d0887\"], [0.1111111111111111, \"#46039f\"], [0.2222222222222222, \"#7201a8\"], [0.3333333333333333, \"#9c179e\"], [0.4444444444444444, \"#bd3786\"], [0.5555555555555556, \"#d8576b\"], [0.6666666666666666, \"#ed7953\"], [0.7777777777777778, \"#fb9f3a\"], [0.8888888888888888, \"#fdca26\"], [1.0, \"#f0f921\"]], \"type\": \"heatmapgl\"}], \"histogram\": [{\"marker\": {\"colorbar\": {\"outlinewidth\": 0, \"ticks\": \"\"}}, \"type\": \"histogram\"}], \"histogram2d\": [{\"colorbar\": {\"outlinewidth\": 0, \"ticks\": \"\"}, \"colorscale\": [[0.0, \"#0d0887\"], [0.1111111111111111, \"#46039f\"], [0.2222222222222222, \"#7201a8\"], [0.3333333333333333, \"#9c179e\"], [0.4444444444444444, \"#bd3786\"], [0.5555555555555556, \"#d8576b\"], [0.6666666666666666, \"#ed7953\"], [0.7777777777777778, \"#fb9f3a\"], [0.8888888888888888, \"#fdca26\"], [1.0, \"#f0f921\"]], \"type\": \"histogram2d\"}], \"histogram2dcontour\": [{\"colorbar\": {\"outlinewidth\": 0, \"ticks\": \"\"}, \"colorscale\": [[0.0, \"#0d0887\"], [0.1111111111111111, \"#46039f\"], [0.2222222222222222, \"#7201a8\"], [0.3333333333333333, \"#9c179e\"], [0.4444444444444444, \"#bd3786\"], [0.5555555555555556, \"#d8576b\"], [0.6666666666666666, \"#ed7953\"], [0.7777777777777778, \"#fb9f3a\"], [0.8888888888888888, \"#fdca26\"], [1.0, \"#f0f921\"]], \"type\": \"histogram2dcontour\"}], \"mesh3d\": [{\"colorbar\": {\"outlinewidth\": 0, \"ticks\": \"\"}, \"type\": \"mesh3d\"}], \"parcoords\": [{\"line\": {\"colorbar\": {\"outlinewidth\": 0, \"ticks\": \"\"}}, \"type\": \"parcoords\"}], \"pie\": [{\"automargin\": true, \"type\": \"pie\"}], \"scatter\": [{\"marker\": {\"colorbar\": {\"outlinewidth\": 0, \"ticks\": \"\"}}, \"type\": \"scatter\"}], \"scatter3d\": [{\"line\": {\"colorbar\": {\"outlinewidth\": 0, \"ticks\": \"\"}}, \"marker\": {\"colorbar\": {\"outlinewidth\": 0, \"ticks\": \"\"}}, \"type\": \"scatter3d\"}], \"scattercarpet\": [{\"marker\": {\"colorbar\": {\"outlinewidth\": 0, \"ticks\": \"\"}}, \"type\": \"scattercarpet\"}], \"scattergeo\": [{\"marker\": {\"colorbar\": {\"outlinewidth\": 0, \"ticks\": \"\"}}, \"type\": \"scattergeo\"}], \"scattergl\": [{\"marker\": {\"colorbar\": {\"outlinewidth\": 0, \"ticks\": \"\"}}, \"type\": \"scattergl\"}], \"scattermapbox\": [{\"marker\": {\"colorbar\": {\"outlinewidth\": 0, \"ticks\": \"\"}}, \"type\": \"scattermapbox\"}], \"scatterpolar\": [{\"marker\": {\"colorbar\": {\"outlinewidth\": 0, \"ticks\": \"\"}}, \"type\": \"scatterpolar\"}], \"scatterpolargl\": [{\"marker\": {\"colorbar\": {\"outlinewidth\": 0, \"ticks\": \"\"}}, \"type\": \"scatterpolargl\"}], \"scatterternary\": [{\"marker\": {\"colorbar\": {\"outlinewidth\": 0, \"ticks\": \"\"}}, \"type\": \"scatterternary\"}], \"surface\": [{\"colorbar\": {\"outlinewidth\": 0, \"ticks\": \"\"}, \"colorscale\": [[0.0, \"#0d0887\"], [0.1111111111111111, \"#46039f\"], [0.2222222222222222, \"#7201a8\"], [0.3333333333333333, \"#9c179e\"], [0.4444444444444444, \"#bd3786\"], [0.5555555555555556, \"#d8576b\"], [0.6666666666666666, \"#ed7953\"], [0.7777777777777778, \"#fb9f3a\"], [0.8888888888888888, \"#fdca26\"], [1.0, \"#f0f921\"]], \"type\": \"surface\"}], \"table\": [{\"cells\": {\"fill\": {\"color\": \"#EBF0F8\"}, \"line\": {\"color\": \"white\"}}, \"header\": {\"fill\": {\"color\": \"#C8D4E3\"}, \"line\": {\"color\": \"white\"}}, \"type\": \"table\"}]}, \"layout\": {\"annotationdefaults\": {\"arrowcolor\": \"#2a3f5f\", \"arrowhead\": 0, \"arrowwidth\": 1}, \"coloraxis\": {\"colorbar\": {\"outlinewidth\": 0, \"ticks\": \"\"}}, \"colorscale\": {\"diverging\": [[0, \"#8e0152\"], [0.1, \"#c51b7d\"], [0.2, \"#de77ae\"], [0.3, \"#f1b6da\"], [0.4, \"#fde0ef\"], [0.5, \"#f7f7f7\"], [0.6, \"#e6f5d0\"], [0.7, \"#b8e186\"], [0.8, \"#7fbc41\"], [0.9, \"#4d9221\"], [1, \"#276419\"]], \"sequential\": [[0.0, \"#0d0887\"], [0.1111111111111111, \"#46039f\"], [0.2222222222222222, \"#7201a8\"], [0.3333333333333333, \"#9c179e\"], [0.4444444444444444, \"#bd3786\"], [0.5555555555555556, \"#d8576b\"], [0.6666666666666666, \"#ed7953\"], [0.7777777777777778, \"#fb9f3a\"], [0.8888888888888888, \"#fdca26\"], [1.0, \"#f0f921\"]], \"sequentialminus\": [[0.0, \"#0d0887\"], [0.1111111111111111, \"#46039f\"], [0.2222222222222222, \"#7201a8\"], [0.3333333333333333, \"#9c179e\"], [0.4444444444444444, \"#bd3786\"], [0.5555555555555556, \"#d8576b\"], [0.6666666666666666, \"#ed7953\"], [0.7777777777777778, \"#fb9f3a\"], [0.8888888888888888, \"#fdca26\"], [1.0, \"#f0f921\"]]}, \"colorway\": [\"#636efa\", \"#EF553B\", \"#00cc96\", \"#ab63fa\", \"#FFA15A\", \"#19d3f3\", \"#FF6692\", \"#B6E880\", \"#FF97FF\", \"#FECB52\"], \"font\": {\"color\": \"#2a3f5f\"}, \"geo\": {\"bgcolor\": \"white\", \"lakecolor\": \"white\", \"landcolor\": \"#E5ECF6\", \"showlakes\": true, \"showland\": true, \"subunitcolor\": \"white\"}, \"hoverlabel\": {\"align\": \"left\"}, \"hovermode\": \"closest\", \"mapbox\": {\"style\": \"light\"}, \"paper_bgcolor\": \"white\", \"plot_bgcolor\": \"#E5ECF6\", \"polar\": {\"angularaxis\": {\"gridcolor\": \"white\", \"linecolor\": \"white\", \"ticks\": \"\"}, \"bgcolor\": \"#E5ECF6\", \"radialaxis\": {\"gridcolor\": \"white\", \"linecolor\": \"white\", \"ticks\": \"\"}}, \"scene\": {\"xaxis\": {\"backgroundcolor\": \"#E5ECF6\", \"gridcolor\": \"white\", \"gridwidth\": 2, \"linecolor\": \"white\", \"showbackground\": true, \"ticks\": \"\", \"zerolinecolor\": \"white\"}, \"yaxis\": {\"backgroundcolor\": \"#E5ECF6\", \"gridcolor\": \"white\", \"gridwidth\": 2, \"linecolor\": \"white\", \"showbackground\": true, \"ticks\": \"\", \"zerolinecolor\": \"white\"}, \"zaxis\": {\"backgroundcolor\": \"#E5ECF6\", \"gridcolor\": \"white\", \"gridwidth\": 2, \"linecolor\": \"white\", \"showbackground\": true, \"ticks\": \"\", \"zerolinecolor\": \"white\"}}, \"shapedefaults\": {\"line\": {\"color\": \"#2a3f5f\"}}, \"ternary\": {\"aaxis\": {\"gridcolor\": \"white\", \"linecolor\": \"white\", \"ticks\": \"\"}, \"baxis\": {\"gridcolor\": \"white\", \"linecolor\": \"white\", \"ticks\": \"\"}, \"bgcolor\": \"#E5ECF6\", \"caxis\": {\"gridcolor\": \"white\", \"linecolor\": \"white\", \"ticks\": \"\"}}, \"title\": {\"x\": 0.05}, \"xaxis\": {\"automargin\": true, \"gridcolor\": \"white\", \"linecolor\": \"white\", \"ticks\": \"\", \"title\": {\"standoff\": 15}, \"zerolinecolor\": \"white\", \"zerolinewidth\": 2}, \"yaxis\": {\"automargin\": true, \"gridcolor\": \"white\", \"linecolor\": \"white\", \"ticks\": \"\", \"title\": {\"standoff\": 15}, \"zerolinecolor\": \"white\", \"zerolinewidth\": 2}}}, \"xaxis\": {\"dtick\": 1, \"gridwidth\": 2, \"showticklabels\": false, \"tick0\": -0.5, \"ticks\": \"\", \"zeroline\": false}, \"yaxis\": {\"autorange\": \"reversed\", \"dtick\": 1, \"gridwidth\": 2, \"showticklabels\": false, \"tick0\": 0.5, \"ticks\": \"\", \"zeroline\": false}},\n",
              "                        {\"responsive\": true}\n",
              "                    ).then(function(){\n",
              "                            \n",
              "var gd = document.getElementById('0e89afb4-1011-4145-8ee1-dc3c924a733c');\n",
              "var x = new MutationObserver(function (mutations, observer) {{\n",
              "        var display = window.getComputedStyle(gd).display;\n",
              "        if (!display || display === 'none') {{\n",
              "            console.log([gd, 'removed!']);\n",
              "            Plotly.purge(gd);\n",
              "            observer.disconnect();\n",
              "        }}\n",
              "}});\n",
              "\n",
              "// Listen for the removal of the full notebook cells\n",
              "var notebookContainer = gd.closest('#notebook-container');\n",
              "if (notebookContainer) {{\n",
              "    x.observe(notebookContainer, {childList: true});\n",
              "}}\n",
              "\n",
              "// Listen for the clearing of the current output cell\n",
              "var outputEl = gd.closest('.output');\n",
              "if (outputEl) {{\n",
              "    x.observe(outputEl, {childList: true});\n",
              "}}\n",
              "\n",
              "                        })\n",
              "                };\n",
              "                \n",
              "            </script>\n",
              "        </div>\n",
              "</body>\n",
              "</html>"
            ]
          },
          "metadata": {
            "tags": []
          }
        }
      ]
    },
    {
      "cell_type": "code",
      "metadata": {
        "colab": {
          "base_uri": "https://localhost:8080/"
        },
        "id": "oeineDyNUTL4",
        "outputId": "70f1fb07-44d8-40f4-ab62-032420efea8c"
      },
      "source": [
        "\n",
        "if shapiro_test[0] < shapiro_test[1]:\n",
        "  print(f'data looks normal (fail to reject H0)\\n')\n",
        "else:\n",
        "  print(f'data does not look normal (reject H0)\\n')"
      ],
      "execution_count": null,
      "outputs": [
        {
          "output_type": "stream",
          "text": [
            "data does not look normal (reject H0)\n",
            "\n"
          ],
          "name": "stdout"
        }
      ]
    },
    {
      "cell_type": "markdown",
      "metadata": {
        "id": "Jzb_DgNxUV08"
      },
      "source": [
        "Data doesn't look normally distributed."
      ]
    },
    {
      "cell_type": "code",
      "metadata": {
        "colab": {
          "base_uri": "https://localhost:8080/",
          "height": 421
        },
        "id": "zM4-GNfMUXv8",
        "outputId": "0f16ed9b-6ed3-46b2-9911-e08d00e1b6c1"
      },
      "source": [
        "fig, ax = plt.subplots(figsize=(8, 6))\n",
        "\n",
        "ax = sns.kdeplot(df.No_clicks[(df[\"Version\"] == 'Interact') ],\n",
        "                 shade = True)\n",
        "ax = sns.kdeplot(df.No_clicks[(df[\"Version\"] == 'Connect') ],\n",
        "                ax =ax,  shade= True)\n",
        "ax.legend([\"Interact\",\"Connect\"],loc='upper right')\n",
        "ax.set_ylabel('Density')\n",
        "ax.set_xlabel('No of Clicks')\n",
        "#ax.set_xscale('log')\n",
        "ax.set_title('Distribution of No_clicks')"
      ],
      "execution_count": null,
      "outputs": [
        {
          "output_type": "execute_result",
          "data": {
            "text/plain": [
              "Text(0.5, 1.0, 'Distribution of No_clicks')"
            ]
          },
          "metadata": {
            "tags": []
          },
          "execution_count": 17
        },
        {
          "output_type": "display_data",
          "data": {
            "image/png": "[encoded data removed]",
            "text/plain": [
              "<Figure size 576x432 with 1 Axes>"
            ]
          },
          "metadata": {
            "tags": [],
            "needs_background": "light"
          }
        }
      ]
    },
    {
      "cell_type": "code",
      "metadata": {
        "colab": {
          "base_uri": "https://localhost:8080/",
          "height": 425
        },
        "id": "xwtrwEvnUZhA",
        "outputId": "61f9d2ca-b74c-448f-93f0-b3cb8623ed96"
      },
      "source": [
        "fig, ax = plt.subplots(figsize=(8, 6))\n",
        "\n",
        "ax = sns.kdeplot(df.No_clicks[(df[\"Version\"] == 'Interact') ],\n",
        "                 shade = True)\n",
        "ax = sns.kdeplot(df.No_clicks[(df[\"Version\"] == 'Connect') ],\n",
        "                ax =ax,  shade= True)\n",
        "ax.legend([\"Interact\",\"Connect\"],loc='upper right')\n",
        "ax.set_ylabel('Density')\n",
        "ax.set_xlabel('No of Clicks')\n",
        "ax.set_xscale('log')\n",
        "ax.set_title('Distribution of No_clicks')"
      ],
      "execution_count": null,
      "outputs": [
        {
          "output_type": "execute_result",
          "data": {
            "text/plain": [
              "Text(0.5, 1.0, 'Distribution of No_clicks')"
            ]
          },
          "metadata": {
            "tags": []
          },
          "execution_count": 18
        },
        {
          "output_type": "display_data",
          "data": {
            "image/png": "[encoded data removed]",
            "text/plain": [
              "<Figure size 576x432 with 1 Axes>"
            ]
          },
          "metadata": {
            "tags": [],
            "needs_background": "light"
          }
        }
      ]
    },
    {
      "cell_type": "code",
      "metadata": {
        "colab": {
          "base_uri": "https://localhost:8080/",
          "height": 294
        },
        "id": "g-Thxu3pUbQm",
        "outputId": "e9e047f5-97be-457e-df31-7fed4ff0ea3f"
      },
      "source": [
        "import scipy.stats as stats\n",
        "\n",
        "stats.probplot(df.No_clicks[df['Version'] \\\n",
        "                                   == 'Interact'], dist=\"norm\", plot=plt)\n",
        "stats.probplot(df.No_clicks[df['Version'] \\\n",
        "                                   == 'Connect'], dist=\"norm\", plot=plt)\n",
        "\n",
        "plt.show()"
      ],
      "execution_count": null,
      "outputs": [
        {
          "output_type": "display_data",
          "data": {
            "image/png": "[encoded data removed]",
            "text/plain": [
              "<Figure size 432x288 with 1 Axes>"
            ]
          },
          "metadata": {
            "tags": [],
            "needs_background": "light"
          }
        }
      ]
    },
    {
      "cell_type": "markdown",
      "metadata": {
        "id": "q7uphXYiAGW_"
      },
      "source": [
        "**1.3 Read about Multiple comparison problem read ([wikipedia](https://en.wikipedia.org/wiki/Multiple_comparisons_problem), [An Overview of Methods to Address the Multiple Comparison Problem](https://towardsdatascience.com/an-overview-of-methods-to-address-the-multiple-comparison-problem-310427b3ba92) or other resources). What is the problem and when we need to do something about it (describe briefly)? (0.5 points)**"
      ]
    },
    {
      "cell_type": "markdown",
      "metadata": {
        "id": "CaqQxLijAGXA"
      },
      "source": [
        "<font color='red'> **Answer: The problem of multiple comparison is when we to compare multiple variations of our measurement against each other. This is a problem because we will need multiple null hypotheses then for each variation of our measurement. Also, Each hypothesis will have an individual α*, which represents the type 1 error rate for that particular test. As the number of hypotheses increases, so too does the overall α for the set of tests because the individual α*’s accumulate.**\n",
        "\n",
        "<font color='red'> **In order to type 1 error we have two options: Control overall α (also known as family-wise error rate or FWER, and Control false discovery rate (FDR).**\n",
        "\n",
        "<font color='red'> **In order to fix the multiple comparison problem we can preform the following corrections: Bonferroni Correction, Sidak Correction, Holm’s Step-Down Procedure, Hochberg’s Step-Up Procedure, Tukey’s Procedure, Dunnet’s Correction.**"
      ]
    },
    {
      "cell_type": "markdown",
      "metadata": {
        "id": "DbdhsGiNAGXA"
      },
      "source": [
        "**1.4 Load the dataset classifier_results.csv. The dataset contains the following fields:** \n",
        "\n",
        "**Dataset** - 200 datasets retreived from [OpenML](https://www.openml.org/search?type=data) dataset directory.\n",
        "\n",
        "**Classifier** - 9 classifiers from scikit-learn\n",
        "\n",
        "**Accuracy** - The accuracy achieved after applying the classifier to the dataset\n",
        "\n",
        "\n",
        "**Is there a significant statistical difference between these classifiers ? If you were asked to continue your analysis with only a limited number of classifiers how many would you pick and why ? (1.0 points)** (Hint:You can use the orange package that was introduced in the practice session) "
      ]
    },
    {
      "cell_type": "code",
      "metadata": {
        "id": "xZU2dA-aAGXB",
        "colab": {
          "base_uri": "https://localhost:8080/",
          "height": 416
        },
        "outputId": "2c1d0727-80e7-444e-d04b-18ff79a7b9ec"
      },
      "source": [
        "df_data = pd.read_csv(\"https://raw.githubusercontent.com/RonyEmam/data/main/classifier_results.csv\", sep=\",\")\n",
        "df_data"
      ],
      "execution_count": null,
      "outputs": [
        {
          "output_type": "execute_result",
          "data": {
            "text/html": [
              "<div>\n",
              "<style scoped>\n",
              "    .dataframe tbody tr th:only-of-type {\n",
              "        vertical-align: middle;\n",
              "    }\n",
              "\n",
              "    .dataframe tbody tr th {\n",
              "        vertical-align: top;\n",
              "    }\n",
              "\n",
              "    .dataframe thead th {\n",
              "        text-align: right;\n",
              "    }\n",
              "</style>\n",
              "<table border=\"1\" class=\"dataframe\">\n",
              "  <thead>\n",
              "    <tr style=\"text-align: right;\">\n",
              "      <th></th>\n",
              "      <th>Dataset</th>\n",
              "      <th>Classifier</th>\n",
              "      <th>Accuracy</th>\n",
              "    </tr>\n",
              "  </thead>\n",
              "  <tbody>\n",
              "    <tr>\n",
              "      <th>0</th>\n",
              "      <td>dataset_53_heart-statlog.csv</td>\n",
              "      <td>KNeighborsClassifier</td>\n",
              "      <td>0.777778</td>\n",
              "    </tr>\n",
              "    <tr>\n",
              "      <th>1</th>\n",
              "      <td>dataset_53_heart-statlog.csv</td>\n",
              "      <td>GaussianProcessClassifier</td>\n",
              "      <td>0.481481</td>\n",
              "    </tr>\n",
              "    <tr>\n",
              "      <th>2</th>\n",
              "      <td>dataset_53_heart-statlog.csv</td>\n",
              "      <td>DecisionTreeClassifier</td>\n",
              "      <td>0.796296</td>\n",
              "    </tr>\n",
              "    <tr>\n",
              "      <th>3</th>\n",
              "      <td>dataset_53_heart-statlog.csv</td>\n",
              "      <td>RandomForestClassifier</td>\n",
              "      <td>0.796296</td>\n",
              "    </tr>\n",
              "    <tr>\n",
              "      <th>4</th>\n",
              "      <td>dataset_53_heart-statlog.csv</td>\n",
              "      <td>AdaBoostClassifier</td>\n",
              "      <td>0.777778</td>\n",
              "    </tr>\n",
              "    <tr>\n",
              "      <th>...</th>\n",
              "      <td>...</td>\n",
              "      <td>...</td>\n",
              "      <td>...</td>\n",
              "    </tr>\n",
              "    <tr>\n",
              "      <th>162</th>\n",
              "      <td>pc1.csv</td>\n",
              "      <td>AdaBoostClassifier</td>\n",
              "      <td>0.941441</td>\n",
              "    </tr>\n",
              "    <tr>\n",
              "      <th>163</th>\n",
              "      <td>pc1.csv</td>\n",
              "      <td>QuadraticDiscriminantAnalysis</td>\n",
              "      <td>0.927928</td>\n",
              "    </tr>\n",
              "    <tr>\n",
              "      <th>164</th>\n",
              "      <td>pc1.csv</td>\n",
              "      <td>GradientBoostingClassifier</td>\n",
              "      <td>0.927928</td>\n",
              "    </tr>\n",
              "    <tr>\n",
              "      <th>165</th>\n",
              "      <td>pc1.csv</td>\n",
              "      <td>LinearDiscriminantAnalysis</td>\n",
              "      <td>0.932432</td>\n",
              "    </tr>\n",
              "    <tr>\n",
              "      <th>166</th>\n",
              "      <td>pc1.csv</td>\n",
              "      <td>LogisticRegression</td>\n",
              "      <td>0.932432</td>\n",
              "    </tr>\n",
              "  </tbody>\n",
              "</table>\n",
              "<p>167 rows × 3 columns</p>\n",
              "</div>"
            ],
            "text/plain": [
              "                          Dataset                     Classifier  Accuracy\n",
              "0    dataset_53_heart-statlog.csv           KNeighborsClassifier  0.777778\n",
              "1    dataset_53_heart-statlog.csv      GaussianProcessClassifier  0.481481\n",
              "2    dataset_53_heart-statlog.csv         DecisionTreeClassifier  0.796296\n",
              "3    dataset_53_heart-statlog.csv         RandomForestClassifier  0.796296\n",
              "4    dataset_53_heart-statlog.csv             AdaBoostClassifier  0.777778\n",
              "..                            ...                            ...       ...\n",
              "162                       pc1.csv             AdaBoostClassifier  0.941441\n",
              "163                       pc1.csv  QuadraticDiscriminantAnalysis  0.927928\n",
              "164                       pc1.csv     GradientBoostingClassifier  0.927928\n",
              "165                       pc1.csv     LinearDiscriminantAnalysis  0.932432\n",
              "166                       pc1.csv             LogisticRegression  0.932432\n",
              "\n",
              "[167 rows x 3 columns]"
            ]
          },
          "metadata": {
            "tags": []
          },
          "execution_count": 20
        }
      ]
    },
    {
      "cell_type": "code",
      "metadata": {
        "colab": {
          "base_uri": "https://localhost:8080/"
        },
        "id": "8eqd5LoiUl5U",
        "outputId": "6f80f419-4a41-4ee5-cdf5-862f808c8e2b"
      },
      "source": [
        "!pip install Orange3"
      ],
      "execution_count": null,
      "outputs": [
        {
          "output_type": "stream",
          "text": [
            "Collecting Orange3\n",
            "\u001b[?25l  Downloading https://files.pythonhosted.org/packages/fc/84/f8c7af5726bcbda9700e3653abdaeef9d376732ee221dcb4dc90e84b0402/Orange3-3.28.0-cp37-cp37m-manylinux1_x86_64.whl (24.4MB)\n",
            "\u001b[K     |████████████████████████████████| 24.4MB 1.4MB/s \n",
            "\u001b[?25hRequirement already satisfied: xlrd>=0.9.2 in /usr/local/lib/python3.7/dist-packages (from Orange3) (1.1.0)\n",
            "Requirement already satisfied: numpy>=1.16.0 in /usr/local/lib/python3.7/dist-packages (from Orange3) (1.19.5)\n",
            "Requirement already satisfied: pyyaml in /usr/local/lib/python3.7/dist-packages (from Orange3) (3.13)\n",
            "Requirement already satisfied: setuptools>=36.3 in /usr/local/lib/python3.7/dist-packages (from Orange3) (56.0.0)\n",
            "Requirement already satisfied: scikit-learn!=0.23.0,>=0.22.0 in /usr/local/lib/python3.7/dist-packages (from Orange3) (0.22.2.post1)\n",
            "Collecting orange-widget-base>=4.12.0\n",
            "\u001b[?25l  Downloading https://files.pythonhosted.org/packages/0f/6d/507610ea0edbdb4264d0c581dac2fe276c23579c037348f2ad8f3bc2aaf9/orange_widget_base-4.13.0-py3-none-any.whl (251kB)\n",
            "\u001b[K     |████████████████████████████████| 256kB 37.1MB/s \n",
            "\u001b[?25hCollecting PyQt5!=5.15.1,>=5.12\n",
            "\u001b[?25l  Downloading https://files.pythonhosted.org/packages/ed/62/cd9f10702c75b242f82da858668fba0cda04cda92133244d3d1555e530b4/PyQt5-5.15.4-cp36.cp37.cp38.cp39-abi3-manylinux2014_x86_64.whl (8.3MB)\n",
            "\u001b[K     |████████████████████████████████| 8.3MB 50.5MB/s \n",
            "\u001b[?25hRequirement already satisfied: pandas>=1.0.0 in /usr/local/lib/python3.7/dist-packages (from Orange3) (1.1.5)\n",
            "Collecting httpx<0.17,>=0.14.0\n",
            "\u001b[?25l  Downloading https://files.pythonhosted.org/packages/2d/c6/59aa4188e7eddb9e89ec67a51598ca6bfc09f1b38c9b45f7ee45af7a4df4/httpx-0.16.1-py3-none-any.whl (65kB)\n",
            "\u001b[K     |████████████████████████████████| 71kB 6.4MB/s \n",
            "\u001b[?25hRequirement already satisfied: networkx in /usr/local/lib/python3.7/dist-packages (from Orange3) (2.5.1)\n",
            "Collecting xlsxwriter\n",
            "\u001b[?25l  Downloading https://files.pythonhosted.org/packages/3f/c1/2a77723ae03fea7650f8d77ab78055c08fd905fc956d67d4e4c4fc32c653/XlsxWriter-1.4.0-py2.py3-none-any.whl (147kB)\n",
            "\u001b[K     |████████████████████████████████| 153kB 55.9MB/s \n",
            "\u001b[?25hRequirement already satisfied: bottleneck>=1.0.0 in /usr/local/lib/python3.7/dist-packages (from Orange3) (1.3.2)\n",
            "Requirement already satisfied: pip>=9.0 in /usr/local/lib/python3.7/dist-packages (from Orange3) (19.3.1)\n",
            "Requirement already satisfied: python-louvain>=0.13 in /usr/local/lib/python3.7/dist-packages (from Orange3) (0.15)\n",
            "Requirement already satisfied: chardet>=3.0.2 in /usr/local/lib/python3.7/dist-packages (from Orange3) (3.0.4)\n",
            "Collecting AnyQt>=0.0.11\n",
            "\u001b[?25l  Downloading https://files.pythonhosted.org/packages/c3/91/6864d08ce67446c1bba3b6f8f92ecedc444e19a32486cc5b66318d8f08ce/AnyQt-0.0.12-py2.py3-none-any.whl (46kB)\n",
            "\u001b[K     |████████████████████████████████| 51kB 5.6MB/s \n",
            "\u001b[?25hRequirement already satisfied: openpyxl in /usr/local/lib/python3.7/dist-packages (from Orange3) (2.5.9)\n",
            "Requirement already satisfied: scipy>=0.16.1 in /usr/local/lib/python3.7/dist-packages (from Orange3) (1.4.1)\n",
            "Requirement already satisfied: joblib>=0.9.4 in /usr/local/lib/python3.7/dist-packages (from Orange3) (1.0.1)\n",
            "Collecting pyqtgraph>=0.11.0\n",
            "\u001b[?25l  Downloading https://files.pythonhosted.org/packages/6d/7a/6d07b9ea6ca1876fd7de15ebc34be407255f0d28bcd007b0cab816ede8e3/pyqtgraph-0.12.1-py3-none-any.whl (939kB)\n",
            "\u001b[K     |████████████████████████████████| 942kB 49.3MB/s \n",
            "\u001b[?25hCollecting baycomp>=1.0.2\n",
            "  Downloading https://files.pythonhosted.org/packages/05/69/3029fe9fe13e4ec14d9d6be695ee197e4cd75221c7f77eb95ac5604035b4/baycomp-1.0.2-py3-none-any.whl\n",
            "Collecting keyring\n",
            "  Downloading https://files.pythonhosted.org/packages/26/f9/41230ac47f738f1ba66676dc8d3b30ca5b1f9eb0230fc204bcd9836c4ae9/keyring-23.0.1-py3-none-any.whl\n",
            "Requirement already satisfied: matplotlib>=2.0.0 in /usr/local/lib/python3.7/dist-packages (from Orange3) (3.2.2)\n",
            "Collecting PyQtWebEngine>=5.12\n",
            "\u001b[?25l  Downloading https://files.pythonhosted.org/packages/8a/4a/570f9544d872c27d4c71f72c81af6890337a952a1b2923828c8f9dd56244/PyQtWebEngine-5.15.4-cp36.cp37.cp38.cp39-abi3-manylinux2014_x86_64.whl (229kB)\n",
            "\u001b[K     |████████████████████████████████| 235kB 44.4MB/s \n",
            "\u001b[?25hCollecting openTSNE>=0.4.3\n",
            "\u001b[?25l  Downloading https://files.pythonhosted.org/packages/de/af/9b59afb6f642eb8d4beaa8b38249526b88796a58329d2a3a4d14cba3e37b/openTSNE-0.6.0-cp37-cp37m-manylinux2010_x86_64.whl (2.3MB)\n",
            "\u001b[K     |████████████████████████████████| 2.3MB 41.6MB/s \n",
            "\u001b[?25hCollecting serverfiles\n",
            "  Downloading https://files.pythonhosted.org/packages/33/36/794fe1c4ed29b0f56a26d72e956baf0285d8fe9e29faf36797a28a8ad45b/serverfiles-0.3.1.tar.gz\n",
            "Requirement already satisfied: requests in /usr/local/lib/python3.7/dist-packages (from Orange3) (2.23.0)\n",
            "Collecting keyrings.alt\n",
            "  Downloading https://files.pythonhosted.org/packages/55/bd/36afd53fe86dc28c2f7280d4e1f5e1e58dc26c0272609af069818f575698/keyrings.alt-4.0.2-py3-none-any.whl\n",
            "Collecting orange-canvas-core<0.2a,>=0.1.19\n",
            "\u001b[?25l  Downloading https://files.pythonhosted.org/packages/60/3d/2d256b00689f7d0c724d4d8f8dfc671d4ffbe51591ec2d05fd0d60564c17/orange_canvas_core-0.1.20-py3-none-any.whl (484kB)\n",
            "\u001b[K     |████████████████████████████████| 491kB 46.7MB/s \n",
            "\u001b[?25hRequirement already satisfied: typing-extensions>=3.7.4.3 in /usr/local/lib/python3.7/dist-packages (from orange-widget-base>=4.12.0->Orange3) (3.7.4.3)\n",
            "Collecting PyQt5-sip<13,>=12.8\n",
            "\u001b[?25l  Downloading https://files.pythonhosted.org/packages/31/24/f887203677955ba4d5d4efe9176ac7ed2bf84efce8c243ab91e63183ad9e/PyQt5_sip-12.8.1-cp37-cp37m-manylinux1_x86_64.whl (283kB)\n",
            "\u001b[K     |████████████████████████████████| 286kB 45.5MB/s \n",
            "\u001b[?25hCollecting PyQt5-Qt5>=5.15\n",
            "\u001b[?25l  Downloading https://files.pythonhosted.org/packages/83/d4/241a6a518d0bcf0a9fcdcbad5edfed18d43e884317eab8d5230a2b27e206/PyQt5_Qt5-5.15.2-py3-none-manylinux2014_x86_64.whl (59.9MB)\n",
            "\u001b[K     |████████████████████████████████| 59.9MB 67kB/s \n",
            "\u001b[?25hRequirement already satisfied: python-dateutil>=2.7.3 in /usr/local/lib/python3.7/dist-packages (from pandas>=1.0.0->Orange3) (2.8.1)\n",
            "Requirement already satisfied: pytz>=2017.2 in /usr/local/lib/python3.7/dist-packages (from pandas>=1.0.0->Orange3) (2018.9)\n",
            "Collecting rfc3986[idna2008]<2,>=1.3\n",
            "  Downloading https://files.pythonhosted.org/packages/78/be/7b8b99fd74ff5684225f50dd0e865393d2265656ef3b4ba9eaaaffe622b8/rfc3986-1.4.0-py2.py3-none-any.whl\n",
            "Collecting httpcore==0.12.*\n",
            "\u001b[?25l  Downloading https://files.pythonhosted.org/packages/50/ce/544244e2145075896d38f7db3e822c24d1be9f7966ed3d83f158e388d195/httpcore-0.12.3-py3-none-any.whl (55kB)\n",
            "\u001b[K     |████████████████████████████████| 61kB 6.0MB/s \n",
            "\u001b[?25hCollecting sniffio\n",
            "  Downloading https://files.pythonhosted.org/packages/52/b0/7b2e028b63d092804b6794595871f936aafa5e9322dcaaad50ebf67445b3/sniffio-1.2.0-py3-none-any.whl\n",
            "Requirement already satisfied: certifi in /usr/local/lib/python3.7/dist-packages (from httpx<0.17,>=0.14.0->Orange3) (2020.12.5)\n",
            "Requirement already satisfied: decorator<5,>=4.3 in /usr/local/lib/python3.7/dist-packages (from networkx->Orange3) (4.4.2)\n",
            "Requirement already satisfied: jdcal in /usr/local/lib/python3.7/dist-packages (from openpyxl->Orange3) (1.4.1)\n",
            "Requirement already satisfied: et-xmlfile in /usr/local/lib/python3.7/dist-packages (from openpyxl->Orange3) (1.0.1)\n",
            "Collecting SecretStorage>=3.2; sys_platform == \"linux\"\n",
            "  Downloading https://files.pythonhosted.org/packages/d9/1e/29cd69fdac7391aa51510dfd42aa70b4e6a826c8cd019ee2a8ab9ec0777f/SecretStorage-3.3.1-py3-none-any.whl\n",
            "Collecting jeepney>=0.4.2; sys_platform == \"linux\"\n",
            "\u001b[?25l  Downloading https://files.pythonhosted.org/packages/51/b0/a6ea72741aaac3f37fb96d195e4ee576a103c4c04e279bc6b446a70960e1/jeepney-0.6.0-py3-none-any.whl (45kB)\n",
            "\u001b[K     |████████████████████████████████| 51kB 4.8MB/s \n",
            "\u001b[?25hRequirement already satisfied: importlib-metadata>=3.6 in /usr/local/lib/python3.7/dist-packages (from keyring->Orange3) (3.10.1)\n",
            "Requirement already satisfied: pyparsing!=2.0.4,!=2.1.2,!=2.1.6,>=2.0.1 in /usr/local/lib/python3.7/dist-packages (from matplotlib>=2.0.0->Orange3) (2.4.7)\n",
            "Requirement already satisfied: cycler>=0.10 in /usr/local/lib/python3.7/dist-packages (from matplotlib>=2.0.0->Orange3) (0.10.0)\n",
            "Requirement already satisfied: kiwisolver>=1.0.1 in /usr/local/lib/python3.7/dist-packages (from matplotlib>=2.0.0->Orange3) (1.3.1)\n",
            "Collecting PyQtWebEngine-Qt5>=5.15\n",
            "\u001b[?25l  Downloading https://files.pythonhosted.org/packages/48/62/117c9c96837287b181fce6da481065ddda68b3a8c0fa5f00ea62cc08b877/PyQtWebEngine_Qt5-5.15.2-py3-none-manylinux2014_x86_64.whl (67.5MB)\n",
            "\u001b[K     |████████████████████████████████| 67.5MB 121kB/s \n",
            "\u001b[?25hRequirement already satisfied: idna<3,>=2.5 in /usr/local/lib/python3.7/dist-packages (from requests->Orange3) (2.10)\n",
            "Requirement already satisfied: urllib3!=1.25.0,!=1.25.1,<1.26,>=1.21.1 in /usr/local/lib/python3.7/dist-packages (from requests->Orange3) (1.24.3)\n",
            "Requirement already satisfied: cachecontrol[filecache] in /usr/local/lib/python3.7/dist-packages (from orange-canvas-core<0.2a,>=0.1.19->Orange3) (0.12.6)\n",
            "Collecting qasync\n",
            "  Downloading https://files.pythonhosted.org/packages/7b/9d/822656ec1ed105efaf502e076f86e1b3be18d7ffa26789705d392e202421/qasync-0.15.0-py3-none-any.whl\n",
            "Collecting commonmark>=0.8.1\n",
            "\u001b[?25l  Downloading https://files.pythonhosted.org/packages/b1/92/dfd892312d822f36c55366118b95d914e5f16de11044a27cf10a7d71bbbf/commonmark-0.9.1-py2.py3-none-any.whl (51kB)\n",
            "\u001b[K     |████████████████████████████████| 51kB 5.0MB/s \n",
            "\u001b[?25hRequirement already satisfied: docutils in /usr/local/lib/python3.7/dist-packages (from orange-canvas-core<0.2a,>=0.1.19->Orange3) (0.17)\n",
            "Collecting dictdiffer\n",
            "  Downloading https://files.pythonhosted.org/packages/97/92/350b6b6ec39c5f87d98d04c91a50c498518716a05368e6dea88b5c69b590/dictdiffer-0.8.1-py2.py3-none-any.whl\n",
            "Requirement already satisfied: six>=1.5 in /usr/local/lib/python3.7/dist-packages (from python-dateutil>=2.7.3->pandas>=1.0.0->Orange3) (1.15.0)\n",
            "Collecting h11==0.*\n",
            "\u001b[?25l  Downloading https://files.pythonhosted.org/packages/60/0f/7a0eeea938eaf61074f29fed9717f2010e8d0e0905d36b38d3275a1e4622/h11-0.12.0-py3-none-any.whl (54kB)\n",
            "\u001b[K     |████████████████████████████████| 61kB 5.8MB/s \n",
            "\u001b[?25hCollecting cryptography>=2.0\n",
            "\u001b[?25l  Downloading https://files.pythonhosted.org/packages/b2/26/7af637e6a7e87258b963f1731c5982fb31cd507f0d90d91836e446955d02/cryptography-3.4.7-cp36-abi3-manylinux2014_x86_64.whl (3.2MB)\n",
            "\u001b[K     |████████████████████████████████| 3.2MB 39.5MB/s \n",
            "\u001b[?25hRequirement already satisfied: zipp>=0.5 in /usr/local/lib/python3.7/dist-packages (from importlib-metadata>=3.6->keyring->Orange3) (3.4.1)\n",
            "Requirement already satisfied: msgpack>=0.5.2 in /usr/local/lib/python3.7/dist-packages (from cachecontrol[filecache]->orange-canvas-core<0.2a,>=0.1.19->Orange3) (1.0.2)\n",
            "Collecting lockfile>=0.9; extra == \"filecache\"\n",
            "  Downloading https://files.pythonhosted.org/packages/c8/22/9460e311f340cb62d26a38c419b1381b8593b0bb6b5d1f056938b086d362/lockfile-0.12.2-py2.py3-none-any.whl\n",
            "Requirement already satisfied: cffi>=1.12 in /usr/local/lib/python3.7/dist-packages (from cryptography>=2.0->SecretStorage>=3.2; sys_platform == \"linux\"->keyring->Orange3) (1.14.5)\n",
            "Requirement already satisfied: pycparser in /usr/local/lib/python3.7/dist-packages (from cffi>=1.12->cryptography>=2.0->SecretStorage>=3.2; sys_platform == \"linux\"->keyring->Orange3) (2.20)\n",
            "Building wheels for collected packages: serverfiles\n",
            "  Building wheel for serverfiles (setup.py) ... \u001b[?25l\u001b[?25hdone\n",
            "  Created wheel for serverfiles: filename=serverfiles-0.3.1-cp37-none-any.whl size=6934 sha256=66b7a7eda3aa0d890c69719636eb572f590abcf7e552320ebfc9d1d9186427be\n",
            "  Stored in directory: /root/.cache/pip/wheels/44/6b/34/390c2a031578679a5b674f27cea82073d569a6ee1d595a0c7c\n",
            "Successfully built serverfiles\n",
            "Installing collected packages: qasync, commonmark, AnyQt, dictdiffer, orange-canvas-core, pyqtgraph, orange-widget-base, PyQt5-sip, PyQt5-Qt5, PyQt5, rfc3986, sniffio, h11, httpcore, httpx, xlsxwriter, baycomp, jeepney, cryptography, SecretStorage, keyring, PyQtWebEngine-Qt5, PyQtWebEngine, openTSNE, serverfiles, keyrings.alt, Orange3, lockfile\n",
            "Successfully installed AnyQt-0.0.12 Orange3-3.28.0 PyQt5-5.15.4 PyQt5-Qt5-5.15.2 PyQt5-sip-12.8.1 PyQtWebEngine-5.15.4 PyQtWebEngine-Qt5-5.15.2 SecretStorage-3.3.1 baycomp-1.0.2 commonmark-0.9.1 cryptography-3.4.7 dictdiffer-0.8.1 h11-0.12.0 httpcore-0.12.3 httpx-0.16.1 jeepney-0.6.0 keyring-23.0.1 keyrings.alt-4.0.2 lockfile-0.12.2 openTSNE-0.6.0 orange-canvas-core-0.1.20 orange-widget-base-4.13.0 pyqtgraph-0.12.1 qasync-0.15.0 rfc3986-1.4.0 serverfiles-0.3.1 sniffio-1.2.0 xlsxwriter-1.4.0\n"
          ],
          "name": "stdout"
        }
      ]
    },
    {
      "cell_type": "code",
      "metadata": {
        "colab": {
          "base_uri": "https://localhost:8080/",
          "height": 1000
        },
        "id": "MASI6u0zUr80",
        "outputId": "9d190c6d-a9d9-47db-c082-b0bd93e331f2"
      },
      "source": [
        "import numpy as np\n",
        "import pandas as pd\n",
        "import matplotlib\n",
        "\n",
        "matplotlib.use('agg')\n",
        "import matplotlib.pyplot as plt\n",
        "\n",
        "matplotlib.rcParams['font.family'] = 'sans-serif'\n",
        "matplotlib.rcParams['font.sans-serif'] = 'Arial'\n",
        "\n",
        "import operator\n",
        "import math\n",
        "from scipy.stats import wilcoxon\n",
        "from scipy.stats import friedmanchisquare\n",
        "import networkx\n",
        "\n",
        "# inspired from orange3 https://docs.orange.biolab.si/3/data-mining-library/reference/evaluation.cd.html\n",
        "def graph_ranks(avranks, names, p_values, cd=None, cdmethod=None, lowv=None, highv=None,\n",
        "                width=6, textspace=1, reverse=False, filename=None, labels=False, **kwargs):\n",
        "    \"\"\"\n",
        "    Draws a CD graph, which is used to display  the differences in methods'\n",
        "    performance. See Janez Demsar, Statistical Comparisons of Classifiers over\n",
        "    Multiple Data Sets, 7(Jan):1--30, 2006.\n",
        "    Needs matplotlib to work.\n",
        "    The image is ploted on `plt` imported using\n",
        "    `import matplotlib.pyplot as plt`.\n",
        "    Args:\n",
        "        avranks (list of float): average ranks of methods.\n",
        "        names (list of str): names of methods.\n",
        "        cd (float): Critical difference used for statistically significance of\n",
        "            difference between methods.\n",
        "        cdmethod (int, optional): the method that is compared with other methods\n",
        "            If omitted, show pairwise comparison of methods\n",
        "        lowv (int, optional): the lowest shown rank\n",
        "        highv (int, optional): the highest shown rank\n",
        "        width (int, optional): default width in inches (default: 6)\n",
        "        textspace (int, optional): space on figure sides (in inches) for the\n",
        "            method names (default: 1)\n",
        "        reverse (bool, optional):  if set to `True`, the lowest rank is on the\n",
        "            right (default: `False`)\n",
        "        filename (str, optional): output file name (with extension). If not\n",
        "            given, the function does not write a file.\n",
        "        labels (bool, optional): if set to `True`, the calculated avg rank\n",
        "        values will be displayed\n",
        "    \"\"\"\n",
        "    try:\n",
        "        import matplotlib\n",
        "        import matplotlib.pyplot as plt\n",
        "        from matplotlib.backends.backend_agg import FigureCanvasAgg\n",
        "    except ImportError:\n",
        "        raise ImportError(\"Function graph_ranks requires matplotlib.\")\n",
        "\n",
        "    width = float(width)\n",
        "    textspace = float(textspace)\n",
        "\n",
        "    def nth(l, n):\n",
        "        \"\"\"\n",
        "        Returns only nth elemnt in a list.\n",
        "        \"\"\"\n",
        "        n = lloc(l, n)\n",
        "        return [a[n] for a in l]\n",
        "\n",
        "    def lloc(l, n):\n",
        "        \"\"\"\n",
        "        List location in list of list structure.\n",
        "        Enable the use of negative locations:\n",
        "        -1 is the last element, -2 second last...\n",
        "        \"\"\"\n",
        "        if n < 0:\n",
        "            return len(l[0]) + n\n",
        "        else:\n",
        "            return n\n",
        "\n",
        "    def mxrange(lr):\n",
        "        \"\"\"\n",
        "        Multiple xranges. Can be used to traverse matrices.\n",
        "        This function is very slow due to unknown number of\n",
        "        parameters.\n",
        "        >>> mxrange([3,5])\n",
        "        [(0, 0), (0, 1), (0, 2), (1, 0), (1, 1), (1, 2)]\n",
        "        >>> mxrange([[3,5,1],[9,0,-3]])\n",
        "        [(3, 9), (3, 6), (3, 3), (4, 9), (4, 6), (4, 3)]\n",
        "        \"\"\"\n",
        "        if not len(lr):\n",
        "            yield ()\n",
        "        else:\n",
        "            # it can work with single numbers\n",
        "            index = lr[0]\n",
        "            if isinstance(index, int):\n",
        "                index = [index]\n",
        "            for a in range(*index):\n",
        "                for b in mxrange(lr[1:]):\n",
        "                    yield tuple([a] + list(b))\n",
        "\n",
        "    def print_figure(fig, *args, **kwargs):\n",
        "        canvas = FigureCanvasAgg(fig)\n",
        "        canvas.print_figure(*args, **kwargs)\n",
        "\n",
        "    sums = avranks\n",
        "\n",
        "    nnames = names\n",
        "    ssums = sums\n",
        "\n",
        "    if lowv is None:\n",
        "        lowv = min(1, int(math.floor(min(ssums))))\n",
        "    if highv is None:\n",
        "        highv = max(len(avranks), int(math.ceil(max(ssums))))\n",
        "\n",
        "    cline = 0.4\n",
        "\n",
        "    k = len(sums)\n",
        "\n",
        "    lines = None\n",
        "\n",
        "    linesblank = 0\n",
        "    scalewidth = width - 2 * textspace\n",
        "\n",
        "    def rankpos(rank):\n",
        "        if not reverse:\n",
        "            a = rank - lowv\n",
        "        else:\n",
        "            a = highv - rank\n",
        "        return textspace + scalewidth / (highv - lowv) * a\n",
        "\n",
        "    distanceh = 0.25\n",
        "\n",
        "    cline += distanceh\n",
        "\n",
        "    # calculate height needed height of an image\n",
        "    minnotsignificant = max(2 * 0.2, linesblank)\n",
        "    height = cline + ((k + 1) / 2) * 0.2 + minnotsignificant\n",
        "\n",
        "    fig = plt.figure(figsize=(width, height))\n",
        "    fig.set_facecolor('white')\n",
        "    ax = fig.add_axes([0, 0, 1, 1])  # reverse y axis\n",
        "    ax.set_axis_off()\n",
        "\n",
        "    hf = 1. / height  # height factor\n",
        "    wf = 1. / width\n",
        "\n",
        "    def hfl(l):\n",
        "        return [a * hf for a in l]\n",
        "\n",
        "    def wfl(l):\n",
        "        return [a * wf for a in l]\n",
        "\n",
        "    # Upper left corner is (0,0).\n",
        "    ax.plot([0, 1], [0, 1], c=\"w\")\n",
        "    ax.set_xlim(0, 1)\n",
        "    ax.set_ylim(1, 0)\n",
        "\n",
        "    def line(l, color='k', **kwargs):\n",
        "        \"\"\"\n",
        "        Input is a list of pairs of points.\n",
        "        \"\"\"\n",
        "        ax.plot(wfl(nth(l, 0)), hfl(nth(l, 1)), color=color, **kwargs)\n",
        "\n",
        "    def text(x, y, s, *args, **kwargs):\n",
        "        ax.text(wf * x, hf * y, s, *args, **kwargs)\n",
        "\n",
        "    line([(textspace, cline), (width - textspace, cline)], linewidth=2)\n",
        "\n",
        "    bigtick = 0.3\n",
        "    smalltick = 0.15\n",
        "    linewidth = 2.0\n",
        "    linewidth_sign = 4.0\n",
        "\n",
        "    tick = None\n",
        "    for a in list(np.arange(lowv, highv, 0.5)) + [highv]:\n",
        "        tick = smalltick\n",
        "        if a == int(a):\n",
        "            tick = bigtick\n",
        "        line([(rankpos(a), cline - tick / 2),\n",
        "              (rankpos(a), cline)],\n",
        "             linewidth=2)\n",
        "\n",
        "    for a in range(lowv, highv + 1):\n",
        "        text(rankpos(a), cline - tick / 2 - 0.05, str(a),\n",
        "             ha=\"center\", va=\"bottom\", size=16)\n",
        "\n",
        "    k = len(ssums)\n",
        "\n",
        "    def filter_names(name):\n",
        "        return name\n",
        "\n",
        "    space_between_names = 0.24\n",
        "\n",
        "    for i in range(math.ceil(k / 2)):\n",
        "        chei = cline + minnotsignificant + i * space_between_names\n",
        "        line([(rankpos(ssums[i]), cline),\n",
        "              (rankpos(ssums[i]), chei),\n",
        "              (textspace - 0.1, chei)],\n",
        "             linewidth=linewidth)\n",
        "        if labels:\n",
        "            text(textspace + 0.3, chei - 0.075, format(ssums[i], '.4f'), ha=\"right\", va=\"center\", size=10)\n",
        "        text(textspace - 0.2, chei, filter_names(nnames[i]), ha=\"right\", va=\"center\", size=16)\n",
        "\n",
        "    for i in range(math.ceil(k / 2), k):\n",
        "        chei = cline + minnotsignificant + (k - i - 1) * space_between_names\n",
        "        line([(rankpos(ssums[i]), cline),\n",
        "              (rankpos(ssums[i]), chei),\n",
        "              (textspace + scalewidth + 0.1, chei)],\n",
        "             linewidth=linewidth)\n",
        "        if labels:\n",
        "            text(textspace + scalewidth - 0.3, chei - 0.075, format(ssums[i], '.4f'), ha=\"left\", va=\"center\", size=10)\n",
        "        text(textspace + scalewidth + 0.2, chei, filter_names(nnames[i]),\n",
        "             ha=\"left\", va=\"center\", size=16)\n",
        "\n",
        "    # no-significance lines\n",
        "    def draw_lines(lines, side=0.05, height=0.1):\n",
        "        start = cline + 0.2\n",
        "\n",
        "        for l, r in lines:\n",
        "            line([(rankpos(ssums[l]) - side, start),\n",
        "                  (rankpos(ssums[r]) + side, start)],\n",
        "                 linewidth=linewidth_sign)\n",
        "            start += height\n",
        "            print('drawing: ', l, r)\n",
        "\n",
        "    # draw_lines(lines)\n",
        "    start = cline + 0.2\n",
        "    side = -0.02\n",
        "    height = 0.1\n",
        "\n",
        "    # draw no significant lines\n",
        "    # get the cliques\n",
        "    cliques = form_cliques(p_values, nnames)\n",
        "    i = 1\n",
        "    achieved_half = False\n",
        "    print(nnames)\n",
        "    for clq in cliques:\n",
        "        if len(clq) == 1:\n",
        "            continue\n",
        "        print(clq)\n",
        "        min_idx = np.array(clq).min()\n",
        "        max_idx = np.array(clq).max()\n",
        "        if min_idx >= len(nnames) / 2 and achieved_half == False:\n",
        "            start = cline + 0.25\n",
        "            achieved_half = True\n",
        "        line([(rankpos(ssums[min_idx]) - side, start),\n",
        "              (rankpos(ssums[max_idx]) + side, start)],\n",
        "             linewidth=linewidth_sign)\n",
        "        start += height\n",
        "\n",
        "\n",
        "def form_cliques(p_values, nnames):\n",
        "    \"\"\"\n",
        "    This method forms the cliques\n",
        "    \"\"\"\n",
        "    # first form the numpy matrix data\n",
        "    m = len(nnames)\n",
        "    g_data = np.zeros((m, m), dtype=np.int64)\n",
        "    for p in p_values:\n",
        "        if p[3] == False:\n",
        "            i = np.where(nnames == p[0])[0][0]\n",
        "            j = np.where(nnames == p[1])[0][0]\n",
        "            min_i = min(i, j)\n",
        "            max_j = max(i, j)\n",
        "            g_data[min_i, max_j] = 1\n",
        "\n",
        "    g = networkx.Graph(g_data)\n",
        "    return networkx.find_cliques(g)\n",
        "\n",
        "\n",
        "def draw_cd_diagram(df_perf=None, alpha=0.05, title=None, labels=False):\n",
        "    \"\"\"\n",
        "    Draws the critical difference diagram given the list of pairwise classifiers that are\n",
        "    significant or not\n",
        "    \"\"\"\n",
        "    p_values, average_ranks, _ = wilcoxon_holm(df_perf=df_perf, alpha=alpha)\n",
        "\n",
        "    print(average_ranks)\n",
        "\n",
        "    for p in p_values:\n",
        "        print(p)\n",
        "\n",
        "\n",
        "    graph_ranks(average_ranks.values, average_ranks.keys(), p_values,\n",
        "                cd=None, reverse=True, width=9, textspace=1.5, labels=labels)\n",
        "\n",
        "    font = {'family': 'sans-serif',\n",
        "        'color':  'black',\n",
        "        'weight': 'normal',\n",
        "        'size': 22,\n",
        "        }\n",
        "    if title:\n",
        "        plt.title(title,fontdict=font, y=0.9, x=0.5)\n",
        "    plt.savefig('cd-diagram.png',bbox_inches='tight')\n",
        "\n",
        "def wilcoxon_holm(alpha=0.05, df_perf=None):\n",
        "    \"\"\"\n",
        "    Applies the wilcoxon signed rank test between each pair of algorithm and then use Holm\n",
        "    to reject the null's hypothesis\n",
        "    \"\"\"\n",
        "    print(pd.unique(df_perf['Classifier']))\n",
        "    # count the number of tested datasets per classifier\n",
        "    df_counts = pd.DataFrame({'count': df_perf.groupby(\n",
        "        ['Classifier']).size()}).reset_index()\n",
        "    # get the maximum number of tested datasets\n",
        "    max_nb_datasets = df_counts['count'].max()\n",
        "    # get the list of classifiers who have been tested on nb_max_datasets\n",
        "    classifiers = list(df_counts.loc[df_counts['count'] == max_nb_datasets]\n",
        "                       ['Classifier'])\n",
        "    # test the null hypothesis using friedman before doing a post-hoc analysis\n",
        "    friedman_p_value = friedmanchisquare(*(\n",
        "        np.array(df_perf.loc[df_perf['Classifier'] == c]['Accuracy'])\n",
        "        for c in classifiers))[1]\n",
        "    if friedman_p_value >= alpha:\n",
        "        # then the null hypothesis over the entire classifiers cannot be rejected\n",
        "        print('the null hypothesis over the entire classifiers cannot be rejected')\n",
        "        exit()\n",
        "    # get the number of classifiers\n",
        "    m = len(classifiers)\n",
        "    # init array that contains the p-values calculated by the Wilcoxon signed rank test\n",
        "    p_values = []\n",
        "    # loop through the algorithms to compare pairwise\n",
        "    for i in range(m - 1):\n",
        "        # get the name of classifier one\n",
        "        classifier_1 = classifiers[i]\n",
        "        # get the performance of classifier one\n",
        "        perf_1 = np.array(df_perf.loc[df_perf['Classifier'] == classifier_1]['Accuracy']\n",
        "                          , dtype=np.float64)\n",
        "        for j in range(i + 1, m):\n",
        "            # get the name of the second classifier\n",
        "            classifier_2 = classifiers[j]\n",
        "            # get the performance of classifier one\n",
        "            perf_2 = np.array(df_perf.loc[df_perf['Classifier'] == classifier_2]\n",
        "                              ['Accuracy'], dtype=np.float64)\n",
        "            # calculate the p_value\n",
        "            p_value = wilcoxon(perf_1, perf_2, zero_method='pratt')[1]\n",
        "            # appen to the list\n",
        "            p_values.append((classifier_1, classifier_2, p_value, False))\n",
        "    # get the number of hypothesis\n",
        "    k = len(p_values)\n",
        "    # sort the list in acsending manner of p-value\n",
        "    p_values.sort(key=operator.itemgetter(2))\n",
        "\n",
        "    # loop through the hypothesis\n",
        "    for i in range(k):\n",
        "        # correct alpha with holm\n",
        "        new_alpha = float(alpha / (k - i))\n",
        "        # test if significant after holm's correction of alpha\n",
        "        if p_values[i][2] <= new_alpha:\n",
        "            p_values[i] = (p_values[i][0], p_values[i][1], p_values[i][2], True)\n",
        "        else:\n",
        "            # stop\n",
        "            break\n",
        "    # compute the average ranks to be returned (useful for drawing the cd diagram)\n",
        "    # sort the dataframe of performances\n",
        "    sorted_df_perf = df_perf.loc[df_perf['Classifier'].isin(classifiers)]. \\\n",
        "        sort_values(['Classifier', 'Dataset'])\n",
        "    # get the rank data\n",
        "    rank_data = np.array(sorted_df_perf['Accuracy']).reshape(m, max_nb_datasets)\n",
        "\n",
        "    # create the data frame containg the accuracies\n",
        "    df_ranks = pd.DataFrame(data=rank_data, index=np.sort(classifiers), columns=\n",
        "    np.unique(sorted_df_perf['Dataset']))\n",
        "\n",
        "    # number of wins\n",
        "    dfff = df_ranks.rank(ascending=False)\n",
        "    print(dfff[dfff == 1.0].sum(axis=1))\n",
        "\n",
        "    # average the ranks\n",
        "    average_ranks = df_ranks.rank(ascending=False).mean(axis=1).sort_values(ascending=False)\n",
        "    # return the p-values and the average ranks\n",
        "    return p_values, average_ranks, max_nb_datasets\n",
        "\n",
        "df_perf = pd.read_csv(\"https://raw.githubusercontent.com/RonyEmam/data/main/classifier_results.csv\", sep=\",\",index_col=False)\n",
        "\n",
        "draw_cd_diagram(df_perf=df_perf, title='Accuracy', labels=True)"
      ],
      "execution_count": null,
      "outputs": [
        {
          "output_type": "stream",
          "text": [
            "['KNeighborsClassifier' 'GaussianProcessClassifier'\n",
            " 'DecisionTreeClassifier' 'RandomForestClassifier' 'AdaBoostClassifier'\n",
            " 'QuadraticDiscriminantAnalysis' 'GradientBoostingClassifier'\n",
            " 'LinearDiscriminantAnalysis' 'LogisticRegression']\n",
            "AdaBoostClassifier               5.0\n",
            "DecisionTreeClassifier           0.0\n",
            "GaussianProcessClassifier        0.0\n",
            "GradientBoostingClassifier       1.0\n",
            "LinearDiscriminantAnalysis       2.0\n",
            "LogisticRegression               4.0\n",
            "QuadraticDiscriminantAnalysis    1.0\n",
            "RandomForestClassifier           0.0\n",
            "dtype: float64\n",
            "GaussianProcessClassifier        6.157895\n",
            "QuadraticDiscriminantAnalysis    6.078947\n",
            "GradientBoostingClassifier       4.947368\n",
            "RandomForestClassifier           4.552632\n",
            "LinearDiscriminantAnalysis       4.184211\n",
            "DecisionTreeClassifier           4.184211\n",
            "AdaBoostClassifier               3.052632\n",
            "LogisticRegression               2.842105\n",
            "dtype: float64\n",
            "('GaussianProcessClassifier', 'LogisticRegression', 0.0003832007166730192, True)\n",
            "('AdaBoostClassifier', 'GaussianProcessClassifier', 0.0005727638496021321, True)\n",
            "('LogisticRegression', 'QuadraticDiscriminantAnalysis', 0.0015657471389352482, True)\n",
            "('AdaBoostClassifier', 'QuadraticDiscriminantAnalysis', 0.002374436941461696, False)\n",
            "('AdaBoostClassifier', 'GradientBoostingClassifier', 0.00366451880168554, False)\n",
            "('QuadraticDiscriminantAnalysis', 'RandomForestClassifier', 0.007732247586978645, False)\n",
            "('DecisionTreeClassifier', 'QuadraticDiscriminantAnalysis', 0.008326514293285958, False)\n",
            "('LogisticRegression', 'RandomForestClassifier', 0.008494057615852821, False)\n",
            "('DecisionTreeClassifier', 'GaussianProcessClassifier', 0.008711156949826871, False)\n",
            "('GradientBoostingClassifier', 'LogisticRegression', 0.009799365275142647, False)\n",
            "('GaussianProcessClassifier', 'GradientBoostingClassifier', 0.012317423433122626, False)\n",
            "('GaussianProcessClassifier', 'RandomForestClassifier', 0.013825728199543289, False)\n",
            "('LinearDiscriminantAnalysis', 'LogisticRegression', 0.01545567145246203, False)\n",
            "('GaussianProcessClassifier', 'LinearDiscriminantAnalysis', 0.05073383397138769, False)\n",
            "('LinearDiscriminantAnalysis', 'QuadraticDiscriminantAnalysis', 0.05073383397138769, False)\n",
            "('GradientBoostingClassifier', 'QuadraticDiscriminantAnalysis', 0.07578312165473378, False)\n",
            "('AdaBoostClassifier', 'RandomForestClassifier', 0.09690610880588489, False)\n",
            "('AdaBoostClassifier', 'DecisionTreeClassifier', 0.16862983797313624, False)\n",
            "('DecisionTreeClassifier', 'LogisticRegression', 0.20942311044040607, False)\n",
            "('DecisionTreeClassifier', 'GradientBoostingClassifier', 0.4005750416000745, False)\n",
            "('LinearDiscriminantAnalysis', 'RandomForestClassifier', 0.4180687388873878, False)\n",
            "('AdaBoostClassifier', 'LinearDiscriminantAnalysis', 0.4432137586433229, False)\n",
            "('GradientBoostingClassifier', 'RandomForestClassifier', 0.46758079416007503, False)\n",
            "('GradientBoostingClassifier', 'LinearDiscriminantAnalysis', 0.5449459779975327, False)\n",
            "('DecisionTreeClassifier', 'RandomForestClassifier', 0.6082607278175851, False)\n",
            "('GaussianProcessClassifier', 'QuadraticDiscriminantAnalysis', 0.6560473440331569, False)\n",
            "('AdaBoostClassifier', 'LogisticRegression', 0.8717572109371752, False)\n",
            "('DecisionTreeClassifier', 'LinearDiscriminantAnalysis', 0.9354597403431613, False)\n"
          ],
          "name": "stdout"
        },
        {
          "output_type": "stream",
          "text": [
            "findfont: Font family ['sans-serif'] not found. Falling back to DejaVu Sans.\n",
            "findfont: Font family ['sans-serif'] not found. Falling back to DejaVu Sans.\n",
            "findfont: Font family ['sans-serif'] not found. Falling back to DejaVu Sans.\n"
          ],
          "name": "stderr"
        },
        {
          "output_type": "stream",
          "text": [
            "Index(['GaussianProcessClassifier', 'QuadraticDiscriminantAnalysis',\n",
            "       'GradientBoostingClassifier', 'RandomForestClassifier',\n",
            "       'LinearDiscriminantAnalysis', 'DecisionTreeClassifier',\n",
            "       'AdaBoostClassifier', 'LogisticRegression'],\n",
            "      dtype='object')\n",
            "[2, 3, 4, 5, 1, 0]\n",
            "[2, 3, 4, 5, 1, 6]\n",
            "[2, 3, 4, 5, 7, 6]\n"
          ],
          "name": "stdout"
        },
        {
          "output_type": "display_data",
          "data": {
            "image/png": "[encoded data removed]",
            "text/plain": [
              "<Figure size 648x140.4 with 1 Axes>"
            ]
          },
          "metadata": {
            "tags": []
          }
        }
      ]
    },
    {
      "cell_type": "code",
      "metadata": {
        "id": "6j4LHnkIUusa"
      },
      "source": [
        "df_perf = df_data\n",
        "\n",
        "\n",
        "# count the number of tested datasets per classifier\n",
        "df_counts = pd.DataFrame({'count': df_perf.groupby(\n",
        "        ['Classifier']).size()}).reset_index()\n",
        "\n",
        "# get the maximum number of tested datasets\n",
        "max_nb_datasets = df_counts['count'].max()\n",
        "\n",
        "# get the list of classifiers who have been tested on nb_max_datasets\n",
        "classifiers = list(df_counts.loc[df_counts['count'] == max_nb_datasets]\n",
        "                       ['Classifier'])\n",
        "\n",
        "# get the number of classifiers\n",
        "m = len(classifiers)\n",
        "\n",
        "# compute the average ranks to be returned (useful for drawing the cd diagram)\n",
        "# sort the dataframe of performances\n",
        "sorted_df_perf = df_perf.loc[df_perf['Classifier'].isin(classifiers)]. \\\n",
        "        sort_values(['Classifier', 'Dataset'])\n",
        "\n",
        "# get the rank data\n",
        "rank_data = np.array(sorted_df_perf['Accuracy']).reshape(m, max_nb_datasets)\n",
        "\n",
        "# create the data frame containg the accuracies\n",
        "df_ranks = pd.DataFrame(data=rank_data, index=np.sort(classifiers), columns=\n",
        "                        np.unique(sorted_df_perf['Dataset']))\n",
        "\n"
      ],
      "execution_count": null,
      "outputs": []
    },
    {
      "cell_type": "code",
      "metadata": {
        "colab": {
          "base_uri": "https://localhost:8080/",
          "height": 349
        },
        "id": "P_VG4c3NUwg6",
        "outputId": "77fa7c0e-3c3f-4063-b7d6-7056e4f274a7"
      },
      "source": [
        "df_ranks"
      ],
      "execution_count": null,
      "outputs": [
        {
          "output_type": "execute_result",
          "data": {
            "text/html": [
              "<div>\n",
              "<style scoped>\n",
              "    .dataframe tbody tr th:only-of-type {\n",
              "        vertical-align: middle;\n",
              "    }\n",
              "\n",
              "    .dataframe tbody tr th {\n",
              "        vertical-align: top;\n",
              "    }\n",
              "\n",
              "    .dataframe thead th {\n",
              "        text-align: right;\n",
              "    }\n",
              "</style>\n",
              "<table border=\"1\" class=\"dataframe\">\n",
              "  <thead>\n",
              "    <tr style=\"text-align: right;\">\n",
              "      <th></th>\n",
              "      <th>dataset_37_diabetes.csv</th>\n",
              "      <th>dataset_53_heart-statlog.csv</th>\n",
              "      <th>dataset_59_ionosphere.csv</th>\n",
              "      <th>irish.csv</th>\n",
              "      <th>nalcatdata_cyyoung9302.csv</th>\n",
              "      <th>nalcatdata_reviewer.csv</th>\n",
              "      <th>openml_phpZNNasq.csv</th>\n",
              "      <th>pc1.csv</th>\n",
              "      <th>phpOJxGL9.csv</th>\n",
              "      <th>phpSOw1Kl.csv</th>\n",
              "      <th>phpSRnbqC.csv</th>\n",
              "      <th>phplVyjYQ.csv</th>\n",
              "      <th>phpn1jVwe.csv</th>\n",
              "      <th>phpoW7Dbi.csv</th>\n",
              "      <th>phpvz1IQW.csv</th>\n",
              "      <th>phpxijhaP.csv</th>\n",
              "      <th>phpy0HwUD.csv</th>\n",
              "      <th>phpysQLwp.csv</th>\n",
              "      <th>wine-quality-red.csv</th>\n",
              "    </tr>\n",
              "  </thead>\n",
              "  <tbody>\n",
              "    <tr>\n",
              "      <th>AdaBoostClassifier</th>\n",
              "      <td>0.818182</td>\n",
              "      <td>0.777778</td>\n",
              "      <td>0.957746</td>\n",
              "      <td>1.00</td>\n",
              "      <td>0.894737</td>\n",
              "      <td>0.447368</td>\n",
              "      <td>1.000000</td>\n",
              "      <td>0.941441</td>\n",
              "      <td>0.735043</td>\n",
              "      <td>0.814815</td>\n",
              "      <td>0.702703</td>\n",
              "      <td>0.761905</td>\n",
              "      <td>0.985695</td>\n",
              "      <td>0.572016</td>\n",
              "      <td>0.952381</td>\n",
              "      <td>0.981757</td>\n",
              "      <td>0.375</td>\n",
              "      <td>0.692308</td>\n",
              "      <td>0.61250</td>\n",
              "    </tr>\n",
              "    <tr>\n",
              "      <th>DecisionTreeClassifier</th>\n",
              "      <td>0.805195</td>\n",
              "      <td>0.796296</td>\n",
              "      <td>0.943662</td>\n",
              "      <td>0.99</td>\n",
              "      <td>0.894737</td>\n",
              "      <td>0.434211</td>\n",
              "      <td>0.952381</td>\n",
              "      <td>0.927928</td>\n",
              "      <td>0.666667</td>\n",
              "      <td>0.888889</td>\n",
              "      <td>0.675676</td>\n",
              "      <td>0.666667</td>\n",
              "      <td>0.983460</td>\n",
              "      <td>0.572016</td>\n",
              "      <td>0.952381</td>\n",
              "      <td>0.830405</td>\n",
              "      <td>0.450</td>\n",
              "      <td>0.692308</td>\n",
              "      <td>0.63750</td>\n",
              "    </tr>\n",
              "    <tr>\n",
              "      <th>GaussianProcessClassifier</th>\n",
              "      <td>0.616883</td>\n",
              "      <td>0.481481</td>\n",
              "      <td>0.929577</td>\n",
              "      <td>0.84</td>\n",
              "      <td>0.736842</td>\n",
              "      <td>0.434211</td>\n",
              "      <td>1.000000</td>\n",
              "      <td>0.927928</td>\n",
              "      <td>0.623932</td>\n",
              "      <td>0.839506</td>\n",
              "      <td>0.567568</td>\n",
              "      <td>0.571429</td>\n",
              "      <td>0.983907</td>\n",
              "      <td>0.534979</td>\n",
              "      <td>0.857143</td>\n",
              "      <td>0.977027</td>\n",
              "      <td>0.275</td>\n",
              "      <td>0.692308</td>\n",
              "      <td>0.60000</td>\n",
              "    </tr>\n",
              "    <tr>\n",
              "      <th>GradientBoostingClassifier</th>\n",
              "      <td>0.785714</td>\n",
              "      <td>0.796296</td>\n",
              "      <td>0.943662</td>\n",
              "      <td>0.93</td>\n",
              "      <td>0.894737</td>\n",
              "      <td>0.434211</td>\n",
              "      <td>1.000000</td>\n",
              "      <td>0.927928</td>\n",
              "      <td>0.700855</td>\n",
              "      <td>0.777778</td>\n",
              "      <td>0.567568</td>\n",
              "      <td>0.714286</td>\n",
              "      <td>0.979437</td>\n",
              "      <td>0.551440</td>\n",
              "      <td>0.928571</td>\n",
              "      <td>0.934459</td>\n",
              "      <td>0.350</td>\n",
              "      <td>0.692308</td>\n",
              "      <td>0.64375</td>\n",
              "    </tr>\n",
              "    <tr>\n",
              "      <th>LinearDiscriminantAnalysis</th>\n",
              "      <td>0.824675</td>\n",
              "      <td>0.796296</td>\n",
              "      <td>0.915493</td>\n",
              "      <td>1.00</td>\n",
              "      <td>0.578947</td>\n",
              "      <td>0.434211</td>\n",
              "      <td>0.904762</td>\n",
              "      <td>0.932432</td>\n",
              "      <td>0.683761</td>\n",
              "      <td>0.925926</td>\n",
              "      <td>0.540541</td>\n",
              "      <td>0.666667</td>\n",
              "      <td>0.980778</td>\n",
              "      <td>0.637860</td>\n",
              "      <td>1.000000</td>\n",
              "      <td>0.982432</td>\n",
              "      <td>0.425</td>\n",
              "      <td>0.692308</td>\n",
              "      <td>0.61250</td>\n",
              "    </tr>\n",
              "    <tr>\n",
              "      <th>LogisticRegression</th>\n",
              "      <td>0.824675</td>\n",
              "      <td>0.814815</td>\n",
              "      <td>0.929577</td>\n",
              "      <td>1.00</td>\n",
              "      <td>0.842105</td>\n",
              "      <td>0.434211</td>\n",
              "      <td>1.000000</td>\n",
              "      <td>0.932432</td>\n",
              "      <td>0.709402</td>\n",
              "      <td>0.851852</td>\n",
              "      <td>0.594595</td>\n",
              "      <td>0.714286</td>\n",
              "      <td>0.983460</td>\n",
              "      <td>1.000000</td>\n",
              "      <td>0.952381</td>\n",
              "      <td>0.983784</td>\n",
              "      <td>0.425</td>\n",
              "      <td>0.846154</td>\n",
              "      <td>0.63750</td>\n",
              "    </tr>\n",
              "    <tr>\n",
              "      <th>QuadraticDiscriminantAnalysis</th>\n",
              "      <td>0.811688</td>\n",
              "      <td>0.777778</td>\n",
              "      <td>0.943662</td>\n",
              "      <td>0.84</td>\n",
              "      <td>0.842105</td>\n",
              "      <td>0.460526</td>\n",
              "      <td>0.523810</td>\n",
              "      <td>0.927928</td>\n",
              "      <td>0.606838</td>\n",
              "      <td>0.790123</td>\n",
              "      <td>0.567568</td>\n",
              "      <td>0.523810</td>\n",
              "      <td>0.976308</td>\n",
              "      <td>0.530864</td>\n",
              "      <td>0.880952</td>\n",
              "      <td>0.982432</td>\n",
              "      <td>0.425</td>\n",
              "      <td>0.615385</td>\n",
              "      <td>0.60000</td>\n",
              "    </tr>\n",
              "    <tr>\n",
              "      <th>RandomForestClassifier</th>\n",
              "      <td>0.811688</td>\n",
              "      <td>0.796296</td>\n",
              "      <td>0.957746</td>\n",
              "      <td>1.00</td>\n",
              "      <td>0.789474</td>\n",
              "      <td>0.421053</td>\n",
              "      <td>0.857143</td>\n",
              "      <td>0.927928</td>\n",
              "      <td>0.692308</td>\n",
              "      <td>0.851852</td>\n",
              "      <td>0.594595</td>\n",
              "      <td>0.666667</td>\n",
              "      <td>0.980331</td>\n",
              "      <td>0.596708</td>\n",
              "      <td>0.952381</td>\n",
              "      <td>0.975676</td>\n",
              "      <td>0.450</td>\n",
              "      <td>0.692308</td>\n",
              "      <td>0.60000</td>\n",
              "    </tr>\n",
              "  </tbody>\n",
              "</table>\n",
              "</div>"
            ],
            "text/plain": [
              "                               dataset_37_diabetes.csv  ...  wine-quality-red.csv\n",
              "AdaBoostClassifier                            0.818182  ...               0.61250\n",
              "DecisionTreeClassifier                        0.805195  ...               0.63750\n",
              "GaussianProcessClassifier                     0.616883  ...               0.60000\n",
              "GradientBoostingClassifier                    0.785714  ...               0.64375\n",
              "LinearDiscriminantAnalysis                    0.824675  ...               0.61250\n",
              "LogisticRegression                            0.824675  ...               0.63750\n",
              "QuadraticDiscriminantAnalysis                 0.811688  ...               0.60000\n",
              "RandomForestClassifier                        0.811688  ...               0.60000\n",
              "\n",
              "[8 rows x 19 columns]"
            ]
          },
          "metadata": {
            "tags": []
          },
          "execution_count": 24
        }
      ]
    },
    {
      "cell_type": "code",
      "metadata": {
        "colab": {
          "base_uri": "https://localhost:8080/"
        },
        "id": "ZJe7qvZoUycD",
        "outputId": "513e422c-374c-4d2b-b077-c056cdbab0b3"
      },
      "source": [
        "# average the ranks\n",
        "average_ranks = df_ranks.rank(ascending=False).mean(axis=1).sort_values(ascending=False)\n",
        "list(average_ranks)\n"
      ],
      "execution_count": null,
      "outputs": [
        {
          "output_type": "execute_result",
          "data": {
            "text/plain": [
              "[6.157894736842105,\n",
              " 6.078947368421052,\n",
              " 4.947368421052632,\n",
              " 4.552631578947368,\n",
              " 4.184210526315789,\n",
              " 4.184210526315789,\n",
              " 3.0526315789473686,\n",
              " 2.8421052631578947]"
            ]
          },
          "metadata": {
            "tags": []
          },
          "execution_count": 25
        }
      ]
    },
    {
      "cell_type": "code",
      "metadata": {
        "colab": {
          "base_uri": "https://localhost:8080/",
          "height": 178
        },
        "id": "0eYTJykdU0IY",
        "outputId": "1aaf3581-a406-4e5a-edb8-d864c8b593ea"
      },
      "source": [
        "import Orange\n",
        "import matplotlib.pyplot as plt\n",
        "names = list(classifiers)\n",
        "avranks = list(average_ranks)\n",
        "\n",
        "cd = Orange.evaluation.compute_CD(avranks, max_nb_datasets) #tested on 30 datasets\n",
        "Orange.evaluation.graph_ranks(avranks, names, cd=cd, width=10, textspace=3)\n",
        "plt.show()"
      ],
      "execution_count": null,
      "outputs": [
        {
          "output_type": "display_data",
          "data": {
            "image/png": "[encoded data removed]",
            "text/plain": [
              "<Figure size 720x147.6 with 1 Axes>"
            ]
          },
          "metadata": {
            "tags": []
          }
        }
      ]
    },
    {
      "cell_type": "code",
      "metadata": {
        "colab": {
          "base_uri": "https://localhost:8080/",
          "height": 142
        },
        "id": "Ywu8mDVhU2DO",
        "outputId": "56773787-8089-4cac-b73f-b63023930d54"
      },
      "source": [
        "import Orange\n",
        "import matplotlib.pyplot as plt\n",
        "names = [\"first\", \"third\", \"second\", \"fourth\" ]\n",
        "avranks =  [3, 4.2, 4.75, 6.1 ]\n",
        "cd = Orange.evaluation.compute_CD(avranks, 30) #tested on 30 datasets\n",
        "Orange.evaluation.graph_ranks(avranks, names, cd=cd, width=6, textspace=1.5)\n",
        "plt.show()"
      ],
      "execution_count": null,
      "outputs": [
        {
          "output_type": "display_data",
          "data": {
            "image/png": "[encoded data removed]",
            "text/plain": [
              "<Figure size 432x111.6 with 1 Axes>"
            ]
          },
          "metadata": {
            "tags": []
          }
        }
      ]
    },
    {
      "cell_type": "markdown",
      "metadata": {
        "id": "WSxbdc0iAGXB"
      },
      "source": [
        "<font color='red'> **Answer: Based on the above solution I will choose 4 classifiers and I will choose one of each category. However since the third and fourth classifiers are similar in the above plot then It's wiser to choose only 3. But I will also like to consider the first plot that had classifiers from the second category that interfered with the classifiers from the first category and other which didn't interfer with the third so In order for the classifiers to be more accurate I leave this possibility.**"
      ]
    },
    {
      "cell_type": "markdown",
      "metadata": {
        "id": "z_iPNSLUAGXB"
      },
      "source": [
        "# 2. Uplift modelling (5 points)\n",
        "For this task we are going to use email_marketing.csv from [MineThatData](https://blog.minethatdata.com/2008/03/minethatdata-e-mail-analytics-and-data.html). The data was recorded from a two-weeks email campaign that included 64000 customers. Out of these customers:\n",
        "1. 1/3 were randomly chosen to receive an e-mail campaign featuring Mens merchandise.\n",
        "2. 1/3 were randomly chosen to receive an e-mail campaign featuring Womens merchandise.\n",
        "3. 1/3 were randomly chosen to not receive an e-mail campaign.\n",
        "\n",
        "The features in this dataset include:\n",
        "\n",
        "- Recency: Months since last purchase.\n",
        "- History: Actual dollar value spent in the past year.\n",
        "- Mens: 1/0 indicator, 1 = customer purchased Mens merchandise in the past year.\n",
        "- Womens: 1/0 indicator, 1 = customer purchased Womens merchandise in the past year.\n",
        "- Zip_Code: Classifies zip code as Urban, Suburban, or Rural.\n",
        "- Newbie: 1/0 indicator, 1 = New customer in the past twelve months.\n",
        "- Channel: Describes the channels the customer purchased from in the past year.\n",
        "- Segment: e-mail campaign  type that the customer received\n",
        "- Visit: 1/0 indicator, 1 = Customer visited website in the following two weeks.\n",
        "\n",
        "The last variable is realted to the evaluation if the campaign was effective or not.\n",
        "\n",
        "- Conversion: 1/0 indicator, 1 = Customer purchased merchandise in the following two weeks.\n"
      ]
    },
    {
      "cell_type": "code",
      "metadata": {
        "colab": {
          "base_uri": "https://localhost:8080/"
        },
        "id": "cyBYnYB9v0d7",
        "outputId": "77b057e6-7bdc-45b4-8230-617e65cf08c8"
      },
      "source": [
        "!pip install chart_studio"
      ],
      "execution_count": null,
      "outputs": [
        {
          "output_type": "stream",
          "text": [
            "Collecting chart_studio\n",
            "\u001b[?25l  Downloading https://files.pythonhosted.org/packages/ca/ce/330794a6b6ca4b9182c38fc69dd2a9cbff60fd49421cb8648ee5fee352dc/chart_studio-1.1.0-py3-none-any.whl (64kB)\n",
            "\r\u001b[K     |█████                           | 10kB 9.9MB/s eta 0:00:01\r\u001b[K     |██████████▏                     | 20kB 14.6MB/s eta 0:00:01\r\u001b[K     |███████████████▎                | 30kB 18.0MB/s eta 0:00:01\r\u001b[K     |████████████████████▍           | 40kB 21.2MB/s eta 0:00:01\r\u001b[K     |█████████████████████████▍      | 51kB 23.8MB/s eta 0:00:01\r\u001b[K     |██████████████████████████████▌ | 61kB 24.3MB/s eta 0:00:01\r\u001b[K     |████████████████████████████████| 71kB 6.3MB/s \n",
            "\u001b[?25hRequirement already satisfied: plotly in /usr/local/lib/python3.7/dist-packages (from chart_studio) (4.4.1)\n",
            "Requirement already satisfied: retrying>=1.3.3 in /usr/local/lib/python3.7/dist-packages (from chart_studio) (1.3.3)\n",
            "Requirement already satisfied: requests in /usr/local/lib/python3.7/dist-packages (from chart_studio) (2.23.0)\n",
            "Requirement already satisfied: six in /usr/local/lib/python3.7/dist-packages (from chart_studio) (1.15.0)\n",
            "Requirement already satisfied: idna<3,>=2.5 in /usr/local/lib/python3.7/dist-packages (from requests->chart_studio) (2.10)\n",
            "Requirement already satisfied: chardet<4,>=3.0.2 in /usr/local/lib/python3.7/dist-packages (from requests->chart_studio) (3.0.4)\n",
            "Requirement already satisfied: certifi>=2017.4.17 in /usr/local/lib/python3.7/dist-packages (from requests->chart_studio) (2020.12.5)\n",
            "Requirement already satisfied: urllib3!=1.25.0,!=1.25.1,<1.26,>=1.21.1 in /usr/local/lib/python3.7/dist-packages (from requests->chart_studio) (1.24.3)\n",
            "Installing collected packages: chart-studio\n",
            "Successfully installed chart-studio-1.1.0\n"
          ],
          "name": "stdout"
        }
      ]
    },
    {
      "cell_type": "code",
      "metadata": {
        "id": "asvMuGnFAGXC"
      },
      "source": [
        "# Import libraries:\n",
        "import pandas as pd\n",
        "import numpy as np\n",
        "from __future__ import division\n",
        "\n",
        "from datetime import datetime, timedelta,date\n",
        "import pandas as pd\n",
        "%matplotlib inline\n",
        "from sklearn.metrics import classification_report,confusion_matrix\n",
        "import matplotlib.pyplot as plt\n",
        "import numpy as np\n",
        "import seaborn as sns\n",
        "from sklearn.cluster import KMeans\n",
        "import chart_studio.plotly as py\n",
        "import plotly.offline as pyoff\n",
        "import plotly.graph_objs as go\n",
        "import sklearn\n",
        "import xgboost as xgb\n",
        "from sklearn.model_selection import KFold, cross_val_score, train_test_split\n",
        "import warnings\n",
        "warnings.filterwarnings(\"ignore\")\n"
      ],
      "execution_count": null,
      "outputs": []
    },
    {
      "cell_type": "code",
      "metadata": {
        "colab": {
          "base_uri": "https://localhost:8080/",
          "height": 202
        },
        "id": "5jPYvK68vjhF",
        "outputId": "af57658b-6ada-48ac-e1b4-46469abfd6e4"
      },
      "source": [
        "# Import the dataset:\n",
        "\n",
        "df = pd.read_csv(\"https://raw.githubusercontent.com/RonyEmam/data/main/email_marketing.csv\", sep=\",\")\n",
        "df.head()"
      ],
      "execution_count": null,
      "outputs": [
        {
          "output_type": "execute_result",
          "data": {
            "text/html": [
              "<div>\n",
              "<style scoped>\n",
              "    .dataframe tbody tr th:only-of-type {\n",
              "        vertical-align: middle;\n",
              "    }\n",
              "\n",
              "    .dataframe tbody tr th {\n",
              "        vertical-align: top;\n",
              "    }\n",
              "\n",
              "    .dataframe thead th {\n",
              "        text-align: right;\n",
              "    }\n",
              "</style>\n",
              "<table border=\"1\" class=\"dataframe\">\n",
              "  <thead>\n",
              "    <tr style=\"text-align: right;\">\n",
              "      <th></th>\n",
              "      <th>recency</th>\n",
              "      <th>history_segment</th>\n",
              "      <th>history</th>\n",
              "      <th>mens</th>\n",
              "      <th>womens</th>\n",
              "      <th>zip_code</th>\n",
              "      <th>newbie</th>\n",
              "      <th>channel</th>\n",
              "      <th>segment</th>\n",
              "      <th>visit</th>\n",
              "      <th>conversion</th>\n",
              "      <th>spend</th>\n",
              "    </tr>\n",
              "  </thead>\n",
              "  <tbody>\n",
              "    <tr>\n",
              "      <th>0</th>\n",
              "      <td>10</td>\n",
              "      <td>2) $100 - $200</td>\n",
              "      <td>142.44</td>\n",
              "      <td>1</td>\n",
              "      <td>0</td>\n",
              "      <td>Surburban</td>\n",
              "      <td>0</td>\n",
              "      <td>Phone</td>\n",
              "      <td>Womens E-Mail</td>\n",
              "      <td>0</td>\n",
              "      <td>0</td>\n",
              "      <td>0.0</td>\n",
              "    </tr>\n",
              "    <tr>\n",
              "      <th>1</th>\n",
              "      <td>6</td>\n",
              "      <td>3) $200 - $350</td>\n",
              "      <td>329.08</td>\n",
              "      <td>1</td>\n",
              "      <td>1</td>\n",
              "      <td>Rural</td>\n",
              "      <td>1</td>\n",
              "      <td>Web</td>\n",
              "      <td>No E-Mail</td>\n",
              "      <td>0</td>\n",
              "      <td>0</td>\n",
              "      <td>0.0</td>\n",
              "    </tr>\n",
              "    <tr>\n",
              "      <th>2</th>\n",
              "      <td>7</td>\n",
              "      <td>2) $100 - $200</td>\n",
              "      <td>180.65</td>\n",
              "      <td>0</td>\n",
              "      <td>1</td>\n",
              "      <td>Surburban</td>\n",
              "      <td>1</td>\n",
              "      <td>Web</td>\n",
              "      <td>Womens E-Mail</td>\n",
              "      <td>0</td>\n",
              "      <td>0</td>\n",
              "      <td>0.0</td>\n",
              "    </tr>\n",
              "    <tr>\n",
              "      <th>3</th>\n",
              "      <td>9</td>\n",
              "      <td>5) $500 - $750</td>\n",
              "      <td>675.83</td>\n",
              "      <td>1</td>\n",
              "      <td>0</td>\n",
              "      <td>Rural</td>\n",
              "      <td>1</td>\n",
              "      <td>Web</td>\n",
              "      <td>Mens E-Mail</td>\n",
              "      <td>0</td>\n",
              "      <td>0</td>\n",
              "      <td>0.0</td>\n",
              "    </tr>\n",
              "    <tr>\n",
              "      <th>4</th>\n",
              "      <td>2</td>\n",
              "      <td>1) $0 - $100</td>\n",
              "      <td>45.34</td>\n",
              "      <td>1</td>\n",
              "      <td>0</td>\n",
              "      <td>Urban</td>\n",
              "      <td>0</td>\n",
              "      <td>Web</td>\n",
              "      <td>Womens E-Mail</td>\n",
              "      <td>0</td>\n",
              "      <td>0</td>\n",
              "      <td>0.0</td>\n",
              "    </tr>\n",
              "  </tbody>\n",
              "</table>\n",
              "</div>"
            ],
            "text/plain": [
              "   recency history_segment  history  ...  visit  conversion spend\n",
              "0       10  2) $100 - $200   142.44  ...      0           0   0.0\n",
              "1        6  3) $200 - $350   329.08  ...      0           0   0.0\n",
              "2        7  2) $100 - $200   180.65  ...      0           0   0.0\n",
              "3        9  5) $500 - $750   675.83  ...      0           0   0.0\n",
              "4        2    1) $0 - $100    45.34  ...      0           0   0.0\n",
              "\n",
              "[5 rows x 12 columns]"
            ]
          },
          "metadata": {
            "tags": []
          },
          "execution_count": 3
        }
      ]
    },
    {
      "cell_type": "code",
      "metadata": {
        "colab": {
          "base_uri": "https://localhost:8080/",
          "height": 294
        },
        "id": "Q55MBRCpRxRK",
        "outputId": "fdc58430-9177-4e9d-e8a5-d0c11d0469b2"
      },
      "source": [
        "df.describe()"
      ],
      "execution_count": null,
      "outputs": [
        {
          "output_type": "execute_result",
          "data": {
            "text/html": [
              "<div>\n",
              "<style scoped>\n",
              "    .dataframe tbody tr th:only-of-type {\n",
              "        vertical-align: middle;\n",
              "    }\n",
              "\n",
              "    .dataframe tbody tr th {\n",
              "        vertical-align: top;\n",
              "    }\n",
              "\n",
              "    .dataframe thead th {\n",
              "        text-align: right;\n",
              "    }\n",
              "</style>\n",
              "<table border=\"1\" class=\"dataframe\">\n",
              "  <thead>\n",
              "    <tr style=\"text-align: right;\">\n",
              "      <th></th>\n",
              "      <th>recency</th>\n",
              "      <th>history</th>\n",
              "      <th>mens</th>\n",
              "      <th>womens</th>\n",
              "      <th>newbie</th>\n",
              "      <th>visit</th>\n",
              "      <th>conversion</th>\n",
              "      <th>spend</th>\n",
              "    </tr>\n",
              "  </thead>\n",
              "  <tbody>\n",
              "    <tr>\n",
              "      <th>count</th>\n",
              "      <td>64000.000000</td>\n",
              "      <td>64000.000000</td>\n",
              "      <td>64000.000000</td>\n",
              "      <td>64000.000000</td>\n",
              "      <td>64000.000000</td>\n",
              "      <td>64000.000000</td>\n",
              "      <td>64000.000000</td>\n",
              "      <td>64000.000000</td>\n",
              "    </tr>\n",
              "    <tr>\n",
              "      <th>mean</th>\n",
              "      <td>5.763734</td>\n",
              "      <td>242.085656</td>\n",
              "      <td>0.551031</td>\n",
              "      <td>0.549719</td>\n",
              "      <td>0.502250</td>\n",
              "      <td>0.146781</td>\n",
              "      <td>0.009031</td>\n",
              "      <td>1.050908</td>\n",
              "    </tr>\n",
              "    <tr>\n",
              "      <th>std</th>\n",
              "      <td>3.507592</td>\n",
              "      <td>256.158608</td>\n",
              "      <td>0.497393</td>\n",
              "      <td>0.497526</td>\n",
              "      <td>0.499999</td>\n",
              "      <td>0.353890</td>\n",
              "      <td>0.094604</td>\n",
              "      <td>15.036448</td>\n",
              "    </tr>\n",
              "    <tr>\n",
              "      <th>min</th>\n",
              "      <td>1.000000</td>\n",
              "      <td>29.990000</td>\n",
              "      <td>0.000000</td>\n",
              "      <td>0.000000</td>\n",
              "      <td>0.000000</td>\n",
              "      <td>0.000000</td>\n",
              "      <td>0.000000</td>\n",
              "      <td>0.000000</td>\n",
              "    </tr>\n",
              "    <tr>\n",
              "      <th>25%</th>\n",
              "      <td>2.000000</td>\n",
              "      <td>64.660000</td>\n",
              "      <td>0.000000</td>\n",
              "      <td>0.000000</td>\n",
              "      <td>0.000000</td>\n",
              "      <td>0.000000</td>\n",
              "      <td>0.000000</td>\n",
              "      <td>0.000000</td>\n",
              "    </tr>\n",
              "    <tr>\n",
              "      <th>50%</th>\n",
              "      <td>6.000000</td>\n",
              "      <td>158.110000</td>\n",
              "      <td>1.000000</td>\n",
              "      <td>1.000000</td>\n",
              "      <td>1.000000</td>\n",
              "      <td>0.000000</td>\n",
              "      <td>0.000000</td>\n",
              "      <td>0.000000</td>\n",
              "    </tr>\n",
              "    <tr>\n",
              "      <th>75%</th>\n",
              "      <td>9.000000</td>\n",
              "      <td>325.657500</td>\n",
              "      <td>1.000000</td>\n",
              "      <td>1.000000</td>\n",
              "      <td>1.000000</td>\n",
              "      <td>0.000000</td>\n",
              "      <td>0.000000</td>\n",
              "      <td>0.000000</td>\n",
              "    </tr>\n",
              "    <tr>\n",
              "      <th>max</th>\n",
              "      <td>12.000000</td>\n",
              "      <td>3345.930000</td>\n",
              "      <td>1.000000</td>\n",
              "      <td>1.000000</td>\n",
              "      <td>1.000000</td>\n",
              "      <td>1.000000</td>\n",
              "      <td>1.000000</td>\n",
              "      <td>499.000000</td>\n",
              "    </tr>\n",
              "  </tbody>\n",
              "</table>\n",
              "</div>"
            ],
            "text/plain": [
              "            recency       history  ...    conversion         spend\n",
              "count  64000.000000  64000.000000  ...  64000.000000  64000.000000\n",
              "mean       5.763734    242.085656  ...      0.009031      1.050908\n",
              "std        3.507592    256.158608  ...      0.094604     15.036448\n",
              "min        1.000000     29.990000  ...      0.000000      0.000000\n",
              "25%        2.000000     64.660000  ...      0.000000      0.000000\n",
              "50%        6.000000    158.110000  ...      0.000000      0.000000\n",
              "75%        9.000000    325.657500  ...      0.000000      0.000000\n",
              "max       12.000000   3345.930000  ...      1.000000    499.000000\n",
              "\n",
              "[8 rows x 8 columns]"
            ]
          },
          "metadata": {
            "tags": []
          },
          "execution_count": 4
        }
      ]
    },
    {
      "cell_type": "markdown",
      "metadata": {
        "id": "IzZGlqVYAGXD"
      },
      "source": [
        "**2.1 Use the function calc_uplift() from the practice session to calculate the current uplift of the campaign. Remeber to modify the function according to the need. (0.5 points)**"
      ]
    },
    {
      "cell_type": "markdown",
      "metadata": {
        "id": "NbjH40kbAGXD"
      },
      "source": [
        "**2.2 Create a new column named target_class. Split the customers in 4 categories:**\n",
        "\n",
        "1- Treatment Responders \n",
        "\n",
        "2- Treatment Non-Responders (sleeping dogs)\n",
        "\n",
        "3- Control Responders (sure things)\n",
        "\n",
        "4-Control Non-Responders(lost causes).\n",
        "\n",
        "**Label encode these categories and store the result for each customer in the column target_class (0.5 points)**"
      ]
    },
    {
      "cell_type": "code",
      "metadata": {
        "id": "Ap8p380oAGXD",
        "colab": {
          "base_uri": "https://localhost:8080/",
          "height": 240
        },
        "outputId": "cd090632-72e6-472e-f4de-806a4e0c0607"
      },
      "source": [
        "# 1st step: Multi-classification model for the predicting the uplift score:\n",
        "df['campaign_group']='treatment'\n",
        "df.loc[df.segment=='No E-Mail','campaign_group'] = 'control'\n",
        "\n",
        "# Mapping the calsses after creating a new label:\n",
        "df['target_class'] = 0 #CN \n",
        "df.loc[(df.campaign_group == 'control') & (df.conversion > 0),'target_class'] = 1 #CR\n",
        "df.loc[(df.campaign_group == 'treatment') & (df.conversion == 0),'target_class'] = 2 #TN\n",
        "\n",
        "# Create cluster:\n",
        "kmeans = KMeans(n_clusters=8) # n-1\n",
        "kmeans.fit(df[['history']]) # value of the historical purchases\n",
        "df['history_cluster'] = kmeans.predict(df[['history']])\n",
        "\n",
        "#function to order clusters\n",
        "def order_cluster(cluster_field_name, target_field_name, df, ascending):\n",
        "    new_cluster_field_name = 'new_' + cluster_field_name\n",
        "    df_new = df.groupby(cluster_field_name)[target_field_name].mean().reset_index()\n",
        "    df_new = df_new.sort_values(by=target_field_name,ascending=ascending).reset_index(drop=True)\n",
        "    df_new['index'] = df_new.index\n",
        "\n",
        "    df_final = pd.merge(df,df_new[[cluster_field_name,'index']], on=cluster_field_name)\n",
        "    df_final = df_final.drop([cluster_field_name],axis=1)\n",
        "    df_final = df_final.rename(columns={\"index\":cluster_field_name})\n",
        "\n",
        "    return df_final\n",
        "\n",
        "df = order_cluster('history_cluster', 'history',df, True)\n",
        "\n",
        "#creating a new dataframe as model and dropping columns that defines the label\n",
        "df_model = df.drop(['segment','campaign_group','conversion'],axis=1)\n",
        "#convert categorical columns\n",
        "df_model = pd.get_dummies(df_model)\n",
        "\n",
        "df_model.head()"
      ],
      "execution_count": null,
      "outputs": [
        {
          "output_type": "execute_result",
          "data": {
            "text/html": [
              "<div>\n",
              "<style scoped>\n",
              "    .dataframe tbody tr th:only-of-type {\n",
              "        vertical-align: middle;\n",
              "    }\n",
              "\n",
              "    .dataframe tbody tr th {\n",
              "        vertical-align: top;\n",
              "    }\n",
              "\n",
              "    .dataframe thead th {\n",
              "        text-align: right;\n",
              "    }\n",
              "</style>\n",
              "<table border=\"1\" class=\"dataframe\">\n",
              "  <thead>\n",
              "    <tr style=\"text-align: right;\">\n",
              "      <th></th>\n",
              "      <th>recency</th>\n",
              "      <th>history</th>\n",
              "      <th>mens</th>\n",
              "      <th>womens</th>\n",
              "      <th>newbie</th>\n",
              "      <th>visit</th>\n",
              "      <th>spend</th>\n",
              "      <th>target_class</th>\n",
              "      <th>history_cluster</th>\n",
              "      <th>history_segment_1) $0 - $100</th>\n",
              "      <th>history_segment_2) $100 - $200</th>\n",
              "      <th>history_segment_3) $200 - $350</th>\n",
              "      <th>history_segment_4) $350 - $500</th>\n",
              "      <th>history_segment_5) $500 - $750</th>\n",
              "      <th>history_segment_6) $750 - $1,000</th>\n",
              "      <th>history_segment_7) $1,000 +</th>\n",
              "      <th>zip_code_Rural</th>\n",
              "      <th>zip_code_Surburban</th>\n",
              "      <th>zip_code_Urban</th>\n",
              "      <th>channel_Multichannel</th>\n",
              "      <th>channel_Phone</th>\n",
              "      <th>channel_Web</th>\n",
              "    </tr>\n",
              "  </thead>\n",
              "  <tbody>\n",
              "    <tr>\n",
              "      <th>0</th>\n",
              "      <td>10</td>\n",
              "      <td>142.44</td>\n",
              "      <td>1</td>\n",
              "      <td>0</td>\n",
              "      <td>0</td>\n",
              "      <td>0</td>\n",
              "      <td>0.0</td>\n",
              "      <td>2</td>\n",
              "      <td>1</td>\n",
              "      <td>0</td>\n",
              "      <td>1</td>\n",
              "      <td>0</td>\n",
              "      <td>0</td>\n",
              "      <td>0</td>\n",
              "      <td>0</td>\n",
              "      <td>0</td>\n",
              "      <td>0</td>\n",
              "      <td>1</td>\n",
              "      <td>0</td>\n",
              "      <td>0</td>\n",
              "      <td>1</td>\n",
              "      <td>0</td>\n",
              "    </tr>\n",
              "    <tr>\n",
              "      <th>1</th>\n",
              "      <td>7</td>\n",
              "      <td>180.65</td>\n",
              "      <td>0</td>\n",
              "      <td>1</td>\n",
              "      <td>1</td>\n",
              "      <td>0</td>\n",
              "      <td>0.0</td>\n",
              "      <td>2</td>\n",
              "      <td>1</td>\n",
              "      <td>0</td>\n",
              "      <td>1</td>\n",
              "      <td>0</td>\n",
              "      <td>0</td>\n",
              "      <td>0</td>\n",
              "      <td>0</td>\n",
              "      <td>0</td>\n",
              "      <td>0</td>\n",
              "      <td>1</td>\n",
              "      <td>0</td>\n",
              "      <td>0</td>\n",
              "      <td>0</td>\n",
              "      <td>1</td>\n",
              "    </tr>\n",
              "    <tr>\n",
              "      <th>2</th>\n",
              "      <td>6</td>\n",
              "      <td>134.83</td>\n",
              "      <td>0</td>\n",
              "      <td>1</td>\n",
              "      <td>0</td>\n",
              "      <td>1</td>\n",
              "      <td>0.0</td>\n",
              "      <td>2</td>\n",
              "      <td>1</td>\n",
              "      <td>0</td>\n",
              "      <td>1</td>\n",
              "      <td>0</td>\n",
              "      <td>0</td>\n",
              "      <td>0</td>\n",
              "      <td>0</td>\n",
              "      <td>0</td>\n",
              "      <td>0</td>\n",
              "      <td>1</td>\n",
              "      <td>0</td>\n",
              "      <td>0</td>\n",
              "      <td>1</td>\n",
              "      <td>0</td>\n",
              "    </tr>\n",
              "    <tr>\n",
              "      <th>3</th>\n",
              "      <td>1</td>\n",
              "      <td>211.45</td>\n",
              "      <td>0</td>\n",
              "      <td>1</td>\n",
              "      <td>1</td>\n",
              "      <td>0</td>\n",
              "      <td>0.0</td>\n",
              "      <td>2</td>\n",
              "      <td>1</td>\n",
              "      <td>0</td>\n",
              "      <td>0</td>\n",
              "      <td>1</td>\n",
              "      <td>0</td>\n",
              "      <td>0</td>\n",
              "      <td>0</td>\n",
              "      <td>0</td>\n",
              "      <td>0</td>\n",
              "      <td>0</td>\n",
              "      <td>1</td>\n",
              "      <td>0</td>\n",
              "      <td>1</td>\n",
              "      <td>0</td>\n",
              "    </tr>\n",
              "    <tr>\n",
              "      <th>4</th>\n",
              "      <td>9</td>\n",
              "      <td>112.35</td>\n",
              "      <td>1</td>\n",
              "      <td>0</td>\n",
              "      <td>0</td>\n",
              "      <td>0</td>\n",
              "      <td>0.0</td>\n",
              "      <td>2</td>\n",
              "      <td>1</td>\n",
              "      <td>0</td>\n",
              "      <td>1</td>\n",
              "      <td>0</td>\n",
              "      <td>0</td>\n",
              "      <td>0</td>\n",
              "      <td>0</td>\n",
              "      <td>0</td>\n",
              "      <td>1</td>\n",
              "      <td>0</td>\n",
              "      <td>0</td>\n",
              "      <td>0</td>\n",
              "      <td>0</td>\n",
              "      <td>1</td>\n",
              "    </tr>\n",
              "  </tbody>\n",
              "</table>\n",
              "</div>"
            ],
            "text/plain": [
              "   recency  history  mens  ...  channel_Multichannel  channel_Phone  channel_Web\n",
              "0       10   142.44     1  ...                     0              1            0\n",
              "1        7   180.65     0  ...                     0              0            1\n",
              "2        6   134.83     0  ...                     0              1            0\n",
              "3        1   211.45     0  ...                     0              1            0\n",
              "4        9   112.35     1  ...                     0              0            1\n",
              "\n",
              "[5 rows x 22 columns]"
            ]
          },
          "metadata": {
            "tags": []
          },
          "execution_count": 6
        }
      ]
    },
    {
      "cell_type": "code",
      "metadata": {
        "id": "1tICgdfgAGXH"
      },
      "source": [
        "#function for calculating the uplift\n",
        "\n",
        "def calc_uplift(df):\n",
        "    avg_order_value = 25\n",
        "\n",
        "    #calculate conversions for each offer type\n",
        "    base_conv = df[df.segment == 'No E-Mail']['conversion'].mean()\n",
        "    men_conv = df[df.segment == 'Mens E-Mail']['conversion'].mean() \n",
        "    women_conv = df[df.segment == 'Womens E-Mail']['conversion'].mean()\n",
        "\n",
        "    #calculate conversion uplift for women & men\n",
        "    men_conv_uplift = men_conv - base_conv\n",
        "    women_conv_uplift = women_conv - base_conv\n",
        "\n",
        "    #calculate order uplift\n",
        "    women_order_uplift = women_conv_uplift * len(df[df.segment == 'Womens E-Mail']['conversion'])\n",
        "    men_order_uplift = men_conv_uplift * len(df[df.segment == 'Mens E-Mail']['conversion'])\n",
        "\n",
        "    #calculate revenue uplift\n",
        "    women_rev_uplift = women_order_uplift * avg_order_value\n",
        "    men_rev_uplift = men_order_uplift * avg_order_value\n",
        "\n",
        "    print(f\"Total Targeted Customer Count: {len(df[df.segment == 'Mens E-Mail']['conversion'])}\")\n",
        "    print('Mens Conversion Uplift: {0}%'.format(np.round(men_conv_uplift*100,2))) # uplitf score \n",
        "    print('Mens Order Uplift: {0}'.format(np.round(men_order_uplift,2)))\n",
        "    print('Mens Revenue Uplift: ${0}\\n'.format(np.round(men_rev_uplift,2)))\n",
        "    \n",
        "    if len(df[df.segment == 'Womens E-Mail']['conversion']) > 0:\n",
        "          \n",
        "      print('-------------- \\n')\n",
        "      print(f\"Total Targeted Customer Count: { len(df[df.segment == 'Womens E-Mail']['conversion'])}\")\n",
        "      print('Womens Conversion Uplift: {0}%'.format(np.round(women_conv_uplift*100,2))) # uplift sore\n",
        "      print('Womens Order Uplift: {0}'.format(np.round(women_order_uplift,2)))\n",
        "      print('Womens Revenue Uplift: ${0}'.format(np.round(women_rev_uplift,2)))     "
      ],
      "execution_count": null,
      "outputs": []
    },
    {
      "cell_type": "markdown",
      "metadata": {
        "id": "LmzOWN_LAGXF"
      },
      "source": [
        "**2.3 Apply the necessary preprocessing to the data and split it into train and test set, using 80/20 ratio. Remember that you have to drop the columns that define the label and perform preprocessing. Build a model with your classifier of choice that will predict probabilities for the categories mentioned in 2.1. (1.5 points)**"
      ]
    },
    {
      "cell_type": "code",
      "metadata": {
        "id": "x-41XdRBAGXF",
        "colab": {
          "base_uri": "https://localhost:8080/"
        },
        "outputId": "bb26bd7b-56c1-4143-abdc-2bb0025d30dc"
      },
      "source": [
        "# create feature set and labels\n",
        "X = df_model.drop(['target_class'], axis=1)\n",
        "y = df_model.target_class\n",
        "\n",
        "# splitting train and test groups\n",
        "X_train, X_test, y_train, y_test = train_test_split(X, y, test_size=0.2, random_state=56)\n",
        "\n",
        "# fitting the model and predicting the probabilities\n",
        "xgb_model = xgb.XGBClassifier().fit(X_train, y_train)\n",
        "class_probs = xgb_model.predict_proba(X_test)\n",
        "\n",
        "class_probs[0]"
      ],
      "execution_count": null,
      "outputs": [
        {
          "output_type": "execute_result",
          "data": {
            "text/plain": [
              "array([0.35046265, 0.00131944, 0.6482179 ], dtype=float32)"
            ]
          },
          "metadata": {
            "tags": []
          },
          "execution_count": 7
        }
      ]
    },
    {
      "cell_type": "code",
      "metadata": {
        "colab": {
          "base_uri": "https://localhost:8080/"
        },
        "id": "wg_52IG5-EpG",
        "outputId": "07dd7eef-21f4-437e-c8c2-1043e44ea418"
      },
      "source": [
        "0.38146755 - 0.00134717 + 0.6171853 # Check what should i write here."
      ],
      "execution_count": null,
      "outputs": [
        {
          "output_type": "execute_result",
          "data": {
            "text/plain": [
              "0.99730568"
            ]
          },
          "metadata": {
            "tags": []
          },
          "execution_count": 9
        }
      ]
    },
    {
      "cell_type": "markdown",
      "metadata": {
        "id": "gdoVNjw6AGXG"
      },
      "source": [
        "**2.4 Calculate the uplift score using probabilities for all customers and store the results to a new column in the dataframe (0.5 points)**"
      ]
    },
    {
      "cell_type": "code",
      "metadata": {
        "id": "Wx9PITUEAGXG"
      },
      "source": [
        "import xgboost as xgb\n",
        "\n",
        "#probabilities for all customers\n",
        "overall_proba = xgb_model.predict_proba(df_model.drop(['target_class'],axis=1))\n",
        "\n",
        "#assign probabilities to 4 different columns\n",
        "df_model['proba_CN'] = overall_proba[:,0] \n",
        "df_model['proba_CR'] = overall_proba[:,1] \n",
        "df_model['proba_TN'] = overall_proba[:,2] \n",
        "\n",
        "#calculate uplift score for all customers\n",
        "df_model['uplift_score'] = df_model.eval('proba_CN - proba_TN - proba_CR')\n",
        "\n",
        "#assign it back to main dataframe\n",
        "df['uplift_score'] = df_model['uplift_score']"
      ],
      "execution_count": null,
      "outputs": []
    },
    {
      "cell_type": "code",
      "metadata": {
        "colab": {
          "base_uri": "https://localhost:8080/",
          "height": 1000
        },
        "id": "CqXtSbxwAeoA",
        "outputId": "f5a8d968-9586-4dc3-96ac-bdb2e7a295c8"
      },
      "source": [
        "df.head(20)"
      ],
      "execution_count": null,
      "outputs": [
        {
          "output_type": "execute_result",
          "data": {
            "text/html": [
              "<div>\n",
              "<style scoped>\n",
              "    .dataframe tbody tr th:only-of-type {\n",
              "        vertical-align: middle;\n",
              "    }\n",
              "\n",
              "    .dataframe tbody tr th {\n",
              "        vertical-align: top;\n",
              "    }\n",
              "\n",
              "    .dataframe thead th {\n",
              "        text-align: right;\n",
              "    }\n",
              "</style>\n",
              "<table border=\"1\" class=\"dataframe\">\n",
              "  <thead>\n",
              "    <tr style=\"text-align: right;\">\n",
              "      <th></th>\n",
              "      <th>recency</th>\n",
              "      <th>history_segment</th>\n",
              "      <th>history</th>\n",
              "      <th>mens</th>\n",
              "      <th>womens</th>\n",
              "      <th>zip_code</th>\n",
              "      <th>newbie</th>\n",
              "      <th>channel</th>\n",
              "      <th>segment</th>\n",
              "      <th>visit</th>\n",
              "      <th>conversion</th>\n",
              "      <th>spend</th>\n",
              "      <th>campaign_group</th>\n",
              "      <th>target_class</th>\n",
              "      <th>history_cluster</th>\n",
              "      <th>uplift_score</th>\n",
              "    </tr>\n",
              "  </thead>\n",
              "  <tbody>\n",
              "    <tr>\n",
              "      <th>0</th>\n",
              "      <td>10</td>\n",
              "      <td>2) $100 - $200</td>\n",
              "      <td>142.44</td>\n",
              "      <td>1</td>\n",
              "      <td>0</td>\n",
              "      <td>Surburban</td>\n",
              "      <td>0</td>\n",
              "      <td>Phone</td>\n",
              "      <td>Womens E-Mail</td>\n",
              "      <td>0</td>\n",
              "      <td>0</td>\n",
              "      <td>0.0</td>\n",
              "      <td>treatment</td>\n",
              "      <td>2</td>\n",
              "      <td>1</td>\n",
              "      <td>-0.280796</td>\n",
              "    </tr>\n",
              "    <tr>\n",
              "      <th>1</th>\n",
              "      <td>7</td>\n",
              "      <td>2) $100 - $200</td>\n",
              "      <td>180.65</td>\n",
              "      <td>0</td>\n",
              "      <td>1</td>\n",
              "      <td>Surburban</td>\n",
              "      <td>1</td>\n",
              "      <td>Web</td>\n",
              "      <td>Womens E-Mail</td>\n",
              "      <td>0</td>\n",
              "      <td>0</td>\n",
              "      <td>0.0</td>\n",
              "      <td>treatment</td>\n",
              "      <td>2</td>\n",
              "      <td>1</td>\n",
              "      <td>-0.305023</td>\n",
              "    </tr>\n",
              "    <tr>\n",
              "      <th>2</th>\n",
              "      <td>6</td>\n",
              "      <td>2) $100 - $200</td>\n",
              "      <td>134.83</td>\n",
              "      <td>0</td>\n",
              "      <td>1</td>\n",
              "      <td>Surburban</td>\n",
              "      <td>0</td>\n",
              "      <td>Phone</td>\n",
              "      <td>Womens E-Mail</td>\n",
              "      <td>1</td>\n",
              "      <td>0</td>\n",
              "      <td>0.0</td>\n",
              "      <td>treatment</td>\n",
              "      <td>2</td>\n",
              "      <td>1</td>\n",
              "      <td>-0.529048</td>\n",
              "    </tr>\n",
              "    <tr>\n",
              "      <th>3</th>\n",
              "      <td>1</td>\n",
              "      <td>3) $200 - $350</td>\n",
              "      <td>211.45</td>\n",
              "      <td>0</td>\n",
              "      <td>1</td>\n",
              "      <td>Urban</td>\n",
              "      <td>1</td>\n",
              "      <td>Phone</td>\n",
              "      <td>Womens E-Mail</td>\n",
              "      <td>0</td>\n",
              "      <td>0</td>\n",
              "      <td>0.0</td>\n",
              "      <td>treatment</td>\n",
              "      <td>2</td>\n",
              "      <td>1</td>\n",
              "      <td>-0.298311</td>\n",
              "    </tr>\n",
              "    <tr>\n",
              "      <th>4</th>\n",
              "      <td>9</td>\n",
              "      <td>2) $100 - $200</td>\n",
              "      <td>112.35</td>\n",
              "      <td>1</td>\n",
              "      <td>0</td>\n",
              "      <td>Rural</td>\n",
              "      <td>0</td>\n",
              "      <td>Web</td>\n",
              "      <td>Mens E-Mail</td>\n",
              "      <td>0</td>\n",
              "      <td>0</td>\n",
              "      <td>0.0</td>\n",
              "      <td>treatment</td>\n",
              "      <td>2</td>\n",
              "      <td>1</td>\n",
              "      <td>-0.297283</td>\n",
              "    </tr>\n",
              "    <tr>\n",
              "      <th>5</th>\n",
              "      <td>11</td>\n",
              "      <td>3) $200 - $350</td>\n",
              "      <td>219.04</td>\n",
              "      <td>1</td>\n",
              "      <td>1</td>\n",
              "      <td>Surburban</td>\n",
              "      <td>0</td>\n",
              "      <td>Phone</td>\n",
              "      <td>Mens E-Mail</td>\n",
              "      <td>0</td>\n",
              "      <td>0</td>\n",
              "      <td>0.0</td>\n",
              "      <td>treatment</td>\n",
              "      <td>2</td>\n",
              "      <td>1</td>\n",
              "      <td>-0.319971</td>\n",
              "    </tr>\n",
              "    <tr>\n",
              "      <th>6</th>\n",
              "      <td>11</td>\n",
              "      <td>2) $100 - $200</td>\n",
              "      <td>182.32</td>\n",
              "      <td>1</td>\n",
              "      <td>0</td>\n",
              "      <td>Surburban</td>\n",
              "      <td>0</td>\n",
              "      <td>Phone</td>\n",
              "      <td>Mens E-Mail</td>\n",
              "      <td>0</td>\n",
              "      <td>0</td>\n",
              "      <td>0.0</td>\n",
              "      <td>treatment</td>\n",
              "      <td>2</td>\n",
              "      <td>1</td>\n",
              "      <td>-0.307696</td>\n",
              "    </tr>\n",
              "    <tr>\n",
              "      <th>7</th>\n",
              "      <td>2</td>\n",
              "      <td>2) $100 - $200</td>\n",
              "      <td>118.40</td>\n",
              "      <td>1</td>\n",
              "      <td>0</td>\n",
              "      <td>Surburban</td>\n",
              "      <td>0</td>\n",
              "      <td>Web</td>\n",
              "      <td>Mens E-Mail</td>\n",
              "      <td>1</td>\n",
              "      <td>0</td>\n",
              "      <td>0.0</td>\n",
              "      <td>treatment</td>\n",
              "      <td>2</td>\n",
              "      <td>1</td>\n",
              "      <td>-0.463361</td>\n",
              "    </tr>\n",
              "    <tr>\n",
              "      <th>8</th>\n",
              "      <td>6</td>\n",
              "      <td>2) $100 - $200</td>\n",
              "      <td>139.87</td>\n",
              "      <td>0</td>\n",
              "      <td>1</td>\n",
              "      <td>Rural</td>\n",
              "      <td>1</td>\n",
              "      <td>Web</td>\n",
              "      <td>Mens E-Mail</td>\n",
              "      <td>0</td>\n",
              "      <td>0</td>\n",
              "      <td>0.0</td>\n",
              "      <td>treatment</td>\n",
              "      <td>2</td>\n",
              "      <td>1</td>\n",
              "      <td>-0.287396</td>\n",
              "    </tr>\n",
              "    <tr>\n",
              "      <th>9</th>\n",
              "      <td>12</td>\n",
              "      <td>2) $100 - $200</td>\n",
              "      <td>115.39</td>\n",
              "      <td>0</td>\n",
              "      <td>1</td>\n",
              "      <td>Surburban</td>\n",
              "      <td>0</td>\n",
              "      <td>Phone</td>\n",
              "      <td>Mens E-Mail</td>\n",
              "      <td>1</td>\n",
              "      <td>0</td>\n",
              "      <td>0.0</td>\n",
              "      <td>treatment</td>\n",
              "      <td>2</td>\n",
              "      <td>1</td>\n",
              "      <td>-0.571516</td>\n",
              "    </tr>\n",
              "    <tr>\n",
              "      <th>10</th>\n",
              "      <td>6</td>\n",
              "      <td>2) $100 - $200</td>\n",
              "      <td>162.98</td>\n",
              "      <td>0</td>\n",
              "      <td>1</td>\n",
              "      <td>Surburban</td>\n",
              "      <td>0</td>\n",
              "      <td>Web</td>\n",
              "      <td>Mens E-Mail</td>\n",
              "      <td>0</td>\n",
              "      <td>0</td>\n",
              "      <td>0.0</td>\n",
              "      <td>treatment</td>\n",
              "      <td>2</td>\n",
              "      <td>1</td>\n",
              "      <td>-0.295986</td>\n",
              "    </tr>\n",
              "    <tr>\n",
              "      <th>11</th>\n",
              "      <td>2</td>\n",
              "      <td>3) $200 - $350</td>\n",
              "      <td>203.35</td>\n",
              "      <td>1</td>\n",
              "      <td>0</td>\n",
              "      <td>Rural</td>\n",
              "      <td>0</td>\n",
              "      <td>Web</td>\n",
              "      <td>No E-Mail</td>\n",
              "      <td>0</td>\n",
              "      <td>0</td>\n",
              "      <td>0.0</td>\n",
              "      <td>control</td>\n",
              "      <td>0</td>\n",
              "      <td>1</td>\n",
              "      <td>-0.305952</td>\n",
              "    </tr>\n",
              "    <tr>\n",
              "      <th>12</th>\n",
              "      <td>6</td>\n",
              "      <td>2) $100 - $200</td>\n",
              "      <td>128.01</td>\n",
              "      <td>0</td>\n",
              "      <td>1</td>\n",
              "      <td>Urban</td>\n",
              "      <td>0</td>\n",
              "      <td>Web</td>\n",
              "      <td>Mens E-Mail</td>\n",
              "      <td>0</td>\n",
              "      <td>0</td>\n",
              "      <td>0.0</td>\n",
              "      <td>treatment</td>\n",
              "      <td>2</td>\n",
              "      <td>1</td>\n",
              "      <td>-0.296048</td>\n",
              "    </tr>\n",
              "    <tr>\n",
              "      <th>13</th>\n",
              "      <td>4</td>\n",
              "      <td>3) $200 - $350</td>\n",
              "      <td>218.72</td>\n",
              "      <td>0</td>\n",
              "      <td>1</td>\n",
              "      <td>Urban</td>\n",
              "      <td>0</td>\n",
              "      <td>Multichannel</td>\n",
              "      <td>Womens E-Mail</td>\n",
              "      <td>0</td>\n",
              "      <td>0</td>\n",
              "      <td>0.0</td>\n",
              "      <td>treatment</td>\n",
              "      <td>2</td>\n",
              "      <td>1</td>\n",
              "      <td>-0.308986</td>\n",
              "    </tr>\n",
              "    <tr>\n",
              "      <th>14</th>\n",
              "      <td>9</td>\n",
              "      <td>3) $200 - $350</td>\n",
              "      <td>204.18</td>\n",
              "      <td>0</td>\n",
              "      <td>1</td>\n",
              "      <td>Surburban</td>\n",
              "      <td>0</td>\n",
              "      <td>Web</td>\n",
              "      <td>Womens E-Mail</td>\n",
              "      <td>0</td>\n",
              "      <td>0</td>\n",
              "      <td>0.0</td>\n",
              "      <td>treatment</td>\n",
              "      <td>2</td>\n",
              "      <td>1</td>\n",
              "      <td>-0.308979</td>\n",
              "    </tr>\n",
              "    <tr>\n",
              "      <th>15</th>\n",
              "      <td>3</td>\n",
              "      <td>2) $100 - $200</td>\n",
              "      <td>134.59</td>\n",
              "      <td>1</td>\n",
              "      <td>0</td>\n",
              "      <td>Urban</td>\n",
              "      <td>1</td>\n",
              "      <td>Phone</td>\n",
              "      <td>Womens E-Mail</td>\n",
              "      <td>1</td>\n",
              "      <td>0</td>\n",
              "      <td>0.0</td>\n",
              "      <td>treatment</td>\n",
              "      <td>2</td>\n",
              "      <td>1</td>\n",
              "      <td>-0.530077</td>\n",
              "    </tr>\n",
              "    <tr>\n",
              "      <th>16</th>\n",
              "      <td>3</td>\n",
              "      <td>3) $200 - $350</td>\n",
              "      <td>203.30</td>\n",
              "      <td>0</td>\n",
              "      <td>1</td>\n",
              "      <td>Surburban</td>\n",
              "      <td>0</td>\n",
              "      <td>Web</td>\n",
              "      <td>No E-Mail</td>\n",
              "      <td>0</td>\n",
              "      <td>0</td>\n",
              "      <td>0.0</td>\n",
              "      <td>control</td>\n",
              "      <td>0</td>\n",
              "      <td>1</td>\n",
              "      <td>-0.310014</td>\n",
              "    </tr>\n",
              "    <tr>\n",
              "      <th>17</th>\n",
              "      <td>9</td>\n",
              "      <td>2) $100 - $200</td>\n",
              "      <td>185.43</td>\n",
              "      <td>1</td>\n",
              "      <td>0</td>\n",
              "      <td>Urban</td>\n",
              "      <td>0</td>\n",
              "      <td>Web</td>\n",
              "      <td>Mens E-Mail</td>\n",
              "      <td>0</td>\n",
              "      <td>0</td>\n",
              "      <td>0.0</td>\n",
              "      <td>treatment</td>\n",
              "      <td>2</td>\n",
              "      <td>1</td>\n",
              "      <td>-0.293217</td>\n",
              "    </tr>\n",
              "    <tr>\n",
              "      <th>18</th>\n",
              "      <td>12</td>\n",
              "      <td>2) $100 - $200</td>\n",
              "      <td>150.06</td>\n",
              "      <td>0</td>\n",
              "      <td>1</td>\n",
              "      <td>Surburban</td>\n",
              "      <td>0</td>\n",
              "      <td>Phone</td>\n",
              "      <td>No E-Mail</td>\n",
              "      <td>0</td>\n",
              "      <td>0</td>\n",
              "      <td>0.0</td>\n",
              "      <td>control</td>\n",
              "      <td>0</td>\n",
              "      <td>1</td>\n",
              "      <td>-0.304752</td>\n",
              "    </tr>\n",
              "    <tr>\n",
              "      <th>19</th>\n",
              "      <td>3</td>\n",
              "      <td>2) $100 - $200</td>\n",
              "      <td>143.93</td>\n",
              "      <td>0</td>\n",
              "      <td>1</td>\n",
              "      <td>Surburban</td>\n",
              "      <td>0</td>\n",
              "      <td>Phone</td>\n",
              "      <td>Womens E-Mail</td>\n",
              "      <td>0</td>\n",
              "      <td>0</td>\n",
              "      <td>0.0</td>\n",
              "      <td>treatment</td>\n",
              "      <td>2</td>\n",
              "      <td>1</td>\n",
              "      <td>-0.277710</td>\n",
              "    </tr>\n",
              "  </tbody>\n",
              "</table>\n",
              "</div>"
            ],
            "text/plain": [
              "    recency history_segment  ...  history_cluster  uplift_score\n",
              "0        10  2) $100 - $200  ...                1     -0.280796\n",
              "1         7  2) $100 - $200  ...                1     -0.305023\n",
              "2         6  2) $100 - $200  ...                1     -0.529048\n",
              "3         1  3) $200 - $350  ...                1     -0.298311\n",
              "4         9  2) $100 - $200  ...                1     -0.297283\n",
              "5        11  3) $200 - $350  ...                1     -0.319971\n",
              "6        11  2) $100 - $200  ...                1     -0.307696\n",
              "7         2  2) $100 - $200  ...                1     -0.463361\n",
              "8         6  2) $100 - $200  ...                1     -0.287396\n",
              "9        12  2) $100 - $200  ...                1     -0.571516\n",
              "10        6  2) $100 - $200  ...                1     -0.295986\n",
              "11        2  3) $200 - $350  ...                1     -0.305952\n",
              "12        6  2) $100 - $200  ...                1     -0.296048\n",
              "13        4  3) $200 - $350  ...                1     -0.308986\n",
              "14        9  3) $200 - $350  ...                1     -0.308979\n",
              "15        3  2) $100 - $200  ...                1     -0.530077\n",
              "16        3  3) $200 - $350  ...                1     -0.310014\n",
              "17        9  2) $100 - $200  ...                1     -0.293217\n",
              "18       12  2) $100 - $200  ...                1     -0.304752\n",
              "19        3  2) $100 - $200  ...                1     -0.277710\n",
              "\n",
              "[20 rows x 16 columns]"
            ]
          },
          "metadata": {
            "tags": []
          },
          "execution_count": 16
        }
      ]
    },
    {
      "cell_type": "markdown",
      "metadata": {
        "id": "hJGs1OFPAGXG"
      },
      "source": [
        "**2.5  Select the customers with High Uplift Score as below:**\n",
        "    \n",
        "**High Uplift Score:** Customers have uplift score > 3rd quantile\n",
        "\n",
        "**a. Calculate the ratio of the customers targeted with Womens e-mail that have high uplift score over the total customers who received emails featuring Womens merchandise. (0.5 points)**\n",
        "\n",
        "**b. Calculate the ratio of the customers targeted with Mens e-mail that have high uplift score over the total customers who received emails featuring Mens merchandise. (0.5 points)**\n",
        "\n",
        "\n",
        "**c.Which one of the campaigns would you say is more successful ? (0.5 points)**\n"
      ]
    },
    {
      "cell_type": "code",
      "metadata": {
        "colab": {
          "base_uri": "https://localhost:8080/"
        },
        "id": "evRfbgDtV4GS",
        "outputId": "ca6f1f56-a290-465f-bc3a-640d270584c6"
      },
      "source": [
        "df2 = pd.read_csv(\"https://raw.githubusercontent.com/RonyEmam/data/main/email_marketing.csv\", sep=\",\")\n",
        "df2.head()\n",
        "calc_uplift(df2)"
      ],
      "execution_count": null,
      "outputs": [
        {
          "output_type": "stream",
          "text": [
            "Total Targeted Customer Count: 21307\n",
            "Mens Conversion Uplift: 0.68%\n",
            "Mens Order Uplift: 144.99\n",
            "Mens Revenue Uplift: $3624.86\n",
            "\n",
            "-------------- \n",
            "\n",
            "Total Targeted Customer Count: 21387\n",
            "Womens Conversion Uplift: 0.31%\n",
            "Womens Order Uplift: 66.54\n",
            "Womens Revenue Uplift: $1663.4\n"
          ],
          "name": "stdout"
        }
      ]
    },
    {
      "cell_type": "markdown",
      "metadata": {
        "id": "DzQIPDlUAGXH"
      },
      "source": [
        "<font color='red'> **Answer C: The campiage that's related to the men is definately more successful than the campaign that's related to women. As the total revenue of men campagin is around $3624.86 which is almost twice the women campaign. Although the number of customers is so close to each other. But we witness total uplift and revenue as twice as the women audiance.**"
      ]
    },
    {
      "cell_type": "markdown",
      "metadata": {
        "id": "k5xdB9vxAGXH"
      },
      "source": [
        "**2.6 For customers in the segment named \"Womens e-mail\" with high uplift score calculate conversion uplift and revenue uplift. Compare it with the benchmark from excercise 2.1 and draw conclusions. (0.5 points)**"
      ]
    },
    {
      "cell_type": "code",
      "metadata": {
        "id": "7KLtrYHwAGXI",
        "colab": {
          "base_uri": "https://localhost:8080/"
        },
        "outputId": "4fcecce5-37b4-4b9c-eb43-9d311235f16e"
      },
      "source": [
        "df_lift = df.copy()\n",
        "uplift_q_75 = df_lift.uplift_score.quantile(0.75)\n",
        "df_lift = df_lift[(df_lift.segment != 'Mens E-Mail') & (df_lift.uplift_score > uplift_q_75)].reset_index(drop=True)\n",
        "\n",
        "\n",
        "#calculate the uplift\n",
        "calc_uplift(df_lift)"
      ],
      "execution_count": null,
      "outputs": [
        {
          "output_type": "stream",
          "text": [
            "Total Targeted Customer Count: 0\n",
            "Mens Conversion Uplift: nan%\n",
            "Mens Order Uplift: nan\n",
            "Mens Revenue Uplift: $nan\n",
            "\n",
            "-------------- \n",
            "\n",
            "Total Targeted Customer Count: 5023\n",
            "Womens Conversion Uplift: 1.76%\n",
            "Womens Order Uplift: 88.19\n",
            "Womens Revenue Uplift: $2204.75\n"
          ],
          "name": "stdout"
        }
      ]
    },
    {
      "cell_type": "code",
      "metadata": {
        "colab": {
          "base_uri": "https://localhost:8080/"
        },
        "id": "IIw2mUbpYJ1t",
        "outputId": "b7d47f84-ca77-4f80-9bd3-fad0f91af11f"
      },
      "source": [
        "df_lift = df.copy()\n",
        "uplift_q_5 = df_lift.uplift_score.quantile(0.5)\n",
        "\n",
        "df_data_lift = df_lift[(df_lift.segment != 'Mens E-Mail') & (df_lift.uplift_score < uplift_q_5)].reset_index(drop=True)\n",
        "\n",
        "#calculate the uplift\n",
        "calc_uplift(df_data_lift)"
      ],
      "execution_count": null,
      "outputs": [
        {
          "output_type": "stream",
          "text": [
            "Total Targeted Customer Count: 0\n",
            "Mens Conversion Uplift: nan%\n",
            "Mens Order Uplift: nan\n",
            "Mens Revenue Uplift: $nan\n",
            "\n",
            "-------------- \n",
            "\n",
            "Total Targeted Customer Count: 11037\n",
            "Womens Conversion Uplift: 0.0%\n",
            "Womens Order Uplift: 0.0\n",
            "Womens Revenue Uplift: $0.0\n"
          ],
          "name": "stdout"
        }
      ]
    },
    {
      "cell_type": "markdown",
      "metadata": {
        "id": "81zo5gSsAGXI"
      },
      "source": [
        "<font color='red'> **Answer:As a conclusion, Women's benchmark uplift is slightly above the 0.75 quantile so it's considered to be high uplift. But it doesn't record any numbers as a low uplift.**"
      ]
    },
    {
      "cell_type": "markdown",
      "metadata": {
        "id": "JFyyt8arAGXI"
      },
      "source": [
        "## How long did it take you to solve the homework?\n",
        "\n",
        "* Please answer as precisely as you can. It does not affect your points or grade in any way. It is okay, if it took 0.5 hours or 24 hours. The collected information will be used to improve future homeworks.\n",
        "\n",
        "<font color='red'> **Answer: X hours**</font>\n",
        "\n",
        "\n",
        "## What is the level of difficulty for this homework?\n",
        "you can put only number between $0:10$ ($0:$ easy, $10:$ difficult)\n",
        "\n",
        "<font color='red'> **Answer:**</font>"
      ]
    }
  ]
}